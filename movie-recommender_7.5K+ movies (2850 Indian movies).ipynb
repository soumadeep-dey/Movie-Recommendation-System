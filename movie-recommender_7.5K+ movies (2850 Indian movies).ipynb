{
 "cells": [
  {
   "cell_type": "markdown",
   "id": "af4e9fd7-d0b9-41aa-99ca-b3c757bc5ff7",
   "metadata": {},
   "source": [
    "# Libraries (Pandas, Numpy)"
   ]
  },
  {
   "cell_type": "code",
   "execution_count": 1,
   "id": "7a476248-3ed0-46ca-87e8-1f7dc0083646",
   "metadata": {},
   "outputs": [],
   "source": [
    "import numpy as np\n",
    "import pandas as pd\n",
    "pd.options.mode.chained_assignment = None # default='warn' SettingWithCopyWarning"
   ]
  },
  {
   "cell_type": "markdown",
   "id": "e77b2589-871d-4c11-86be-d595ebef52a2",
   "metadata": {},
   "source": [
    "# Data Collection"
   ]
  },
  {
   "cell_type": "code",
   "execution_count": 2,
   "id": "1df15da1-bd45-42d2-b174-b61cfeb6874d",
   "metadata": {},
   "outputs": [],
   "source": [
    "movies = pd.read_csv('data/dataset/tmdb_5000_movies.csv')\n",
    "credits = pd.read_csv('data/dataset/tmdb_5000_credits.csv')"
   ]
  },
  {
   "cell_type": "code",
   "execution_count": 3,
   "id": "84cc2752-2404-450b-96b5-06a6c2faf1b7",
   "metadata": {},
   "outputs": [
    {
     "data": {
      "text/html": [
       "<div>\n",
       "<style scoped>\n",
       "    .dataframe tbody tr th:only-of-type {\n",
       "        vertical-align: middle;\n",
       "    }\n",
       "\n",
       "    .dataframe tbody tr th {\n",
       "        vertical-align: top;\n",
       "    }\n",
       "\n",
       "    .dataframe thead th {\n",
       "        text-align: right;\n",
       "    }\n",
       "</style>\n",
       "<table border=\"1\" class=\"dataframe\">\n",
       "  <thead>\n",
       "    <tr style=\"text-align: right;\">\n",
       "      <th></th>\n",
       "      <th>budget</th>\n",
       "      <th>genres</th>\n",
       "      <th>homepage</th>\n",
       "      <th>id</th>\n",
       "      <th>keywords</th>\n",
       "      <th>original_language</th>\n",
       "      <th>original_title</th>\n",
       "      <th>overview</th>\n",
       "      <th>popularity</th>\n",
       "      <th>production_companies</th>\n",
       "      <th>production_countries</th>\n",
       "      <th>release_date</th>\n",
       "      <th>revenue</th>\n",
       "      <th>runtime</th>\n",
       "      <th>spoken_languages</th>\n",
       "      <th>status</th>\n",
       "      <th>tagline</th>\n",
       "      <th>title</th>\n",
       "      <th>vote_average</th>\n",
       "      <th>vote_count</th>\n",
       "    </tr>\n",
       "  </thead>\n",
       "  <tbody>\n",
       "    <tr>\n",
       "      <th>0</th>\n",
       "      <td>237000000</td>\n",
       "      <td>[{\"id\": 28, \"name\": \"Action\"}, {\"id\": 12, \"nam...</td>\n",
       "      <td>http://www.avatarmovie.com/</td>\n",
       "      <td>19995</td>\n",
       "      <td>[{\"id\": 1463, \"name\": \"culture clash\"}, {\"id\":...</td>\n",
       "      <td>en</td>\n",
       "      <td>Avatar</td>\n",
       "      <td>In the 22nd century, a paraplegic Marine is di...</td>\n",
       "      <td>150.437577</td>\n",
       "      <td>[{\"name\": \"Ingenious Film Partners\", \"id\": 289...</td>\n",
       "      <td>[{\"iso_3166_1\": \"US\", \"name\": \"United States o...</td>\n",
       "      <td>2009-12-10</td>\n",
       "      <td>2787965087</td>\n",
       "      <td>162.0</td>\n",
       "      <td>[{\"iso_639_1\": \"en\", \"name\": \"English\"}, {\"iso...</td>\n",
       "      <td>Released</td>\n",
       "      <td>Enter the World of Pandora.</td>\n",
       "      <td>Avatar</td>\n",
       "      <td>7.2</td>\n",
       "      <td>11800</td>\n",
       "    </tr>\n",
       "  </tbody>\n",
       "</table>\n",
       "</div>"
      ],
      "text/plain": [
       "      budget                                             genres  \\\n",
       "0  237000000  [{\"id\": 28, \"name\": \"Action\"}, {\"id\": 12, \"nam...   \n",
       "\n",
       "                      homepage     id  \\\n",
       "0  http://www.avatarmovie.com/  19995   \n",
       "\n",
       "                                            keywords original_language  \\\n",
       "0  [{\"id\": 1463, \"name\": \"culture clash\"}, {\"id\":...                en   \n",
       "\n",
       "  original_title                                           overview  \\\n",
       "0         Avatar  In the 22nd century, a paraplegic Marine is di...   \n",
       "\n",
       "   popularity                               production_companies  \\\n",
       "0  150.437577  [{\"name\": \"Ingenious Film Partners\", \"id\": 289...   \n",
       "\n",
       "                                production_countries release_date     revenue  \\\n",
       "0  [{\"iso_3166_1\": \"US\", \"name\": \"United States o...   2009-12-10  2787965087   \n",
       "\n",
       "   runtime                                   spoken_languages    status  \\\n",
       "0    162.0  [{\"iso_639_1\": \"en\", \"name\": \"English\"}, {\"iso...  Released   \n",
       "\n",
       "                       tagline   title  vote_average  vote_count  \n",
       "0  Enter the World of Pandora.  Avatar           7.2       11800  "
      ]
     },
     "execution_count": 3,
     "metadata": {},
     "output_type": "execute_result"
    }
   ],
   "source": [
    "movies.head(1)"
   ]
  },
  {
   "cell_type": "code",
   "execution_count": 4,
   "id": "3799d899-0236-4e84-9041-24963b08b4da",
   "metadata": {},
   "outputs": [
    {
     "data": {
      "text/html": [
       "<div>\n",
       "<style scoped>\n",
       "    .dataframe tbody tr th:only-of-type {\n",
       "        vertical-align: middle;\n",
       "    }\n",
       "\n",
       "    .dataframe tbody tr th {\n",
       "        vertical-align: top;\n",
       "    }\n",
       "\n",
       "    .dataframe thead th {\n",
       "        text-align: right;\n",
       "    }\n",
       "</style>\n",
       "<table border=\"1\" class=\"dataframe\">\n",
       "  <thead>\n",
       "    <tr style=\"text-align: right;\">\n",
       "      <th></th>\n",
       "      <th>movie_id</th>\n",
       "      <th>title</th>\n",
       "      <th>cast</th>\n",
       "      <th>crew</th>\n",
       "    </tr>\n",
       "  </thead>\n",
       "  <tbody>\n",
       "    <tr>\n",
       "      <th>0</th>\n",
       "      <td>19995</td>\n",
       "      <td>Avatar</td>\n",
       "      <td>[{\"cast_id\": 242, \"character\": \"Jake Sully\", \"...</td>\n",
       "      <td>[{\"credit_id\": \"52fe48009251416c750aca23\", \"de...</td>\n",
       "    </tr>\n",
       "  </tbody>\n",
       "</table>\n",
       "</div>"
      ],
      "text/plain": [
       "   movie_id   title                                               cast  \\\n",
       "0     19995  Avatar  [{\"cast_id\": 242, \"character\": \"Jake Sully\", \"...   \n",
       "\n",
       "                                                crew  \n",
       "0  [{\"credit_id\": \"52fe48009251416c750aca23\", \"de...  "
      ]
     },
     "execution_count": 4,
     "metadata": {},
     "output_type": "execute_result"
    }
   ],
   "source": [
    "credits.head(1)"
   ]
  },
  {
   "cell_type": "markdown",
   "id": "2b89c071-b4c2-4279-b7c0-87dba01f67d7",
   "metadata": {},
   "source": [
    "#### Indian movie"
   ]
  },
  {
   "cell_type": "code",
   "execution_count": 5,
   "id": "b568543c-10f6-4f40-bdbc-05b47f469e28",
   "metadata": {},
   "outputs": [],
   "source": [
    "in_movies = pd.read_csv('data/dataset/indian_movies_2850.csv')"
   ]
  },
  {
   "cell_type": "code",
   "execution_count": 6,
   "id": "c2fb7e68-91d9-4432-8dba-820935867a34",
   "metadata": {},
   "outputs": [
    {
     "data": {
      "text/html": [
       "<div>\n",
       "<style scoped>\n",
       "    .dataframe tbody tr th:only-of-type {\n",
       "        vertical-align: middle;\n",
       "    }\n",
       "\n",
       "    .dataframe tbody tr th {\n",
       "        vertical-align: top;\n",
       "    }\n",
       "\n",
       "    .dataframe thead th {\n",
       "        text-align: right;\n",
       "    }\n",
       "</style>\n",
       "<table border=\"1\" class=\"dataframe\">\n",
       "  <thead>\n",
       "    <tr style=\"text-align: right;\">\n",
       "      <th></th>\n",
       "      <th>movie_id</th>\n",
       "      <th>description</th>\n",
       "      <th>language</th>\n",
       "      <th>released</th>\n",
       "      <th>rating</th>\n",
       "      <th>writer</th>\n",
       "      <th>director</th>\n",
       "      <th>cast</th>\n",
       "      <th>genre</th>\n",
       "      <th>name</th>\n",
       "    </tr>\n",
       "  </thead>\n",
       "  <tbody>\n",
       "    <tr>\n",
       "      <th>0</th>\n",
       "      <td>tt5286444</td>\n",
       "      <td>Neerja is the story of the courageous Neerja B...</td>\n",
       "      <td>[ \"Hindi\" ]</td>\n",
       "      <td>2016-02-19T00:00:00.000Z</td>\n",
       "      <td>7.9</td>\n",
       "      <td>[ \"Saiwyn Quadras\", \"Sanyukta Shaikh Chawla\" ]</td>\n",
       "      <td>[ \"Ram Madhvani\" ]</td>\n",
       "      <td>[ \"Sonam Kapoor\", \"Shabana Azmi\", \"Yogendra Ti...</td>\n",
       "      <td>[ \"Biography\", \"Drama\", \"Thriller\" ]</td>\n",
       "      <td>Neerja</td>\n",
       "    </tr>\n",
       "    <tr>\n",
       "      <th>1</th>\n",
       "      <td>tt4434004</td>\n",
       "      <td>A story that revolves around drug abuse in the...</td>\n",
       "      <td>[ \"Hindi\", \"Panjabi\" ]</td>\n",
       "      <td>2016-06-17T00:00:00.000Z</td>\n",
       "      <td>7.9</td>\n",
       "      <td>[ \"Sudip Sharma\", \"Abhishek Chaubey\" ]</td>\n",
       "      <td>[ \"Abhishek Chaubey\" ]</td>\n",
       "      <td>[ \"Alia Bhatt\", \"Shahid Kapoor\", \"Diljit Dosan...</td>\n",
       "      <td>[ \"Crime\", \"Drama\", \"Thriller\" ]</td>\n",
       "      <td>Udta Punjab</td>\n",
       "    </tr>\n",
       "    <tr>\n",
       "      <th>2</th>\n",
       "      <td>tt0248126</td>\n",
       "      <td>Yashvardhan Raichand lives a very wealthy life...</td>\n",
       "      <td>[ \"Hindi\", \"English\", \"Urdu\" ]</td>\n",
       "      <td>2001-12-14T00:00:00.000Z</td>\n",
       "      <td>7.5</td>\n",
       "      <td>[ \"Karan Johar\", \"Sheena Parikh\" ]</td>\n",
       "      <td>[ \"Karan Johar\" ]</td>\n",
       "      <td>[ \"Amitabh Bachchan\", \"Jaya Bhaduri\", \"Shah Ru...</td>\n",
       "      <td>[ \"Drama\", \"Musical\", \"Romance\" ]</td>\n",
       "      <td>Kabhi Khushi Kabhie Gham...</td>\n",
       "    </tr>\n",
       "    <tr>\n",
       "      <th>3</th>\n",
       "      <td>tt0347304</td>\n",
       "      <td>Naina, an introverted, perpetually depressed g...</td>\n",
       "      <td>[ \"Hindi\", \"Urdu\", \"Gujarati\", \"Panjabi\" ]</td>\n",
       "      <td>2003-11-28T00:00:00.000Z</td>\n",
       "      <td>8.0</td>\n",
       "      <td>[ \"Niranjan Iyengar\", \"Karan Johar\" ]</td>\n",
       "      <td>[ \"Nikkhil Advani\" ]</td>\n",
       "      <td>[ \"Shah Rukh Khan\", \"Preity Zinta\", \"Saif Ali ...</td>\n",
       "      <td>[ \"Comedy\", \"Drama\", \"Romance\" ]</td>\n",
       "      <td>Kal Ho Naa Ho</td>\n",
       "    </tr>\n",
       "    <tr>\n",
       "      <th>4</th>\n",
       "      <td>tt3043252</td>\n",
       "      <td>'Parched' is a story about women set in the he...</td>\n",
       "      <td>[ \"Hindi\", \"English\" ]</td>\n",
       "      <td>2016-06-17T00:00:00.000Z</td>\n",
       "      <td>7.6</td>\n",
       "      <td>[ \"Supratik Sen\", \"Leena Yadav\" ]</td>\n",
       "      <td>[ \"Leena Yadav\" ]</td>\n",
       "      <td>[ \"Tannishtha Chatterjee\", \"Radhika Apte\", \"Le...</td>\n",
       "      <td>[ \"Drama\" ]</td>\n",
       "      <td>Parched</td>\n",
       "    </tr>\n",
       "    <tr>\n",
       "      <th>...</th>\n",
       "      <td>...</td>\n",
       "      <td>...</td>\n",
       "      <td>...</td>\n",
       "      <td>...</td>\n",
       "      <td>...</td>\n",
       "      <td>...</td>\n",
       "      <td>...</td>\n",
       "      <td>...</td>\n",
       "      <td>...</td>\n",
       "      <td>...</td>\n",
       "    </tr>\n",
       "    <tr>\n",
       "      <th>2845</th>\n",
       "      <td>tt0308793</td>\n",
       "      <td>NaN</td>\n",
       "      <td>[ \"Kannada\" ]</td>\n",
       "      <td>NaN</td>\n",
       "      <td>7.7</td>\n",
       "      <td>[]</td>\n",
       "      <td>[ \"V. Ravichandran\" ]</td>\n",
       "      <td>[ \"V. Ravichandran\", \"Kushboo\", \"Anant Nag\", \"...</td>\n",
       "      <td>[ \"Crime\" ]</td>\n",
       "      <td>Ranadheera</td>\n",
       "    </tr>\n",
       "    <tr>\n",
       "      <th>2846</th>\n",
       "      <td>tt3006508</td>\n",
       "      <td>NaN</td>\n",
       "      <td>[ \"Kannada\" ]</td>\n",
       "      <td>2013-02-22</td>\n",
       "      <td>7.7</td>\n",
       "      <td>[]</td>\n",
       "      <td>[ \"Nagashekar\" ]</td>\n",
       "      <td>[ \"Chethan Kumar\", \"Nithya Menon\", \"Sarath Kum...</td>\n",
       "      <td>[ \"Romance\" ]</td>\n",
       "      <td>Myna</td>\n",
       "    </tr>\n",
       "    <tr>\n",
       "      <th>2847</th>\n",
       "      <td>tt5348692</td>\n",
       "      <td>The plot is simple. Ranganna (Rangayana Raghu)...</td>\n",
       "      <td>[ \"Kannada\" ]</td>\n",
       "      <td>2013-11-29</td>\n",
       "      <td>7.7</td>\n",
       "      <td>[ \"Pc Shekhar\" ]</td>\n",
       "      <td>[ \"Pc Shekhar\" ]</td>\n",
       "      <td>[ \"Rangayana Raghu\", \"Sadhu Kokila\", \"Avinash\" ]</td>\n",
       "      <td>[ \"Comedy\", \"Drama\" ]</td>\n",
       "      <td>Chaddi Dosth</td>\n",
       "    </tr>\n",
       "    <tr>\n",
       "      <th>2848</th>\n",
       "      <td>tt3171754</td>\n",
       "      <td>NaN</td>\n",
       "      <td>[ \"Kannada\" ]</td>\n",
       "      <td>2013-12-27</td>\n",
       "      <td>7.6</td>\n",
       "      <td>[]</td>\n",
       "      <td>[ \"Manju Swaraj\" ]</td>\n",
       "      <td>[ \"Ganesh\", \"Amulya\", \"Anant Nag\", \"Tara\", \"Av...</td>\n",
       "      <td>[ \"Comedy\", \"Romance\" ]</td>\n",
       "      <td>Shravani Subramanya</td>\n",
       "    </tr>\n",
       "    <tr>\n",
       "      <th>2849</th>\n",
       "      <td>tt0231455</td>\n",
       "      <td>NaN</td>\n",
       "      <td>[ \"Kannada\" ]</td>\n",
       "      <td>NaN</td>\n",
       "      <td>7.5</td>\n",
       "      <td>[]</td>\n",
       "      <td>[ \"S.R. Puttana Kanagal\" ]</td>\n",
       "      <td>[]</td>\n",
       "      <td>[]</td>\n",
       "      <td>Dharmasere</td>\n",
       "    </tr>\n",
       "  </tbody>\n",
       "</table>\n",
       "<p>2850 rows × 10 columns</p>\n",
       "</div>"
      ],
      "text/plain": [
       "       movie_id                                        description  \\\n",
       "0     tt5286444  Neerja is the story of the courageous Neerja B...   \n",
       "1     tt4434004  A story that revolves around drug abuse in the...   \n",
       "2     tt0248126  Yashvardhan Raichand lives a very wealthy life...   \n",
       "3     tt0347304  Naina, an introverted, perpetually depressed g...   \n",
       "4     tt3043252  'Parched' is a story about women set in the he...   \n",
       "...         ...                                                ...   \n",
       "2845  tt0308793                                                NaN   \n",
       "2846  tt3006508                                                NaN   \n",
       "2847  tt5348692  The plot is simple. Ranganna (Rangayana Raghu)...   \n",
       "2848  tt3171754                                                NaN   \n",
       "2849  tt0231455                                                NaN   \n",
       "\n",
       "                                        language                  released  \\\n",
       "0                                    [ \"Hindi\" ]  2016-02-19T00:00:00.000Z   \n",
       "1                         [ \"Hindi\", \"Panjabi\" ]  2016-06-17T00:00:00.000Z   \n",
       "2                 [ \"Hindi\", \"English\", \"Urdu\" ]  2001-12-14T00:00:00.000Z   \n",
       "3     [ \"Hindi\", \"Urdu\", \"Gujarati\", \"Panjabi\" ]  2003-11-28T00:00:00.000Z   \n",
       "4                         [ \"Hindi\", \"English\" ]  2016-06-17T00:00:00.000Z   \n",
       "...                                          ...                       ...   \n",
       "2845                               [ \"Kannada\" ]                       NaN   \n",
       "2846                               [ \"Kannada\" ]                2013-02-22   \n",
       "2847                               [ \"Kannada\" ]                2013-11-29   \n",
       "2848                               [ \"Kannada\" ]                2013-12-27   \n",
       "2849                               [ \"Kannada\" ]                       NaN   \n",
       "\n",
       "      rating                                          writer  \\\n",
       "0        7.9  [ \"Saiwyn Quadras\", \"Sanyukta Shaikh Chawla\" ]   \n",
       "1        7.9          [ \"Sudip Sharma\", \"Abhishek Chaubey\" ]   \n",
       "2        7.5              [ \"Karan Johar\", \"Sheena Parikh\" ]   \n",
       "3        8.0           [ \"Niranjan Iyengar\", \"Karan Johar\" ]   \n",
       "4        7.6               [ \"Supratik Sen\", \"Leena Yadav\" ]   \n",
       "...      ...                                             ...   \n",
       "2845     7.7                                              []   \n",
       "2846     7.7                                              []   \n",
       "2847     7.7                                [ \"Pc Shekhar\" ]   \n",
       "2848     7.6                                              []   \n",
       "2849     7.5                                              []   \n",
       "\n",
       "                        director  \\\n",
       "0             [ \"Ram Madhvani\" ]   \n",
       "1         [ \"Abhishek Chaubey\" ]   \n",
       "2              [ \"Karan Johar\" ]   \n",
       "3           [ \"Nikkhil Advani\" ]   \n",
       "4              [ \"Leena Yadav\" ]   \n",
       "...                          ...   \n",
       "2845       [ \"V. Ravichandran\" ]   \n",
       "2846            [ \"Nagashekar\" ]   \n",
       "2847            [ \"Pc Shekhar\" ]   \n",
       "2848          [ \"Manju Swaraj\" ]   \n",
       "2849  [ \"S.R. Puttana Kanagal\" ]   \n",
       "\n",
       "                                                   cast  \\\n",
       "0     [ \"Sonam Kapoor\", \"Shabana Azmi\", \"Yogendra Ti...   \n",
       "1     [ \"Alia Bhatt\", \"Shahid Kapoor\", \"Diljit Dosan...   \n",
       "2     [ \"Amitabh Bachchan\", \"Jaya Bhaduri\", \"Shah Ru...   \n",
       "3     [ \"Shah Rukh Khan\", \"Preity Zinta\", \"Saif Ali ...   \n",
       "4     [ \"Tannishtha Chatterjee\", \"Radhika Apte\", \"Le...   \n",
       "...                                                 ...   \n",
       "2845  [ \"V. Ravichandran\", \"Kushboo\", \"Anant Nag\", \"...   \n",
       "2846  [ \"Chethan Kumar\", \"Nithya Menon\", \"Sarath Kum...   \n",
       "2847   [ \"Rangayana Raghu\", \"Sadhu Kokila\", \"Avinash\" ]   \n",
       "2848  [ \"Ganesh\", \"Amulya\", \"Anant Nag\", \"Tara\", \"Av...   \n",
       "2849                                                 []   \n",
       "\n",
       "                                     genre                         name  \n",
       "0     [ \"Biography\", \"Drama\", \"Thriller\" ]                       Neerja  \n",
       "1         [ \"Crime\", \"Drama\", \"Thriller\" ]                  Udta Punjab  \n",
       "2        [ \"Drama\", \"Musical\", \"Romance\" ]  Kabhi Khushi Kabhie Gham...  \n",
       "3         [ \"Comedy\", \"Drama\", \"Romance\" ]                Kal Ho Naa Ho  \n",
       "4                              [ \"Drama\" ]                      Parched  \n",
       "...                                    ...                          ...  \n",
       "2845                           [ \"Crime\" ]                   Ranadheera  \n",
       "2846                         [ \"Romance\" ]                         Myna  \n",
       "2847                 [ \"Comedy\", \"Drama\" ]                 Chaddi Dosth  \n",
       "2848               [ \"Comedy\", \"Romance\" ]          Shravani Subramanya  \n",
       "2849                                    []                   Dharmasere  \n",
       "\n",
       "[2850 rows x 10 columns]"
      ]
     },
     "execution_count": 6,
     "metadata": {},
     "output_type": "execute_result"
    }
   ],
   "source": [
    "in_movies"
   ]
  },
  {
   "cell_type": "markdown",
   "id": "11fe500a-ad48-4b22-8522-72e20b8a2a54",
   "metadata": {},
   "source": [
    "# Data Pre-processing"
   ]
  },
  {
   "cell_type": "markdown",
   "id": "b5659c35-7776-4948-a95a-d1fde5a8f1cf",
   "metadata": {},
   "source": [
    "## Merging Datasets\n",
    "<br/>\n",
    "Movies = 20 cols<br/>\n",
    "Credits = 4 cols<br/>\n",
    "Join on='Title'<br/>"
   ]
  },
  {
   "cell_type": "code",
   "execution_count": 7,
   "id": "4de765b0-86d4-4df3-9b02-4b5a384cccfc",
   "metadata": {},
   "outputs": [],
   "source": [
    "movies = movies.merge(credits, on='title')"
   ]
  },
  {
   "cell_type": "code",
   "execution_count": 8,
   "id": "017286a0-3dc0-4e1b-96c7-93884a37acba",
   "metadata": {},
   "outputs": [
    {
     "data": {
      "text/html": [
       "<div>\n",
       "<style scoped>\n",
       "    .dataframe tbody tr th:only-of-type {\n",
       "        vertical-align: middle;\n",
       "    }\n",
       "\n",
       "    .dataframe tbody tr th {\n",
       "        vertical-align: top;\n",
       "    }\n",
       "\n",
       "    .dataframe thead th {\n",
       "        text-align: right;\n",
       "    }\n",
       "</style>\n",
       "<table border=\"1\" class=\"dataframe\">\n",
       "  <thead>\n",
       "    <tr style=\"text-align: right;\">\n",
       "      <th></th>\n",
       "      <th>budget</th>\n",
       "      <th>genres</th>\n",
       "      <th>homepage</th>\n",
       "      <th>id</th>\n",
       "      <th>keywords</th>\n",
       "      <th>original_language</th>\n",
       "      <th>original_title</th>\n",
       "      <th>overview</th>\n",
       "      <th>popularity</th>\n",
       "      <th>production_companies</th>\n",
       "      <th>...</th>\n",
       "      <th>runtime</th>\n",
       "      <th>spoken_languages</th>\n",
       "      <th>status</th>\n",
       "      <th>tagline</th>\n",
       "      <th>title</th>\n",
       "      <th>vote_average</th>\n",
       "      <th>vote_count</th>\n",
       "      <th>movie_id</th>\n",
       "      <th>cast</th>\n",
       "      <th>crew</th>\n",
       "    </tr>\n",
       "  </thead>\n",
       "  <tbody>\n",
       "    <tr>\n",
       "      <th>0</th>\n",
       "      <td>237000000</td>\n",
       "      <td>[{\"id\": 28, \"name\": \"Action\"}, {\"id\": 12, \"nam...</td>\n",
       "      <td>http://www.avatarmovie.com/</td>\n",
       "      <td>19995</td>\n",
       "      <td>[{\"id\": 1463, \"name\": \"culture clash\"}, {\"id\":...</td>\n",
       "      <td>en</td>\n",
       "      <td>Avatar</td>\n",
       "      <td>In the 22nd century, a paraplegic Marine is di...</td>\n",
       "      <td>150.437577</td>\n",
       "      <td>[{\"name\": \"Ingenious Film Partners\", \"id\": 289...</td>\n",
       "      <td>...</td>\n",
       "      <td>162.0</td>\n",
       "      <td>[{\"iso_639_1\": \"en\", \"name\": \"English\"}, {\"iso...</td>\n",
       "      <td>Released</td>\n",
       "      <td>Enter the World of Pandora.</td>\n",
       "      <td>Avatar</td>\n",
       "      <td>7.2</td>\n",
       "      <td>11800</td>\n",
       "      <td>19995</td>\n",
       "      <td>[{\"cast_id\": 242, \"character\": \"Jake Sully\", \"...</td>\n",
       "      <td>[{\"credit_id\": \"52fe48009251416c750aca23\", \"de...</td>\n",
       "    </tr>\n",
       "  </tbody>\n",
       "</table>\n",
       "<p>1 rows × 23 columns</p>\n",
       "</div>"
      ],
      "text/plain": [
       "      budget                                             genres  \\\n",
       "0  237000000  [{\"id\": 28, \"name\": \"Action\"}, {\"id\": 12, \"nam...   \n",
       "\n",
       "                      homepage     id  \\\n",
       "0  http://www.avatarmovie.com/  19995   \n",
       "\n",
       "                                            keywords original_language  \\\n",
       "0  [{\"id\": 1463, \"name\": \"culture clash\"}, {\"id\":...                en   \n",
       "\n",
       "  original_title                                           overview  \\\n",
       "0         Avatar  In the 22nd century, a paraplegic Marine is di...   \n",
       "\n",
       "   popularity                               production_companies  ... runtime  \\\n",
       "0  150.437577  [{\"name\": \"Ingenious Film Partners\", \"id\": 289...  ...   162.0   \n",
       "\n",
       "                                    spoken_languages    status  \\\n",
       "0  [{\"iso_639_1\": \"en\", \"name\": \"English\"}, {\"iso...  Released   \n",
       "\n",
       "                       tagline   title vote_average vote_count movie_id  \\\n",
       "0  Enter the World of Pandora.  Avatar          7.2      11800    19995   \n",
       "\n",
       "                                                cast  \\\n",
       "0  [{\"cast_id\": 242, \"character\": \"Jake Sully\", \"...   \n",
       "\n",
       "                                                crew  \n",
       "0  [{\"credit_id\": \"52fe48009251416c750aca23\", \"de...  \n",
       "\n",
       "[1 rows x 23 columns]"
      ]
     },
     "execution_count": 8,
     "metadata": {},
     "output_type": "execute_result"
    }
   ],
   "source": [
    "movies.head(1)"
   ]
  },
  {
   "cell_type": "markdown",
   "id": "144ab964-b2bf-43d9-a9ef-41003268a87b",
   "metadata": {},
   "source": [
    "## Filtering Data\n",
    "**Columns required**\n",
    "\n",
    "1. genres <br>\n",
    "2. id <br>\n",
    "3. keywords (tags) <br>\n",
    "4. title <br>\n",
    "5. overview <br>\n",
    "6. cast <br>\n",
    "7. crew <br>\n"
   ]
  },
  {
   "cell_type": "code",
   "execution_count": 9,
   "id": "36af4d41-819a-4aa7-a72d-5640cdd9b2d3",
   "metadata": {},
   "outputs": [],
   "source": [
    "movies = movies[['movie_id','title','overview','genres','keywords','cast','crew']]"
   ]
  },
  {
   "cell_type": "code",
   "execution_count": 10,
   "id": "8682e937-b922-4a5f-ad53-5c3f7a4a1b15",
   "metadata": {},
   "outputs": [
    {
     "name": "stdout",
     "output_type": "stream",
     "text": [
      "<class 'pandas.core.frame.DataFrame'>\n",
      "RangeIndex: 4809 entries, 0 to 4808\n",
      "Data columns (total 7 columns):\n",
      " #   Column    Non-Null Count  Dtype \n",
      "---  ------    --------------  ----- \n",
      " 0   movie_id  4809 non-null   int64 \n",
      " 1   title     4809 non-null   object\n",
      " 2   overview  4806 non-null   object\n",
      " 3   genres    4809 non-null   object\n",
      " 4   keywords  4809 non-null   object\n",
      " 5   cast      4809 non-null   object\n",
      " 6   crew      4809 non-null   object\n",
      "dtypes: int64(1), object(6)\n",
      "memory usage: 263.1+ KB\n",
      "None\n"
     ]
    },
    {
     "data": {
      "text/html": [
       "<div>\n",
       "<style scoped>\n",
       "    .dataframe tbody tr th:only-of-type {\n",
       "        vertical-align: middle;\n",
       "    }\n",
       "\n",
       "    .dataframe tbody tr th {\n",
       "        vertical-align: top;\n",
       "    }\n",
       "\n",
       "    .dataframe thead th {\n",
       "        text-align: right;\n",
       "    }\n",
       "</style>\n",
       "<table border=\"1\" class=\"dataframe\">\n",
       "  <thead>\n",
       "    <tr style=\"text-align: right;\">\n",
       "      <th></th>\n",
       "      <th>movie_id</th>\n",
       "      <th>title</th>\n",
       "      <th>overview</th>\n",
       "      <th>genres</th>\n",
       "      <th>keywords</th>\n",
       "      <th>cast</th>\n",
       "      <th>crew</th>\n",
       "    </tr>\n",
       "  </thead>\n",
       "  <tbody>\n",
       "    <tr>\n",
       "      <th>0</th>\n",
       "      <td>19995</td>\n",
       "      <td>Avatar</td>\n",
       "      <td>In the 22nd century, a paraplegic Marine is di...</td>\n",
       "      <td>[{\"id\": 28, \"name\": \"Action\"}, {\"id\": 12, \"nam...</td>\n",
       "      <td>[{\"id\": 1463, \"name\": \"culture clash\"}, {\"id\":...</td>\n",
       "      <td>[{\"cast_id\": 242, \"character\": \"Jake Sully\", \"...</td>\n",
       "      <td>[{\"credit_id\": \"52fe48009251416c750aca23\", \"de...</td>\n",
       "    </tr>\n",
       "  </tbody>\n",
       "</table>\n",
       "</div>"
      ],
      "text/plain": [
       "   movie_id   title                                           overview  \\\n",
       "0     19995  Avatar  In the 22nd century, a paraplegic Marine is di...   \n",
       "\n",
       "                                              genres  \\\n",
       "0  [{\"id\": 28, \"name\": \"Action\"}, {\"id\": 12, \"nam...   \n",
       "\n",
       "                                            keywords  \\\n",
       "0  [{\"id\": 1463, \"name\": \"culture clash\"}, {\"id\":...   \n",
       "\n",
       "                                                cast  \\\n",
       "0  [{\"cast_id\": 242, \"character\": \"Jake Sully\", \"...   \n",
       "\n",
       "                                                crew  \n",
       "0  [{\"credit_id\": \"52fe48009251416c750aca23\", \"de...  "
      ]
     },
     "execution_count": 10,
     "metadata": {},
     "output_type": "execute_result"
    }
   ],
   "source": [
    "print(movies.info())\n",
    "movies.head(1)"
   ]
  },
  {
   "cell_type": "markdown",
   "id": "0594c5c8-538a-4c2b-9ccc-3b6edeec1a19",
   "metadata": {},
   "source": [
    "#### Indian movie"
   ]
  },
  {
   "cell_type": "code",
   "execution_count": 12,
   "id": "c71e91ad-c22a-4132-ada7-ad4f1bacab2a",
   "metadata": {},
   "outputs": [
    {
     "name": "stdout",
     "output_type": "stream",
     "text": [
      "<class 'pandas.core.frame.DataFrame'>\n",
      "RangeIndex: 2850 entries, 0 to 2849\n",
      "Data columns (total 10 columns):\n",
      " #   Column       Non-Null Count  Dtype  \n",
      "---  ------       --------------  -----  \n",
      " 0   movie_id     2850 non-null   object \n",
      " 1   description  1752 non-null   object \n",
      " 2   language     2850 non-null   object \n",
      " 3   released     2199 non-null   object \n",
      " 4   rating       2850 non-null   float64\n",
      " 5   writer       2850 non-null   object \n",
      " 6   director     2850 non-null   object \n",
      " 7   cast         2850 non-null   object \n",
      " 8   genre        2850 non-null   object \n",
      " 9   name         2850 non-null   object \n",
      "dtypes: float64(1), object(9)\n",
      "memory usage: 222.8+ KB\n"
     ]
    }
   ],
   "source": [
    "in_movies.info(1)"
   ]
  },
  {
   "cell_type": "code",
   "execution_count": 14,
   "id": "ce533d0d-d9c8-479f-ab62-16ccbfba43e6",
   "metadata": {},
   "outputs": [
    {
     "data": {
      "text/html": [
       "<div>\n",
       "<style scoped>\n",
       "    .dataframe tbody tr th:only-of-type {\n",
       "        vertical-align: middle;\n",
       "    }\n",
       "\n",
       "    .dataframe tbody tr th {\n",
       "        vertical-align: top;\n",
       "    }\n",
       "\n",
       "    .dataframe thead th {\n",
       "        text-align: right;\n",
       "    }\n",
       "</style>\n",
       "<table border=\"1\" class=\"dataframe\">\n",
       "  <thead>\n",
       "    <tr style=\"text-align: right;\">\n",
       "      <th></th>\n",
       "      <th>movie_id</th>\n",
       "      <th>overview</th>\n",
       "      <th>language</th>\n",
       "      <th>released</th>\n",
       "      <th>rating</th>\n",
       "      <th>writer</th>\n",
       "      <th>crew</th>\n",
       "      <th>cast</th>\n",
       "      <th>genres</th>\n",
       "      <th>title</th>\n",
       "    </tr>\n",
       "  </thead>\n",
       "  <tbody>\n",
       "    <tr>\n",
       "      <th>0</th>\n",
       "      <td>tt5286444</td>\n",
       "      <td>Neerja is the story of the courageous Neerja B...</td>\n",
       "      <td>[ \"Hindi\" ]</td>\n",
       "      <td>2016-02-19T00:00:00.000Z</td>\n",
       "      <td>7.9</td>\n",
       "      <td>[ \"Saiwyn Quadras\", \"Sanyukta Shaikh Chawla\" ]</td>\n",
       "      <td>[ \"Ram Madhvani\" ]</td>\n",
       "      <td>[ \"Sonam Kapoor\", \"Shabana Azmi\", \"Yogendra Ti...</td>\n",
       "      <td>[ \"Biography\", \"Drama\", \"Thriller\" ]</td>\n",
       "      <td>Neerja</td>\n",
       "    </tr>\n",
       "  </tbody>\n",
       "</table>\n",
       "</div>"
      ],
      "text/plain": [
       "    movie_id                                           overview     language  \\\n",
       "0  tt5286444  Neerja is the story of the courageous Neerja B...  [ \"Hindi\" ]   \n",
       "\n",
       "                   released  rating  \\\n",
       "0  2016-02-19T00:00:00.000Z     7.9   \n",
       "\n",
       "                                           writer                crew  \\\n",
       "0  [ \"Saiwyn Quadras\", \"Sanyukta Shaikh Chawla\" ]  [ \"Ram Madhvani\" ]   \n",
       "\n",
       "                                                cast  \\\n",
       "0  [ \"Sonam Kapoor\", \"Shabana Azmi\", \"Yogendra Ti...   \n",
       "\n",
       "                                 genres   title  \n",
       "0  [ \"Biography\", \"Drama\", \"Thriller\" ]  Neerja  "
      ]
     },
     "execution_count": 14,
     "metadata": {},
     "output_type": "execute_result"
    }
   ],
   "source": [
    "in_movies.rename(columns= {'name':'title', 'description':'overview', 'director':'crew', 'genre':'genres'}, inplace=True)\n",
    "in_movies.head(1)"
   ]
  },
  {
   "cell_type": "code",
   "execution_count": 15,
   "id": "a8190201-4299-42ec-badd-2dcb4001fe0c",
   "metadata": {},
   "outputs": [
    {
     "data": {
      "text/html": [
       "<div>\n",
       "<style scoped>\n",
       "    .dataframe tbody tr th:only-of-type {\n",
       "        vertical-align: middle;\n",
       "    }\n",
       "\n",
       "    .dataframe tbody tr th {\n",
       "        vertical-align: top;\n",
       "    }\n",
       "\n",
       "    .dataframe thead th {\n",
       "        text-align: right;\n",
       "    }\n",
       "</style>\n",
       "<table border=\"1\" class=\"dataframe\">\n",
       "  <thead>\n",
       "    <tr style=\"text-align: right;\">\n",
       "      <th></th>\n",
       "      <th>movie_id</th>\n",
       "      <th>title</th>\n",
       "      <th>overview</th>\n",
       "      <th>genres</th>\n",
       "      <th>cast</th>\n",
       "      <th>crew</th>\n",
       "    </tr>\n",
       "  </thead>\n",
       "  <tbody>\n",
       "    <tr>\n",
       "      <th>0</th>\n",
       "      <td>tt5286444</td>\n",
       "      <td>Neerja</td>\n",
       "      <td>Neerja is the story of the courageous Neerja B...</td>\n",
       "      <td>[ \"Biography\", \"Drama\", \"Thriller\" ]</td>\n",
       "      <td>[ \"Sonam Kapoor\", \"Shabana Azmi\", \"Yogendra Ti...</td>\n",
       "      <td>[ \"Ram Madhvani\" ]</td>\n",
       "    </tr>\n",
       "    <tr>\n",
       "      <th>1</th>\n",
       "      <td>tt4434004</td>\n",
       "      <td>Udta Punjab</td>\n",
       "      <td>A story that revolves around drug abuse in the...</td>\n",
       "      <td>[ \"Crime\", \"Drama\", \"Thriller\" ]</td>\n",
       "      <td>[ \"Alia Bhatt\", \"Shahid Kapoor\", \"Diljit Dosan...</td>\n",
       "      <td>[ \"Abhishek Chaubey\" ]</td>\n",
       "    </tr>\n",
       "    <tr>\n",
       "      <th>2</th>\n",
       "      <td>tt0248126</td>\n",
       "      <td>Kabhi Khushi Kabhie Gham...</td>\n",
       "      <td>Yashvardhan Raichand lives a very wealthy life...</td>\n",
       "      <td>[ \"Drama\", \"Musical\", \"Romance\" ]</td>\n",
       "      <td>[ \"Amitabh Bachchan\", \"Jaya Bhaduri\", \"Shah Ru...</td>\n",
       "      <td>[ \"Karan Johar\" ]</td>\n",
       "    </tr>\n",
       "  </tbody>\n",
       "</table>\n",
       "</div>"
      ],
      "text/plain": [
       "    movie_id                        title  \\\n",
       "0  tt5286444                       Neerja   \n",
       "1  tt4434004                  Udta Punjab   \n",
       "2  tt0248126  Kabhi Khushi Kabhie Gham...   \n",
       "\n",
       "                                            overview  \\\n",
       "0  Neerja is the story of the courageous Neerja B...   \n",
       "1  A story that revolves around drug abuse in the...   \n",
       "2  Yashvardhan Raichand lives a very wealthy life...   \n",
       "\n",
       "                                 genres  \\\n",
       "0  [ \"Biography\", \"Drama\", \"Thriller\" ]   \n",
       "1      [ \"Crime\", \"Drama\", \"Thriller\" ]   \n",
       "2     [ \"Drama\", \"Musical\", \"Romance\" ]   \n",
       "\n",
       "                                                cast                    crew  \n",
       "0  [ \"Sonam Kapoor\", \"Shabana Azmi\", \"Yogendra Ti...      [ \"Ram Madhvani\" ]  \n",
       "1  [ \"Alia Bhatt\", \"Shahid Kapoor\", \"Diljit Dosan...  [ \"Abhishek Chaubey\" ]  \n",
       "2  [ \"Amitabh Bachchan\", \"Jaya Bhaduri\", \"Shah Ru...       [ \"Karan Johar\" ]  "
      ]
     },
     "metadata": {},
     "output_type": "display_data"
    }
   ],
   "source": [
    "in_movies = in_movies[['movie_id','title','overview','genres','cast','crew']]\n",
    "display(in_movies.head(3))"
   ]
  },
  {
   "cell_type": "markdown",
   "id": "4ead3ded-6b65-4904-90f9-76bb8b0a7588",
   "metadata": {},
   "source": [
    "## Data Cleaning"
   ]
  },
  {
   "cell_type": "markdown",
   "id": "85feace0-850d-473d-a53b-ee1b37092f03",
   "metadata": {},
   "source": [
    "### Remove Null"
   ]
  },
  {
   "cell_type": "code",
   "execution_count": 16,
   "id": "f7c997a9-d3d3-4e39-83e2-cc06db38bcbe",
   "metadata": {},
   "outputs": [
    {
     "data": {
      "text/plain": [
       "movie_id    0\n",
       "title       0\n",
       "overview    3\n",
       "genres      0\n",
       "keywords    0\n",
       "cast        0\n",
       "crew        0\n",
       "dtype: int64"
      ]
     },
     "execution_count": 16,
     "metadata": {},
     "output_type": "execute_result"
    }
   ],
   "source": [
    "movies.isnull().sum()"
   ]
  },
  {
   "cell_type": "code",
   "execution_count": 17,
   "id": "90fe2a01-9fc1-4233-8c8e-b3f26d7e7103",
   "metadata": {},
   "outputs": [],
   "source": [
    "movies.dropna(inplace=True)"
   ]
  },
  {
   "cell_type": "code",
   "execution_count": 18,
   "id": "43d20d6e-04c1-4e91-9c92-da96bb6fcd33",
   "metadata": {},
   "outputs": [
    {
     "data": {
      "text/plain": [
       "movie_id    0\n",
       "title       0\n",
       "overview    0\n",
       "genres      0\n",
       "keywords    0\n",
       "cast        0\n",
       "crew        0\n",
       "dtype: int64"
      ]
     },
     "execution_count": 18,
     "metadata": {},
     "output_type": "execute_result"
    }
   ],
   "source": [
    "movies.isnull().sum()"
   ]
  },
  {
   "cell_type": "markdown",
   "id": "7d74bd75-2ec7-4615-ba17-9c6d8fa7292d",
   "metadata": {},
   "source": [
    "#### Indian movie"
   ]
  },
  {
   "cell_type": "code",
   "execution_count": 19,
   "id": "0d2f3db1-1103-496b-9d89-981c9bb0e436",
   "metadata": {},
   "outputs": [
    {
     "data": {
      "text/plain": [
       "movie_id       0\n",
       "title          0\n",
       "overview    1098\n",
       "genres         0\n",
       "cast           0\n",
       "crew           0\n",
       "dtype: int64"
      ]
     },
     "execution_count": 19,
     "metadata": {},
     "output_type": "execute_result"
    }
   ],
   "source": [
    "in_movies.isnull().sum()"
   ]
  },
  {
   "cell_type": "markdown",
   "id": "39de9e6b-008b-4aa6-a7fc-c9a26076c3e8",
   "metadata": {},
   "source": [
    "### Remove Duplicate Data"
   ]
  },
  {
   "cell_type": "code",
   "execution_count": 20,
   "id": "c9aedb81-366b-41c4-b42f-0551b4c0e194",
   "metadata": {},
   "outputs": [
    {
     "data": {
      "text/plain": [
       "0"
      ]
     },
     "execution_count": 20,
     "metadata": {},
     "output_type": "execute_result"
    }
   ],
   "source": [
    "movies.duplicated().sum()"
   ]
  },
  {
   "cell_type": "code",
   "execution_count": 21,
   "id": "aeedc5f1-8f9c-41dc-bd2c-bb22041cc13e",
   "metadata": {},
   "outputs": [
    {
     "data": {
      "text/plain": [
       "0"
      ]
     },
     "execution_count": 21,
     "metadata": {},
     "output_type": "execute_result"
    }
   ],
   "source": [
    "in_movies.duplicated().sum()"
   ]
  },
  {
   "cell_type": "markdown",
   "id": "2ac84f18-356d-46e2-8656-a12e48770ec7",
   "metadata": {},
   "source": [
    "### Pre-processing Columns"
   ]
  },
  {
   "cell_type": "markdown",
   "id": "e2fa9a5c-66d2-40d4-8174-a150460f05e6",
   "metadata": {},
   "source": [
    "#### Genres Column"
   ]
  },
  {
   "cell_type": "markdown",
   "id": "208fa618-de9c-4ee3-9be5-4255c38468d7",
   "metadata": {},
   "source": [
    "Data provided as String"
   ]
  },
  {
   "cell_type": "code",
   "execution_count": 22,
   "id": "6d1a7d78-35b1-4a5b-b2a8-95f02d26ea20",
   "metadata": {},
   "outputs": [
    {
     "data": {
      "text/plain": [
       "'[{\"id\": 28, \"name\": \"Action\"}, {\"id\": 12, \"name\": \"Adventure\"}, {\"id\": 14, \"name\": \"Fantasy\"}, {\"id\": 878, \"name\": \"Science Fiction\"}]'"
      ]
     },
     "execution_count": 22,
     "metadata": {},
     "output_type": "execute_result"
    }
   ],
   "source": [
    "movies.iloc[0].genres"
   ]
  },
  {
   "cell_type": "markdown",
   "id": "4922d095-bafa-4a97-b65e-c56324e54a3a",
   "metadata": {},
   "source": [
    "**Funtion to:**\n",
    "1. Convert String -> List using ast library\n",
    "2. Extract 'name' from dictionary\n",
    "3. Append to a new List"
   ]
  },
  {
   "cell_type": "code",
   "execution_count": 23,
   "id": "15ab0dbd-f554-4451-813b-bd77fdaad3dd",
   "metadata": {},
   "outputs": [],
   "source": [
    "import ast\n",
    "def extract_list(str):\n",
    "    L = []\n",
    "    for i in ast.literal_eval(str):\n",
    "        L.append(i['name'])\n",
    "    return L"
   ]
  },
  {
   "cell_type": "markdown",
   "id": "ed0537fb-0603-4a76-8e06-409b1463958b",
   "metadata": {},
   "source": [
    "**apply(func, axis=0)**: Apply a function along an axis of the DataFrame.<br/>\n",
    "axis: default 0<br/>\n",
    "1. 0 or ‘index’: apply function to each column.\n",
    "2. 1 or ‘columns’: apply function to each row.\n"
   ]
  },
  {
   "cell_type": "code",
   "execution_count": 24,
   "id": "1dab1eaa-e0a0-4567-be1f-3fdc68a3cc19",
   "metadata": {
    "scrolled": true
   },
   "outputs": [],
   "source": [
    "movies['genres'] = movies['genres'].apply(extract_list)"
   ]
  },
  {
   "cell_type": "code",
   "execution_count": 25,
   "id": "ee902ae5-96ca-40ce-9d42-f7e1e9d9d7b4",
   "metadata": {},
   "outputs": [
    {
     "data": {
      "text/html": [
       "<div>\n",
       "<style scoped>\n",
       "    .dataframe tbody tr th:only-of-type {\n",
       "        vertical-align: middle;\n",
       "    }\n",
       "\n",
       "    .dataframe tbody tr th {\n",
       "        vertical-align: top;\n",
       "    }\n",
       "\n",
       "    .dataframe thead th {\n",
       "        text-align: right;\n",
       "    }\n",
       "</style>\n",
       "<table border=\"1\" class=\"dataframe\">\n",
       "  <thead>\n",
       "    <tr style=\"text-align: right;\">\n",
       "      <th></th>\n",
       "      <th>movie_id</th>\n",
       "      <th>title</th>\n",
       "      <th>overview</th>\n",
       "      <th>genres</th>\n",
       "      <th>keywords</th>\n",
       "      <th>cast</th>\n",
       "      <th>crew</th>\n",
       "    </tr>\n",
       "  </thead>\n",
       "  <tbody>\n",
       "    <tr>\n",
       "      <th>0</th>\n",
       "      <td>19995</td>\n",
       "      <td>Avatar</td>\n",
       "      <td>In the 22nd century, a paraplegic Marine is di...</td>\n",
       "      <td>[Action, Adventure, Fantasy, Science Fiction]</td>\n",
       "      <td>[{\"id\": 1463, \"name\": \"culture clash\"}, {\"id\":...</td>\n",
       "      <td>[{\"cast_id\": 242, \"character\": \"Jake Sully\", \"...</td>\n",
       "      <td>[{\"credit_id\": \"52fe48009251416c750aca23\", \"de...</td>\n",
       "    </tr>\n",
       "    <tr>\n",
       "      <th>1</th>\n",
       "      <td>285</td>\n",
       "      <td>Pirates of the Caribbean: At World's End</td>\n",
       "      <td>Captain Barbossa, long believed to be dead, ha...</td>\n",
       "      <td>[Adventure, Fantasy, Action]</td>\n",
       "      <td>[{\"id\": 270, \"name\": \"ocean\"}, {\"id\": 726, \"na...</td>\n",
       "      <td>[{\"cast_id\": 4, \"character\": \"Captain Jack Spa...</td>\n",
       "      <td>[{\"credit_id\": \"52fe4232c3a36847f800b579\", \"de...</td>\n",
       "    </tr>\n",
       "  </tbody>\n",
       "</table>\n",
       "</div>"
      ],
      "text/plain": [
       "   movie_id                                     title  \\\n",
       "0     19995                                    Avatar   \n",
       "1       285  Pirates of the Caribbean: At World's End   \n",
       "\n",
       "                                            overview  \\\n",
       "0  In the 22nd century, a paraplegic Marine is di...   \n",
       "1  Captain Barbossa, long believed to be dead, ha...   \n",
       "\n",
       "                                          genres  \\\n",
       "0  [Action, Adventure, Fantasy, Science Fiction]   \n",
       "1                   [Adventure, Fantasy, Action]   \n",
       "\n",
       "                                            keywords  \\\n",
       "0  [{\"id\": 1463, \"name\": \"culture clash\"}, {\"id\":...   \n",
       "1  [{\"id\": 270, \"name\": \"ocean\"}, {\"id\": 726, \"na...   \n",
       "\n",
       "                                                cast  \\\n",
       "0  [{\"cast_id\": 242, \"character\": \"Jake Sully\", \"...   \n",
       "1  [{\"cast_id\": 4, \"character\": \"Captain Jack Spa...   \n",
       "\n",
       "                                                crew  \n",
       "0  [{\"credit_id\": \"52fe48009251416c750aca23\", \"de...  \n",
       "1  [{\"credit_id\": \"52fe4232c3a36847f800b579\", \"de...  "
      ]
     },
     "execution_count": 25,
     "metadata": {},
     "output_type": "execute_result"
    }
   ],
   "source": [
    "movies.head(2)"
   ]
  },
  {
   "cell_type": "markdown",
   "id": "30e34a62-6b83-43c1-ab8b-00819fe546ae",
   "metadata": {},
   "source": [
    "#### Keywords Column"
   ]
  },
  {
   "cell_type": "code",
   "execution_count": 26,
   "id": "007c7aa1-ec56-4371-b7ee-a9439adc5e40",
   "metadata": {},
   "outputs": [
    {
     "data": {
      "text/plain": [
       "0       [{\"id\": 1463, \"name\": \"culture clash\"}, {\"id\":...\n",
       "1       [{\"id\": 270, \"name\": \"ocean\"}, {\"id\": 726, \"na...\n",
       "2       [{\"id\": 470, \"name\": \"spy\"}, {\"id\": 818, \"name...\n",
       "3       [{\"id\": 849, \"name\": \"dc comics\"}, {\"id\": 853,...\n",
       "4       [{\"id\": 818, \"name\": \"based on novel\"}, {\"id\":...\n",
       "                              ...                        \n",
       "4804    [{\"id\": 5616, \"name\": \"united states\\u2013mexi...\n",
       "4805                                                   []\n",
       "4806    [{\"id\": 248, \"name\": \"date\"}, {\"id\": 699, \"nam...\n",
       "4807                                                   []\n",
       "4808    [{\"id\": 1523, \"name\": \"obsession\"}, {\"id\": 224...\n",
       "Name: keywords, Length: 4806, dtype: object"
      ]
     },
     "execution_count": 26,
     "metadata": {},
     "output_type": "execute_result"
    }
   ],
   "source": [
    "movies.keywords"
   ]
  },
  {
   "cell_type": "code",
   "execution_count": 27,
   "id": "5f63e649-c2ca-4e86-9374-13272c62f818",
   "metadata": {},
   "outputs": [],
   "source": [
    "movies['keywords'] = movies['keywords'].apply(extract_list)"
   ]
  },
  {
   "cell_type": "code",
   "execution_count": 28,
   "id": "e8c6c76c-d192-4823-aa48-c61d14d9b3fa",
   "metadata": {},
   "outputs": [
    {
     "data": {
      "text/html": [
       "<div>\n",
       "<style scoped>\n",
       "    .dataframe tbody tr th:only-of-type {\n",
       "        vertical-align: middle;\n",
       "    }\n",
       "\n",
       "    .dataframe tbody tr th {\n",
       "        vertical-align: top;\n",
       "    }\n",
       "\n",
       "    .dataframe thead th {\n",
       "        text-align: right;\n",
       "    }\n",
       "</style>\n",
       "<table border=\"1\" class=\"dataframe\">\n",
       "  <thead>\n",
       "    <tr style=\"text-align: right;\">\n",
       "      <th></th>\n",
       "      <th>movie_id</th>\n",
       "      <th>title</th>\n",
       "      <th>overview</th>\n",
       "      <th>genres</th>\n",
       "      <th>keywords</th>\n",
       "      <th>cast</th>\n",
       "      <th>crew</th>\n",
       "    </tr>\n",
       "  </thead>\n",
       "  <tbody>\n",
       "    <tr>\n",
       "      <th>0</th>\n",
       "      <td>19995</td>\n",
       "      <td>Avatar</td>\n",
       "      <td>In the 22nd century, a paraplegic Marine is di...</td>\n",
       "      <td>[Action, Adventure, Fantasy, Science Fiction]</td>\n",
       "      <td>[culture clash, future, space war, space colon...</td>\n",
       "      <td>[{\"cast_id\": 242, \"character\": \"Jake Sully\", \"...</td>\n",
       "      <td>[{\"credit_id\": \"52fe48009251416c750aca23\", \"de...</td>\n",
       "    </tr>\n",
       "    <tr>\n",
       "      <th>1</th>\n",
       "      <td>285</td>\n",
       "      <td>Pirates of the Caribbean: At World's End</td>\n",
       "      <td>Captain Barbossa, long believed to be dead, ha...</td>\n",
       "      <td>[Adventure, Fantasy, Action]</td>\n",
       "      <td>[ocean, drug abuse, exotic island, east india ...</td>\n",
       "      <td>[{\"cast_id\": 4, \"character\": \"Captain Jack Spa...</td>\n",
       "      <td>[{\"credit_id\": \"52fe4232c3a36847f800b579\", \"de...</td>\n",
       "    </tr>\n",
       "    <tr>\n",
       "      <th>2</th>\n",
       "      <td>206647</td>\n",
       "      <td>Spectre</td>\n",
       "      <td>A cryptic message from Bond’s past sends him o...</td>\n",
       "      <td>[Action, Adventure, Crime]</td>\n",
       "      <td>[spy, based on novel, secret agent, sequel, mi...</td>\n",
       "      <td>[{\"cast_id\": 1, \"character\": \"James Bond\", \"cr...</td>\n",
       "      <td>[{\"credit_id\": \"54805967c3a36829b5002c41\", \"de...</td>\n",
       "    </tr>\n",
       "  </tbody>\n",
       "</table>\n",
       "</div>"
      ],
      "text/plain": [
       "   movie_id                                     title  \\\n",
       "0     19995                                    Avatar   \n",
       "1       285  Pirates of the Caribbean: At World's End   \n",
       "2    206647                                   Spectre   \n",
       "\n",
       "                                            overview  \\\n",
       "0  In the 22nd century, a paraplegic Marine is di...   \n",
       "1  Captain Barbossa, long believed to be dead, ha...   \n",
       "2  A cryptic message from Bond’s past sends him o...   \n",
       "\n",
       "                                          genres  \\\n",
       "0  [Action, Adventure, Fantasy, Science Fiction]   \n",
       "1                   [Adventure, Fantasy, Action]   \n",
       "2                     [Action, Adventure, Crime]   \n",
       "\n",
       "                                            keywords  \\\n",
       "0  [culture clash, future, space war, space colon...   \n",
       "1  [ocean, drug abuse, exotic island, east india ...   \n",
       "2  [spy, based on novel, secret agent, sequel, mi...   \n",
       "\n",
       "                                                cast  \\\n",
       "0  [{\"cast_id\": 242, \"character\": \"Jake Sully\", \"...   \n",
       "1  [{\"cast_id\": 4, \"character\": \"Captain Jack Spa...   \n",
       "2  [{\"cast_id\": 1, \"character\": \"James Bond\", \"cr...   \n",
       "\n",
       "                                                crew  \n",
       "0  [{\"credit_id\": \"52fe48009251416c750aca23\", \"de...  \n",
       "1  [{\"credit_id\": \"52fe4232c3a36847f800b579\", \"de...  \n",
       "2  [{\"credit_id\": \"54805967c3a36829b5002c41\", \"de...  "
      ]
     },
     "execution_count": 28,
     "metadata": {},
     "output_type": "execute_result"
    }
   ],
   "source": [
    "movies.head(3)"
   ]
  },
  {
   "cell_type": "markdown",
   "id": "eb8a3030-ee11-4ded-836f-2a6c1086be1a",
   "metadata": {},
   "source": [
    "#### Cast Column\n",
    "**Extract Top 3 'name' value (Actor name)**"
   ]
  },
  {
   "cell_type": "code",
   "execution_count": 29,
   "id": "26f33004-bf5d-4d18-89ec-c319f7030d25",
   "metadata": {
    "scrolled": true
   },
   "outputs": [
    {
     "data": {
      "text/plain": [
       "'[{\"cast_id\": 4, \"character\": \"Captain Jack Sparrow\", \"credit_id\": \"52fe4232c3a36847f800b50d\", \"gender\": 2, \"id\": 85, \"name\": \"Johnny Depp\", \"order\": 0}, {\"cast_id\": 5, \"character\": \"Will Turner\", \"credit_id\": \"52fe4232c3a36847f800b511\", \"gender\": 2, \"id\": 114, \"name\": \"Orlando Bloom\", \"order\": 1}, {\"cast_id\": 6, \"character\": \"Elizabeth Swann\", \"credit_id\": \"52fe4232c3a36847f800b515\", \"gender\": 1, \"id\": 116, \"name\": \"Keira Knightley\", \"order\": 2}, {\"cast_id\": 12, \"character\": \"William \\\\\"Bootstrap Bill\\\\\" Turner\", \"credit_id\": \"52fe4232c3a36847f800b52d\", \"gender\": 2, \"id\": 1640, \"name\": \"Stellan Skarsg\\\\u00e5rd\", \"order\": 3}, {\"cast_id\": 10, \"character\": \"Captain Sao Feng\", \"credit_id\": \"52fe4232c3a36847f800b525\", \"gender\": 2, \"id\": 1619, \"name\": \"Chow Yun-fat\", \"order\": 4}, {\"cast_id\": 9, \"character\": \"Captain Davy Jones\", \"credit_id\": \"52fe4232c3a36847f800b521\", \"gender\": 2, \"id\": 2440, \"name\": \"Bill Nighy\", \"order\": 5}, {\"cast_id\": 7, \"character\": \"Captain Hector Barbossa\", \"credit_id\": \"52fe4232c3a36847f800b519\", \"gender\": 2, \"id\": 118, \"name\": \"Geoffrey Rush\", \"order\": 6}, {\"cast_id\": 14, \"character\": \"Admiral James Norrington\", \"credit_id\": \"52fe4232c3a36847f800b535\", \"gender\": 2, \"id\": 1709, \"name\": \"Jack Davenport\", \"order\": 7}, {\"cast_id\": 13, \"character\": \"Joshamee Gibbs\", \"credit_id\": \"52fe4232c3a36847f800b531\", \"gender\": 2, \"id\": 2449, \"name\": \"Kevin McNally\", \"order\": 8}, {\"cast_id\": 11, \"character\": \"Lord Cutler Beckett\", \"credit_id\": \"52fe4232c3a36847f800b529\", \"gender\": 2, \"id\": 2441, \"name\": \"Tom Hollander\", \"order\": 9}, {\"cast_id\": 19, \"character\": \"Tia Dalma\", \"credit_id\": \"52fe4232c3a36847f800b549\", \"gender\": 1, \"id\": 2038, \"name\": \"Naomie Harris\", \"order\": 10}, {\"cast_id\": 8, \"character\": \"Governor Weatherby Swann\", \"credit_id\": \"52fe4232c3a36847f800b51d\", \"gender\": 2, \"id\": 378, \"name\": \"Jonathan Pryce\", \"order\": 11}, {\"cast_id\": 37, \"character\": \"Captain Teague Sparrow\", \"credit_id\": \"52fe4232c3a36847f800b5b3\", \"gender\": 2, \"id\": 1430, \"name\": \"Keith Richards\", \"order\": 12}, {\"cast_id\": 16, \"character\": \"Pintel\", \"credit_id\": \"52fe4232c3a36847f800b53d\", \"gender\": 2, \"id\": 1710, \"name\": \"Lee Arenberg\", \"order\": 13}, {\"cast_id\": 15, \"character\": \"Ragetti\", \"credit_id\": \"52fe4232c3a36847f800b539\", \"gender\": 2, \"id\": 1711, \"name\": \"Mackenzie Crook\", \"order\": 14}, {\"cast_id\": 18, \"character\": \"Lieutenant Theodore Groves\", \"credit_id\": \"52fe4232c3a36847f800b545\", \"gender\": 2, \"id\": 4031, \"name\": \"Greg Ellis\", \"order\": 15}, {\"cast_id\": 55, \"character\": \"Cotton\", \"credit_id\": \"57e28d2ec3a3681a01005b5c\", \"gender\": 2, \"id\": 1715, \"name\": \"David Bailie\", \"order\": 16}, {\"cast_id\": 17, \"character\": \"Marty\", \"credit_id\": \"52fe4232c3a36847f800b541\", \"gender\": 2, \"id\": 4030, \"name\": \"Martin Klebba\", \"order\": 17}, {\"cast_id\": 57, \"character\": \"Ian Mercer\", \"credit_id\": \"57e28d78c3a36808b900bf4f\", \"gender\": 0, \"id\": 939, \"name\": \"David Schofield\", \"order\": 18}, {\"cast_id\": 62, \"character\": \"Scarlett\", \"credit_id\": \"57e28ec5c3a3681a50005855\", \"gender\": 1, \"id\": 2450, \"name\": \"Lauren Maher\", \"order\": 19}, {\"cast_id\": 63, \"character\": \"Giselle\", \"credit_id\": \"57e28ed692514123f5005635\", \"gender\": 1, \"id\": 2452, \"name\": \"Vanessa Branch\", \"order\": 20}, {\"cast_id\": 60, \"character\": \"Mullroy\", \"credit_id\": \"57e28db2c3a3681a01005bc7\", \"gender\": 2, \"id\": 1714, \"name\": \"Angus Barnett\", \"order\": 21}, {\"cast_id\": 59, \"character\": \"Murtogg\", \"credit_id\": \"57e28da192514118f7006008\", \"gender\": 0, \"id\": 1713, \"name\": \"Giles New\", \"order\": 22}, {\"cast_id\": 58, \"character\": \"Tai Huang\", \"credit_id\": \"57e28d8ec3a3681a01005bab\", \"gender\": 2, \"id\": 22075, \"name\": \"Reggie Lee\", \"order\": 23}, {\"cast_id\": 64, \"character\": \"Henry Turner\", \"credit_id\": \"57e29119925141151100a6cc\", \"gender\": 2, \"id\": 61259, \"name\": \"Dominic Scott Kay\", \"order\": 24}, {\"cast_id\": 39, \"character\": \"Mistress Ching\", \"credit_id\": \"52fe4232c3a36847f800b5bd\", \"gender\": 1, \"id\": 33500, \"name\": \"Takayo Fischer\", \"order\": 25}, {\"cast_id\": 40, \"character\": \"Lieutenant Greitzer\", \"credit_id\": \"52fe4232c3a36847f800b5c1\", \"gender\": 2, \"id\": 1224149, \"name\": \"David Meunier\", \"order\": 26}, {\"cast_id\": 49, \"character\": \"Hadras\", \"credit_id\": \"56d1871c92514174680010cf\", \"gender\": 2, \"id\": 429401, \"name\": \"Ho-Kwan Tse\", \"order\": 27}, {\"cast_id\": 56, \"character\": \"Clacker\", \"credit_id\": \"57e28d4b92514125710055cb\", \"gender\": 0, \"id\": 1123, \"name\": \"Andy Beckwith\", \"order\": 28}, {\"cast_id\": 51, \"character\": \"Penrod\", \"credit_id\": \"56ec8c14c3a3682260003c53\", \"gender\": 2, \"id\": 1056117, \"name\": \"Peter Donald Badalamenti II\", \"order\": 29}, {\"cast_id\": 61, \"character\": \"Cotton\\'s Parrot (voice)\", \"credit_id\": \"57e28dcc9251412463005678\", \"gender\": 2, \"id\": 21700, \"name\": \"Christopher S. Capp\", \"order\": 30}, {\"cast_id\": 65, \"character\": \"Captain Teague\", \"credit_id\": \"58bc2a37c3a368663003740b\", \"gender\": 2, \"id\": 1430, \"name\": \"Keith Richards\", \"order\": 31}, {\"cast_id\": 66, \"character\": \"Captain Jocard\", \"credit_id\": \"58bc2a8e925141609e03a179\", \"gender\": 2, \"id\": 2603, \"name\": \"Hakeem Kae-Kazim\", \"order\": 32}, {\"cast_id\": 67, \"character\": \"Captain Ammand\", \"credit_id\": \"58e2a21ac3a36872af00f9c2\", \"gender\": 0, \"id\": 70577, \"name\": \"Ghassan Massoud\", \"order\": 33}]'"
      ]
     },
     "execution_count": 29,
     "metadata": {},
     "output_type": "execute_result"
    }
   ],
   "source": [
    "movies['cast'][1]"
   ]
  },
  {
   "cell_type": "code",
   "execution_count": 30,
   "id": "fd3acd26-cac3-4689-8e41-77a83fe67781",
   "metadata": {},
   "outputs": [],
   "source": [
    "import ast\n",
    "def extract_top3(str):\n",
    "    L = []\n",
    "    counter = 0\n",
    "    for i in ast.literal_eval(str):\n",
    "        if counter != 3:\n",
    "            L.append(i['name'])\n",
    "            counter+=1\n",
    "        else:\n",
    "            break\n",
    "    return L"
   ]
  },
  {
   "cell_type": "code",
   "execution_count": 31,
   "id": "1c543a87-335c-46d8-a951-069684c4eb87",
   "metadata": {},
   "outputs": [],
   "source": [
    "movies['cast'] = movies['cast'].apply(extract_top3)"
   ]
  },
  {
   "cell_type": "code",
   "execution_count": 32,
   "id": "ec53d052-65ef-440b-a033-f0a9e34efcf2",
   "metadata": {},
   "outputs": [
    {
     "data": {
      "text/html": [
       "<div>\n",
       "<style scoped>\n",
       "    .dataframe tbody tr th:only-of-type {\n",
       "        vertical-align: middle;\n",
       "    }\n",
       "\n",
       "    .dataframe tbody tr th {\n",
       "        vertical-align: top;\n",
       "    }\n",
       "\n",
       "    .dataframe thead th {\n",
       "        text-align: right;\n",
       "    }\n",
       "</style>\n",
       "<table border=\"1\" class=\"dataframe\">\n",
       "  <thead>\n",
       "    <tr style=\"text-align: right;\">\n",
       "      <th></th>\n",
       "      <th>movie_id</th>\n",
       "      <th>title</th>\n",
       "      <th>overview</th>\n",
       "      <th>genres</th>\n",
       "      <th>keywords</th>\n",
       "      <th>cast</th>\n",
       "      <th>crew</th>\n",
       "    </tr>\n",
       "  </thead>\n",
       "  <tbody>\n",
       "    <tr>\n",
       "      <th>0</th>\n",
       "      <td>19995</td>\n",
       "      <td>Avatar</td>\n",
       "      <td>In the 22nd century, a paraplegic Marine is di...</td>\n",
       "      <td>[Action, Adventure, Fantasy, Science Fiction]</td>\n",
       "      <td>[culture clash, future, space war, space colon...</td>\n",
       "      <td>[Sam Worthington, Zoe Saldana, Sigourney Weaver]</td>\n",
       "      <td>[{\"credit_id\": \"52fe48009251416c750aca23\", \"de...</td>\n",
       "    </tr>\n",
       "    <tr>\n",
       "      <th>1</th>\n",
       "      <td>285</td>\n",
       "      <td>Pirates of the Caribbean: At World's End</td>\n",
       "      <td>Captain Barbossa, long believed to be dead, ha...</td>\n",
       "      <td>[Adventure, Fantasy, Action]</td>\n",
       "      <td>[ocean, drug abuse, exotic island, east india ...</td>\n",
       "      <td>[Johnny Depp, Orlando Bloom, Keira Knightley]</td>\n",
       "      <td>[{\"credit_id\": \"52fe4232c3a36847f800b579\", \"de...</td>\n",
       "    </tr>\n",
       "    <tr>\n",
       "      <th>2</th>\n",
       "      <td>206647</td>\n",
       "      <td>Spectre</td>\n",
       "      <td>A cryptic message from Bond’s past sends him o...</td>\n",
       "      <td>[Action, Adventure, Crime]</td>\n",
       "      <td>[spy, based on novel, secret agent, sequel, mi...</td>\n",
       "      <td>[Daniel Craig, Christoph Waltz, Léa Seydoux]</td>\n",
       "      <td>[{\"credit_id\": \"54805967c3a36829b5002c41\", \"de...</td>\n",
       "    </tr>\n",
       "  </tbody>\n",
       "</table>\n",
       "</div>"
      ],
      "text/plain": [
       "   movie_id                                     title  \\\n",
       "0     19995                                    Avatar   \n",
       "1       285  Pirates of the Caribbean: At World's End   \n",
       "2    206647                                   Spectre   \n",
       "\n",
       "                                            overview  \\\n",
       "0  In the 22nd century, a paraplegic Marine is di...   \n",
       "1  Captain Barbossa, long believed to be dead, ha...   \n",
       "2  A cryptic message from Bond’s past sends him o...   \n",
       "\n",
       "                                          genres  \\\n",
       "0  [Action, Adventure, Fantasy, Science Fiction]   \n",
       "1                   [Adventure, Fantasy, Action]   \n",
       "2                     [Action, Adventure, Crime]   \n",
       "\n",
       "                                            keywords  \\\n",
       "0  [culture clash, future, space war, space colon...   \n",
       "1  [ocean, drug abuse, exotic island, east india ...   \n",
       "2  [spy, based on novel, secret agent, sequel, mi...   \n",
       "\n",
       "                                               cast  \\\n",
       "0  [Sam Worthington, Zoe Saldana, Sigourney Weaver]   \n",
       "1     [Johnny Depp, Orlando Bloom, Keira Knightley]   \n",
       "2      [Daniel Craig, Christoph Waltz, Léa Seydoux]   \n",
       "\n",
       "                                                crew  \n",
       "0  [{\"credit_id\": \"52fe48009251416c750aca23\", \"de...  \n",
       "1  [{\"credit_id\": \"52fe4232c3a36847f800b579\", \"de...  \n",
       "2  [{\"credit_id\": \"54805967c3a36829b5002c41\", \"de...  "
      ]
     },
     "execution_count": 32,
     "metadata": {},
     "output_type": "execute_result"
    }
   ],
   "source": [
    "movies.head(3)"
   ]
  },
  {
   "cell_type": "markdown",
   "id": "71c59132-d233-401a-ae65-8e0520225afd",
   "metadata": {},
   "source": [
    "#### Crew Column\n",
    "**Extract 'job'=Director from the dictionary**"
   ]
  },
  {
   "cell_type": "code",
   "execution_count": 33,
   "id": "f344e3a9-7621-4e90-835f-907d1689a4ba",
   "metadata": {
    "scrolled": true
   },
   "outputs": [
    {
     "data": {
      "text/plain": [
       "'[{\"credit_id\": \"52fe48009251416c750aca23\", \"department\": \"Editing\", \"gender\": 0, \"id\": 1721, \"job\": \"Editor\", \"name\": \"Stephen E. Rivkin\"}, {\"credit_id\": \"539c47ecc3a36810e3001f87\", \"department\": \"Art\", \"gender\": 2, \"id\": 496, \"job\": \"Production Design\", \"name\": \"Rick Carter\"}, {\"credit_id\": \"54491c89c3a3680fb4001cf7\", \"department\": \"Sound\", \"gender\": 0, \"id\": 900, \"job\": \"Sound Designer\", \"name\": \"Christopher Boyes\"}, {\"credit_id\": \"54491cb70e0a267480001bd0\", \"department\": \"Sound\", \"gender\": 0, \"id\": 900, \"job\": \"Supervising Sound Editor\", \"name\": \"Christopher Boyes\"}, {\"credit_id\": \"539c4a4cc3a36810c9002101\", \"department\": \"Production\", \"gender\": 1, \"id\": 1262, \"job\": \"Casting\", \"name\": \"Mali Finn\"}, {\"credit_id\": \"5544ee3b925141499f0008fc\", \"department\": \"Sound\", \"gender\": 2, \"id\": 1729, \"job\": \"Original Music Composer\", \"name\": \"James Horner\"}, {\"credit_id\": \"52fe48009251416c750ac9c3\", \"department\": \"Directing\", \"gender\": 2, \"id\": 2710, \"job\": \"Director\", \"name\": \"James Cameron\"}, {\"credit_id\": \"52fe48009251416c750ac9d9\", \"department\": \"Writing\", \"gender\": 2, \"id\": 2710, \"job\": \"Writer\", \"name\": \"James Cameron\"}, {\"credit_id\": \"52fe48009251416c750aca17\", \"department\": \"Editing\", \"gender\": 2, \"id\": 2710, \"job\": \"Editor\", \"name\": \"James Cameron\"}, {\"credit_id\": \"52fe48009251416c750aca29\", \"department\": \"Production\", \"gender\": 2, \"id\": 2710, \"job\": \"Producer\", \"name\": \"James Cameron\"}, {\"credit_id\": \"52fe48009251416c750aca3f\", \"department\": \"Writing\", \"gender\": 2, \"id\": 2710, \"job\": \"Screenplay\", \"name\": \"James Cameron\"}, {\"credit_id\": \"539c4987c3a36810ba0021a4\", \"department\": \"Art\", \"gender\": 2, \"id\": 7236, \"job\": \"Art Direction\", \"name\": \"Andrew Menzies\"}, {\"credit_id\": \"549598c3c3a3686ae9004383\", \"department\": \"Visual Effects\", \"gender\": 0, \"id\": 6690, \"job\": \"Visual Effects Producer\", \"name\": \"Jill Brooks\"}, {\"credit_id\": \"52fe48009251416c750aca4b\", \"department\": \"Production\", \"gender\": 1, \"id\": 6347, \"job\": \"Casting\", \"name\": \"Margery Simkin\"}, {\"credit_id\": \"570b6f419251417da70032fe\", \"department\": \"Art\", \"gender\": 2, \"id\": 6878, \"job\": \"Supervising Art Director\", \"name\": \"Kevin Ishioka\"}, {\"credit_id\": \"5495a0fac3a3686ae9004468\", \"department\": \"Sound\", \"gender\": 0, \"id\": 6883, \"job\": \"Music Editor\", \"name\": \"Dick Bernstein\"}, {\"credit_id\": \"54959706c3a3686af3003e81\", \"department\": \"Sound\", \"gender\": 0, \"id\": 8159, \"job\": \"Sound Effects Editor\", \"name\": \"Shannon Mills\"}, {\"credit_id\": \"54491d58c3a3680fb1001ccb\", \"department\": \"Sound\", \"gender\": 0, \"id\": 8160, \"job\": \"Foley\", \"name\": \"Dennie Thorpe\"}, {\"credit_id\": \"54491d6cc3a3680fa5001b2c\", \"department\": \"Sound\", \"gender\": 0, \"id\": 8163, \"job\": \"Foley\", \"name\": \"Jana Vance\"}, {\"credit_id\": \"52fe48009251416c750aca57\", \"department\": \"Costume & Make-Up\", \"gender\": 1, \"id\": 8527, \"job\": \"Costume Design\", \"name\": \"Deborah Lynn Scott\"}, {\"credit_id\": \"52fe48009251416c750aca2f\", \"department\": \"Production\", \"gender\": 2, \"id\": 8529, \"job\": \"Producer\", \"name\": \"Jon Landau\"}, {\"credit_id\": \"539c4937c3a36810ba002194\", \"department\": \"Art\", \"gender\": 0, \"id\": 9618, \"job\": \"Art Direction\", \"name\": \"Sean Haworth\"}, {\"credit_id\": \"539c49b6c3a36810c10020e6\", \"department\": \"Art\", \"gender\": 1, \"id\": 12653, \"job\": \"Set Decoration\", \"name\": \"Kim Sinclair\"}, {\"credit_id\": \"570b6f2f9251413a0e00020d\", \"department\": \"Art\", \"gender\": 1, \"id\": 12653, \"job\": \"Supervising Art Director\", \"name\": \"Kim Sinclair\"}, {\"credit_id\": \"54491a6c0e0a26748c001b19\", \"department\": \"Art\", \"gender\": 2, \"id\": 14350, \"job\": \"Set Designer\", \"name\": \"Richard F. Mays\"}, {\"credit_id\": \"56928cf4c3a3684cff0025c4\", \"department\": \"Production\", \"gender\": 1, \"id\": 20294, \"job\": \"Executive Producer\", \"name\": \"Laeta Kalogridis\"}, {\"credit_id\": \"52fe48009251416c750aca51\", \"department\": \"Costume & Make-Up\", \"gender\": 0, \"id\": 17675, \"job\": \"Costume Design\", \"name\": \"Mayes C. Rubeo\"}, {\"credit_id\": \"52fe48009251416c750aca11\", \"department\": \"Camera\", \"gender\": 2, \"id\": 18265, \"job\": \"Director of Photography\", \"name\": \"Mauro Fiore\"}, {\"credit_id\": \"5449194d0e0a26748f001b39\", \"department\": \"Art\", \"gender\": 0, \"id\": 42281, \"job\": \"Set Designer\", \"name\": \"Scott Herbertson\"}, {\"credit_id\": \"52fe48009251416c750aca05\", \"department\": \"Crew\", \"gender\": 0, \"id\": 42288, \"job\": \"Stunts\", \"name\": \"Woody Schultz\"}, {\"credit_id\": \"5592aefb92514152de0010f5\", \"department\": \"Costume & Make-Up\", \"gender\": 0, \"id\": 29067, \"job\": \"Makeup Artist\", \"name\": \"Linda DeVetta\"}, {\"credit_id\": \"5592afa492514152de00112c\", \"department\": \"Costume & Make-Up\", \"gender\": 0, \"id\": 29067, \"job\": \"Hairstylist\", \"name\": \"Linda DeVetta\"}, {\"credit_id\": \"54959ed592514130fc002e5d\", \"department\": \"Camera\", \"gender\": 2, \"id\": 33302, \"job\": \"Camera Operator\", \"name\": \"Richard Bluck\"}, {\"credit_id\": \"539c4891c3a36810ba002147\", \"department\": \"Art\", \"gender\": 2, \"id\": 33303, \"job\": \"Art Direction\", \"name\": \"Simon Bright\"}, {\"credit_id\": \"54959c069251417a81001f3a\", \"department\": \"Visual Effects\", \"gender\": 0, \"id\": 113145, \"job\": \"Visual Effects Supervisor\", \"name\": \"Richard Martin\"}, {\"credit_id\": \"54959a0dc3a3680ff5002c8d\", \"department\": \"Crew\", \"gender\": 2, \"id\": 58188, \"job\": \"Visual Effects Editor\", \"name\": \"Steve R. Moore\"}, {\"credit_id\": \"52fe48009251416c750aca1d\", \"department\": \"Editing\", \"gender\": 2, \"id\": 58871, \"job\": \"Editor\", \"name\": \"John Refoua\"}, {\"credit_id\": \"54491a4dc3a3680fc30018ca\", \"department\": \"Art\", \"gender\": 0, \"id\": 92359, \"job\": \"Set Designer\", \"name\": \"Karl J. Martin\"}, {\"credit_id\": \"52fe48009251416c750aca35\", \"department\": \"Camera\", \"gender\": 1, \"id\": 72201, \"job\": \"Director of Photography\", \"name\": \"Chiling Lin\"}, {\"credit_id\": \"52fe48009251416c750ac9ff\", \"department\": \"Crew\", \"gender\": 0, \"id\": 89714, \"job\": \"Stunts\", \"name\": \"Ilram Choi\"}, {\"credit_id\": \"54959c529251416e2b004394\", \"department\": \"Visual Effects\", \"gender\": 2, \"id\": 93214, \"job\": \"Visual Effects Supervisor\", \"name\": \"Steven Quale\"}, {\"credit_id\": \"54491edf0e0a267489001c37\", \"department\": \"Crew\", \"gender\": 1, \"id\": 122607, \"job\": \"Dialect Coach\", \"name\": \"Carla Meyer\"}, {\"credit_id\": \"539c485bc3a368653d001a3a\", \"department\": \"Art\", \"gender\": 2, \"id\": 132585, \"job\": \"Art Direction\", \"name\": \"Nick Bassett\"}, {\"credit_id\": \"539c4903c3a368653d001a74\", \"department\": \"Art\", \"gender\": 0, \"id\": 132596, \"job\": \"Art Direction\", \"name\": \"Jill Cormack\"}, {\"credit_id\": \"539c4967c3a368653d001a94\", \"department\": \"Art\", \"gender\": 0, \"id\": 132604, \"job\": \"Art Direction\", \"name\": \"Andy McLaren\"}, {\"credit_id\": \"52fe48009251416c750aca45\", \"department\": \"Crew\", \"gender\": 0, \"id\": 236696, \"job\": \"Motion Capture Artist\", \"name\": \"Terry Notary\"}, {\"credit_id\": \"54959e02c3a3680fc60027d2\", \"department\": \"Crew\", \"gender\": 2, \"id\": 956198, \"job\": \"Stunt Coordinator\", \"name\": \"Garrett Warren\"}, {\"credit_id\": \"54959ca3c3a3686ae300438c\", \"department\": \"Visual Effects\", \"gender\": 2, \"id\": 957874, \"job\": \"Visual Effects Supervisor\", \"name\": \"Jonathan Rothbart\"}, {\"credit_id\": \"570b6f519251412c74001b2f\", \"department\": \"Art\", \"gender\": 0, \"id\": 957889, \"job\": \"Supervising Art Director\", \"name\": \"Stefan Dechant\"}, {\"credit_id\": \"570b6f62c3a3680b77007460\", \"department\": \"Art\", \"gender\": 2, \"id\": 959555, \"job\": \"Supervising Art Director\", \"name\": \"Todd Cherniawsky\"}, {\"credit_id\": \"539c4a3ac3a36810da0021cc\", \"department\": \"Production\", \"gender\": 0, \"id\": 1016177, \"job\": \"Casting\", \"name\": \"Miranda Rivers\"}, {\"credit_id\": \"539c482cc3a36810c1002062\", \"department\": \"Art\", \"gender\": 0, \"id\": 1032536, \"job\": \"Production Design\", \"name\": \"Robert Stromberg\"}, {\"credit_id\": \"539c4b65c3a36810c9002125\", \"department\": \"Costume & Make-Up\", \"gender\": 2, \"id\": 1071680, \"job\": \"Costume Design\", \"name\": \"John Harding\"}, {\"credit_id\": \"54959e6692514130fc002e4e\", \"department\": \"Camera\", \"gender\": 0, \"id\": 1177364, \"job\": \"Steadicam Operator\", \"name\": \"Roberto De Angelis\"}, {\"credit_id\": \"539c49f1c3a368653d001aac\", \"department\": \"Costume & Make-Up\", \"gender\": 2, \"id\": 1202850, \"job\": \"Makeup Department Head\", \"name\": \"Mike Smithson\"}, {\"credit_id\": \"5495999ec3a3686ae100460c\", \"department\": \"Visual Effects\", \"gender\": 0, \"id\": 1204668, \"job\": \"Visual Effects Producer\", \"name\": \"Alain Lalanne\"}, {\"credit_id\": \"54959cdfc3a3681153002729\", \"department\": \"Visual Effects\", \"gender\": 0, \"id\": 1206410, \"job\": \"Visual Effects Supervisor\", \"name\": \"Lucas Salton\"}, {\"credit_id\": \"549596239251417a81001eae\", \"department\": \"Crew\", \"gender\": 0, \"id\": 1234266, \"job\": \"Post Production Supervisor\", \"name\": \"Janace Tashjian\"}, {\"credit_id\": \"54959c859251416e1e003efe\", \"department\": \"Visual Effects\", \"gender\": 0, \"id\": 1271932, \"job\": \"Visual Effects Supervisor\", \"name\": \"Stephen Rosenbaum\"}, {\"credit_id\": \"5592af28c3a368775a00105f\", \"department\": \"Costume & Make-Up\", \"gender\": 0, \"id\": 1310064, \"job\": \"Makeup Artist\", \"name\": \"Frankie Karena\"}, {\"credit_id\": \"539c4adfc3a36810e300203b\", \"department\": \"Costume & Make-Up\", \"gender\": 1, \"id\": 1319844, \"job\": \"Costume Supervisor\", \"name\": \"Lisa Lovaas\"}, {\"credit_id\": \"54959b579251416e2b004371\", \"department\": \"Visual Effects\", \"gender\": 0, \"id\": 1327028, \"job\": \"Visual Effects Supervisor\", \"name\": \"Jonathan Fawkner\"}, {\"credit_id\": \"539c48a7c3a36810b5001fa7\", \"department\": \"Art\", \"gender\": 0, \"id\": 1330561, \"job\": \"Art Direction\", \"name\": \"Robert Bavin\"}, {\"credit_id\": \"539c4a71c3a36810da0021e0\", \"department\": \"Costume & Make-Up\", \"gender\": 0, \"id\": 1330567, \"job\": \"Costume Supervisor\", \"name\": \"Anthony Almaraz\"}, {\"credit_id\": \"539c4a8ac3a36810ba0021e4\", \"department\": \"Costume & Make-Up\", \"gender\": 0, \"id\": 1330570, \"job\": \"Costume Supervisor\", \"name\": \"Carolyn M. Fenton\"}, {\"credit_id\": \"539c4ab6c3a36810da0021f0\", \"department\": \"Costume & Make-Up\", \"gender\": 0, \"id\": 1330574, \"job\": \"Costume Supervisor\", \"name\": \"Beth Koenigsberg\"}, {\"credit_id\": \"54491ab70e0a267480001ba2\", \"department\": \"Art\", \"gender\": 0, \"id\": 1336191, \"job\": \"Set Designer\", \"name\": \"Sam Page\"}, {\"credit_id\": \"544919d9c3a3680fc30018bd\", \"department\": \"Art\", \"gender\": 0, \"id\": 1339441, \"job\": \"Set Designer\", \"name\": \"Tex Kadonaga\"}, {\"credit_id\": \"54491cf50e0a267483001b0c\", \"department\": \"Editing\", \"gender\": 0, \"id\": 1352422, \"job\": \"Dialogue Editor\", \"name\": \"Kim Foscato\"}, {\"credit_id\": \"544919f40e0a26748c001b09\", \"department\": \"Art\", \"gender\": 0, \"id\": 1352962, \"job\": \"Set Designer\", \"name\": \"Tammy S. Lee\"}, {\"credit_id\": \"5495a115c3a3680ff5002d71\", \"department\": \"Crew\", \"gender\": 0, \"id\": 1357070, \"job\": \"Transportation Coordinator\", \"name\": \"Denny Caira\"}, {\"credit_id\": \"5495a12f92514130fc002e94\", \"department\": \"Crew\", \"gender\": 0, \"id\": 1357071, \"job\": \"Transportation Coordinator\", \"name\": \"James Waitkus\"}, {\"credit_id\": \"5495976fc3a36811530026b0\", \"department\": \"Sound\", \"gender\": 0, \"id\": 1360103, \"job\": \"Supervising Sound Editor\", \"name\": \"Addison Teague\"}, {\"credit_id\": \"54491837c3a3680fb1001c5a\", \"department\": \"Art\", \"gender\": 2, \"id\": 1376887, \"job\": \"Set Designer\", \"name\": \"C. Scott Baker\"}, {\"credit_id\": \"54491878c3a3680fb4001c9d\", \"department\": \"Art\", \"gender\": 0, \"id\": 1376888, \"job\": \"Set Designer\", \"name\": \"Luke Caska\"}, {\"credit_id\": \"544918dac3a3680fa5001ae0\", \"department\": \"Art\", \"gender\": 0, \"id\": 1376889, \"job\": \"Set Designer\", \"name\": \"David Chow\"}, {\"credit_id\": \"544919110e0a267486001b68\", \"department\": \"Art\", \"gender\": 0, \"id\": 1376890, \"job\": \"Set Designer\", \"name\": \"Jonathan Dyer\"}, {\"credit_id\": \"54491967c3a3680faa001b5e\", \"department\": \"Art\", \"gender\": 0, \"id\": 1376891, \"job\": \"Set Designer\", \"name\": \"Joseph Hiura\"}, {\"credit_id\": \"54491997c3a3680fb1001c8a\", \"department\": \"Art\", \"gender\": 0, \"id\": 1376892, \"job\": \"Art Department Coordinator\", \"name\": \"Rebecca Jellie\"}, {\"credit_id\": \"544919ba0e0a26748f001b42\", \"department\": \"Art\", \"gender\": 0, \"id\": 1376893, \"job\": \"Set Designer\", \"name\": \"Robert Andrew Johnson\"}, {\"credit_id\": \"54491b1dc3a3680faa001b8c\", \"department\": \"Art\", \"gender\": 0, \"id\": 1376895, \"job\": \"Assistant Art Director\", \"name\": \"Mike Stassi\"}, {\"credit_id\": \"54491b79c3a3680fbb001826\", \"department\": \"Art\", \"gender\": 0, \"id\": 1376897, \"job\": \"Construction Coordinator\", \"name\": \"John Villarino\"}, {\"credit_id\": \"54491baec3a3680fb4001ce6\", \"department\": \"Art\", \"gender\": 2, \"id\": 1376898, \"job\": \"Assistant Art Director\", \"name\": \"Jeffrey Wisniewski\"}, {\"credit_id\": \"54491d2fc3a3680fb4001d07\", \"department\": \"Editing\", \"gender\": 0, \"id\": 1376899, \"job\": \"Dialogue Editor\", \"name\": \"Cheryl Nardi\"}, {\"credit_id\": \"54491d86c3a3680fa5001b2f\", \"department\": \"Editing\", \"gender\": 0, \"id\": 1376901, \"job\": \"Dialogue Editor\", \"name\": \"Marshall Winn\"}, {\"credit_id\": \"54491d9dc3a3680faa001bb0\", \"department\": \"Sound\", \"gender\": 0, \"id\": 1376902, \"job\": \"Supervising Sound Editor\", \"name\": \"Gwendolyn Yates Whittle\"}, {\"credit_id\": \"54491dc10e0a267486001bce\", \"department\": \"Sound\", \"gender\": 0, \"id\": 1376903, \"job\": \"Sound Re-Recording Mixer\", \"name\": \"William Stein\"}, {\"credit_id\": \"54491f500e0a26747c001c07\", \"department\": \"Crew\", \"gender\": 0, \"id\": 1376909, \"job\": \"Choreographer\", \"name\": \"Lula Washington\"}, {\"credit_id\": \"549599239251412c4e002a2e\", \"department\": \"Visual Effects\", \"gender\": 0, \"id\": 1391692, \"job\": \"Visual Effects Producer\", \"name\": \"Chris Del Conte\"}, {\"credit_id\": \"54959d54c3a36831b8001d9a\", \"department\": \"Visual Effects\", \"gender\": 2, \"id\": 1391695, \"job\": \"Visual Effects Supervisor\", \"name\": \"R. Christopher White\"}, {\"credit_id\": \"54959bdf9251412c4e002a66\", \"department\": \"Visual Effects\", \"gender\": 0, \"id\": 1394070, \"job\": \"Visual Effects Supervisor\", \"name\": \"Dan Lemmon\"}, {\"credit_id\": \"5495971d92514132ed002922\", \"department\": \"Sound\", \"gender\": 0, \"id\": 1394129, \"job\": \"Sound Effects Editor\", \"name\": \"Tim Nielsen\"}, {\"credit_id\": \"5592b25792514152cc0011aa\", \"department\": \"Crew\", \"gender\": 0, \"id\": 1394286, \"job\": \"CG Supervisor\", \"name\": \"Michael Mulholland\"}, {\"credit_id\": \"54959a329251416e2b004355\", \"department\": \"Crew\", \"gender\": 0, \"id\": 1394750, \"job\": \"Visual Effects Editor\", \"name\": \"Thomas Nittmann\"}, {\"credit_id\": \"54959d6dc3a3686ae9004401\", \"department\": \"Visual Effects\", \"gender\": 0, \"id\": 1394755, \"job\": \"Visual Effects Supervisor\", \"name\": \"Edson Williams\"}, {\"credit_id\": \"5495a08fc3a3686ae300441c\", \"department\": \"Editing\", \"gender\": 0, \"id\": 1394953, \"job\": \"Digital Intermediate\", \"name\": \"Christine Carr\"}, {\"credit_id\": \"55402d659251413d6d000249\", \"department\": \"Visual Effects\", \"gender\": 0, \"id\": 1395269, \"job\": \"Visual Effects Supervisor\", \"name\": \"John Bruno\"}, {\"credit_id\": \"54959e7b9251416e1e003f3e\", \"department\": \"Camera\", \"gender\": 0, \"id\": 1398970, \"job\": \"Steadicam Operator\", \"name\": \"David Emmerichs\"}, {\"credit_id\": \"54959734c3a3686ae10045e0\", \"department\": \"Sound\", \"gender\": 0, \"id\": 1400906, \"job\": \"Sound Effects Editor\", \"name\": \"Christopher Scarabosio\"}, {\"credit_id\": \"549595dd92514130fc002d79\", \"department\": \"Production\", \"gender\": 0, \"id\": 1401784, \"job\": \"Production Supervisor\", \"name\": \"Jennifer Teves\"}, {\"credit_id\": \"549596009251413af70028cc\", \"department\": \"Production\", \"gender\": 0, \"id\": 1401785, \"job\": \"Production Manager\", \"name\": \"Brigitte Yorke\"}, {\"credit_id\": \"549596e892514130fc002d99\", \"department\": \"Sound\", \"gender\": 0, \"id\": 1401786, \"job\": \"Sound Effects Editor\", \"name\": \"Ken Fischer\"}, {\"credit_id\": \"549598229251412c4e002a1c\", \"department\": \"Crew\", \"gender\": 0, \"id\": 1401787, \"job\": \"Special Effects Coordinator\", \"name\": \"Iain Hutton\"}, {\"credit_id\": \"549598349251416e2b00432b\", \"department\": \"Crew\", \"gender\": 0, \"id\": 1401788, \"job\": \"Special Effects Coordinator\", \"name\": \"Steve Ingram\"}, {\"credit_id\": \"54959905c3a3686ae3004324\", \"department\": \"Visual Effects\", \"gender\": 0, \"id\": 1401789, \"job\": \"Visual Effects Producer\", \"name\": \"Joyce Cox\"}, {\"credit_id\": \"5495994b92514132ed002951\", \"department\": \"Visual Effects\", \"gender\": 0, \"id\": 1401790, \"job\": \"Visual Effects Producer\", \"name\": \"Jenny Foster\"}, {\"credit_id\": \"549599cbc3a3686ae1004613\", \"department\": \"Crew\", \"gender\": 0, \"id\": 1401791, \"job\": \"Visual Effects Editor\", \"name\": \"Christopher Marino\"}, {\"credit_id\": \"549599f2c3a3686ae100461e\", \"department\": \"Crew\", \"gender\": 0, \"id\": 1401792, \"job\": \"Visual Effects Editor\", \"name\": \"Jim Milton\"}, {\"credit_id\": \"54959a51c3a3686af3003eb5\", \"department\": \"Visual Effects\", \"gender\": 0, \"id\": 1401793, \"job\": \"Visual Effects Producer\", \"name\": \"Cyndi Ochs\"}, {\"credit_id\": \"54959a7cc3a36811530026f4\", \"department\": \"Crew\", \"gender\": 0, \"id\": 1401794, \"job\": \"Visual Effects Editor\", \"name\": \"Lucas Putnam\"}, {\"credit_id\": \"54959b91c3a3680ff5002cb4\", \"department\": \"Visual Effects\", \"gender\": 0, \"id\": 1401795, \"job\": \"Visual Effects Supervisor\", \"name\": \"Anthony \\'Max\\' Ivins\"}, {\"credit_id\": \"54959bb69251412c4e002a5f\", \"department\": \"Visual Effects\", \"gender\": 0, \"id\": 1401796, \"job\": \"Visual Effects Supervisor\", \"name\": \"John Knoll\"}, {\"credit_id\": \"54959cbbc3a3686ae3004391\", \"department\": \"Visual Effects\", \"gender\": 2, \"id\": 1401799, \"job\": \"Visual Effects Supervisor\", \"name\": \"Eric Saindon\"}, {\"credit_id\": \"54959d06c3a3686ae90043f6\", \"department\": \"Visual Effects\", \"gender\": 0, \"id\": 1401800, \"job\": \"Visual Effects Supervisor\", \"name\": \"Wayne Stables\"}, {\"credit_id\": \"54959d259251416e1e003f11\", \"department\": \"Visual Effects\", \"gender\": 0, \"id\": 1401801, \"job\": \"Visual Effects Supervisor\", \"name\": \"David Stinnett\"}, {\"credit_id\": \"54959db49251413af7002975\", \"department\": \"Visual Effects\", \"gender\": 0, \"id\": 1401803, \"job\": \"Visual Effects Supervisor\", \"name\": \"Guy Williams\"}, {\"credit_id\": \"54959de4c3a3681153002750\", \"department\": \"Crew\", \"gender\": 0, \"id\": 1401804, \"job\": \"Stunt Coordinator\", \"name\": \"Stuart Thorp\"}, {\"credit_id\": \"54959ef2c3a3680fc60027f2\", \"department\": \"Lighting\", \"gender\": 0, \"id\": 1401805, \"job\": \"Best Boy Electric\", \"name\": \"Giles Coburn\"}, {\"credit_id\": \"54959f07c3a3680fc60027f9\", \"department\": \"Camera\", \"gender\": 2, \"id\": 1401806, \"job\": \"Still Photographer\", \"name\": \"Mark Fellman\"}, {\"credit_id\": \"54959f47c3a3681153002774\", \"department\": \"Lighting\", \"gender\": 0, \"id\": 1401807, \"job\": \"Lighting Technician\", \"name\": \"Scott Sprague\"}, {\"credit_id\": \"54959f8cc3a36831b8001df2\", \"department\": \"Visual Effects\", \"gender\": 0, \"id\": 1401808, \"job\": \"Animation Director\", \"name\": \"Jeremy Hollobon\"}, {\"credit_id\": \"54959fa0c3a36831b8001dfb\", \"department\": \"Visual Effects\", \"gender\": 0, \"id\": 1401809, \"job\": \"Animation Director\", \"name\": \"Orlando Meunier\"}, {\"credit_id\": \"54959fb6c3a3686af3003f54\", \"department\": \"Visual Effects\", \"gender\": 0, \"id\": 1401810, \"job\": \"Animation Director\", \"name\": \"Taisuke Tanimura\"}, {\"credit_id\": \"54959fd2c3a36831b8001e02\", \"department\": \"Costume & Make-Up\", \"gender\": 0, \"id\": 1401812, \"job\": \"Set Costumer\", \"name\": \"Lilia Mishel Acevedo\"}, {\"credit_id\": \"54959ff9c3a3686ae300440c\", \"department\": \"Costume & Make-Up\", \"gender\": 0, \"id\": 1401814, \"job\": \"Set Costumer\", \"name\": \"Alejandro M. Hernandez\"}, {\"credit_id\": \"5495a0ddc3a3686ae10046fe\", \"department\": \"Editing\", \"gender\": 0, \"id\": 1401815, \"job\": \"Digital Intermediate\", \"name\": \"Marvin Hall\"}, {\"credit_id\": \"5495a1f7c3a3686ae3004443\", \"department\": \"Production\", \"gender\": 0, \"id\": 1401816, \"job\": \"Publicist\", \"name\": \"Judy Alley\"}, {\"credit_id\": \"5592b29fc3a36869d100002f\", \"department\": \"Crew\", \"gender\": 0, \"id\": 1418381, \"job\": \"CG Supervisor\", \"name\": \"Mike Perry\"}, {\"credit_id\": \"5592b23a9251415df8001081\", \"department\": \"Crew\", \"gender\": 0, \"id\": 1426854, \"job\": \"CG Supervisor\", \"name\": \"Andrew Morley\"}, {\"credit_id\": \"55491e1192514104c40002d8\", \"department\": \"Art\", \"gender\": 0, \"id\": 1438901, \"job\": \"Conceptual Design\", \"name\": \"Seth Engstrom\"}, {\"credit_id\": \"5525d5809251417276002b06\", \"department\": \"Crew\", \"gender\": 0, \"id\": 1447362, \"job\": \"Visual Effects Art Director\", \"name\": \"Eric Oliver\"}, {\"credit_id\": \"554427ca925141586500312a\", \"department\": \"Visual Effects\", \"gender\": 0, \"id\": 1447503, \"job\": \"Modeling\", \"name\": \"Matsune Suzuki\"}, {\"credit_id\": \"551906889251415aab001c88\", \"department\": \"Art\", \"gender\": 0, \"id\": 1447524, \"job\": \"Art Department Manager\", \"name\": \"Paul Tobin\"}, {\"credit_id\": \"5592af8492514152cc0010de\", \"department\": \"Costume & Make-Up\", \"gender\": 0, \"id\": 1452643, \"job\": \"Hairstylist\", \"name\": \"Roxane Griffin\"}, {\"credit_id\": \"553d3c109251415852001318\", \"department\": \"Lighting\", \"gender\": 0, \"id\": 1453938, \"job\": \"Lighting Artist\", \"name\": \"Arun Ram-Mohan\"}, {\"credit_id\": \"5592af4692514152d5001355\", \"department\": \"Costume & Make-Up\", \"gender\": 0, \"id\": 1457305, \"job\": \"Makeup Artist\", \"name\": \"Georgia Lockhart-Adams\"}, {\"credit_id\": \"5592b2eac3a36877470012a5\", \"department\": \"Crew\", \"gender\": 0, \"id\": 1466035, \"job\": \"CG Supervisor\", \"name\": \"Thrain Shadbolt\"}, {\"credit_id\": \"5592b032c3a36877450015f1\", \"department\": \"Crew\", \"gender\": 0, \"id\": 1483220, \"job\": \"CG Supervisor\", \"name\": \"Brad Alexander\"}, {\"credit_id\": \"5592b05592514152d80012f6\", \"department\": \"Crew\", \"gender\": 0, \"id\": 1483221, \"job\": \"CG Supervisor\", \"name\": \"Shadi Almassizadeh\"}, {\"credit_id\": \"5592b090c3a36877570010b5\", \"department\": \"Crew\", \"gender\": 0, \"id\": 1483222, \"job\": \"CG Supervisor\", \"name\": \"Simon Clutterbuck\"}, {\"credit_id\": \"5592b0dbc3a368774b00112c\", \"department\": \"Crew\", \"gender\": 0, \"id\": 1483223, \"job\": \"CG Supervisor\", \"name\": \"Graeme Demmocks\"}, {\"credit_id\": \"5592b0fe92514152db0010c1\", \"department\": \"Crew\", \"gender\": 0, \"id\": 1483224, \"job\": \"CG Supervisor\", \"name\": \"Adrian Fernandes\"}, {\"credit_id\": \"5592b11f9251415df8001059\", \"department\": \"Crew\", \"gender\": 0, \"id\": 1483225, \"job\": \"CG Supervisor\", \"name\": \"Mitch Gates\"}, {\"credit_id\": \"5592b15dc3a3687745001645\", \"department\": \"Crew\", \"gender\": 0, \"id\": 1483226, \"job\": \"CG Supervisor\", \"name\": \"Jerry Kung\"}, {\"credit_id\": \"5592b18e925141645a0004ae\", \"department\": \"Crew\", \"gender\": 0, \"id\": 1483227, \"job\": \"CG Supervisor\", \"name\": \"Andy Lomas\"}, {\"credit_id\": \"5592b1bfc3a368775d0010e7\", \"department\": \"Crew\", \"gender\": 0, \"id\": 1483228, \"job\": \"CG Supervisor\", \"name\": \"Sebastian Marino\"}, {\"credit_id\": \"5592b2049251415df8001078\", \"department\": \"Crew\", \"gender\": 0, \"id\": 1483229, \"job\": \"CG Supervisor\", \"name\": \"Matthias Menz\"}, {\"credit_id\": \"5592b27b92514152d800136a\", \"department\": \"Crew\", \"gender\": 0, \"id\": 1483230, \"job\": \"CG Supervisor\", \"name\": \"Sergei Nevshupov\"}, {\"credit_id\": \"5592b2c3c3a36869e800003c\", \"department\": \"Crew\", \"gender\": 0, \"id\": 1483231, \"job\": \"CG Supervisor\", \"name\": \"Philippe Rebours\"}, {\"credit_id\": \"5592b317c3a36877470012af\", \"department\": \"Crew\", \"gender\": 0, \"id\": 1483232, \"job\": \"CG Supervisor\", \"name\": \"Michael Takarangi\"}, {\"credit_id\": \"5592b345c3a36877470012bb\", \"department\": \"Crew\", \"gender\": 0, \"id\": 1483233, \"job\": \"CG Supervisor\", \"name\": \"David Weitzberg\"}, {\"credit_id\": \"5592b37cc3a368775100113b\", \"department\": \"Crew\", \"gender\": 0, \"id\": 1483234, \"job\": \"CG Supervisor\", \"name\": \"Ben White\"}, {\"credit_id\": \"573c8e2f9251413f5d000094\", \"department\": \"Crew\", \"gender\": 1, \"id\": 1621932, \"job\": \"Stunts\", \"name\": \"Min Windle\"}]'"
      ]
     },
     "execution_count": 33,
     "metadata": {},
     "output_type": "execute_result"
    }
   ],
   "source": [
    "movies['crew'][0]"
   ]
  },
  {
   "cell_type": "code",
   "execution_count": 34,
   "id": "48984ec0-88e6-4064-8a33-b00e889da7a0",
   "metadata": {},
   "outputs": [],
   "source": [
    "import ast\n",
    "def extract_director(str):\n",
    "    L = []\n",
    "    for i in ast.literal_eval(str):\n",
    "        if i['job'] == 'Director':\n",
    "            L.append(i['name'])\n",
    "            break\n",
    "    return L"
   ]
  },
  {
   "cell_type": "code",
   "execution_count": 35,
   "id": "5867ea85-f35f-406c-9a6c-5f05c073b6cc",
   "metadata": {},
   "outputs": [],
   "source": [
    "movies['crew'] = movies['crew'].apply(extract_director)"
   ]
  },
  {
   "cell_type": "code",
   "execution_count": 36,
   "id": "d11ce9ff-9e8c-410e-890c-3cc740909cd3",
   "metadata": {},
   "outputs": [
    {
     "data": {
      "text/html": [
       "<div>\n",
       "<style scoped>\n",
       "    .dataframe tbody tr th:only-of-type {\n",
       "        vertical-align: middle;\n",
       "    }\n",
       "\n",
       "    .dataframe tbody tr th {\n",
       "        vertical-align: top;\n",
       "    }\n",
       "\n",
       "    .dataframe thead th {\n",
       "        text-align: right;\n",
       "    }\n",
       "</style>\n",
       "<table border=\"1\" class=\"dataframe\">\n",
       "  <thead>\n",
       "    <tr style=\"text-align: right;\">\n",
       "      <th></th>\n",
       "      <th>movie_id</th>\n",
       "      <th>title</th>\n",
       "      <th>overview</th>\n",
       "      <th>genres</th>\n",
       "      <th>keywords</th>\n",
       "      <th>cast</th>\n",
       "      <th>crew</th>\n",
       "    </tr>\n",
       "  </thead>\n",
       "  <tbody>\n",
       "    <tr>\n",
       "      <th>0</th>\n",
       "      <td>19995</td>\n",
       "      <td>Avatar</td>\n",
       "      <td>In the 22nd century, a paraplegic Marine is di...</td>\n",
       "      <td>[Action, Adventure, Fantasy, Science Fiction]</td>\n",
       "      <td>[culture clash, future, space war, space colon...</td>\n",
       "      <td>[Sam Worthington, Zoe Saldana, Sigourney Weaver]</td>\n",
       "      <td>[James Cameron]</td>\n",
       "    </tr>\n",
       "    <tr>\n",
       "      <th>1</th>\n",
       "      <td>285</td>\n",
       "      <td>Pirates of the Caribbean: At World's End</td>\n",
       "      <td>Captain Barbossa, long believed to be dead, ha...</td>\n",
       "      <td>[Adventure, Fantasy, Action]</td>\n",
       "      <td>[ocean, drug abuse, exotic island, east india ...</td>\n",
       "      <td>[Johnny Depp, Orlando Bloom, Keira Knightley]</td>\n",
       "      <td>[Gore Verbinski]</td>\n",
       "    </tr>\n",
       "    <tr>\n",
       "      <th>2</th>\n",
       "      <td>206647</td>\n",
       "      <td>Spectre</td>\n",
       "      <td>A cryptic message from Bond’s past sends him o...</td>\n",
       "      <td>[Action, Adventure, Crime]</td>\n",
       "      <td>[spy, based on novel, secret agent, sequel, mi...</td>\n",
       "      <td>[Daniel Craig, Christoph Waltz, Léa Seydoux]</td>\n",
       "      <td>[Sam Mendes]</td>\n",
       "    </tr>\n",
       "  </tbody>\n",
       "</table>\n",
       "</div>"
      ],
      "text/plain": [
       "   movie_id                                     title  \\\n",
       "0     19995                                    Avatar   \n",
       "1       285  Pirates of the Caribbean: At World's End   \n",
       "2    206647                                   Spectre   \n",
       "\n",
       "                                            overview  \\\n",
       "0  In the 22nd century, a paraplegic Marine is di...   \n",
       "1  Captain Barbossa, long believed to be dead, ha...   \n",
       "2  A cryptic message from Bond’s past sends him o...   \n",
       "\n",
       "                                          genres  \\\n",
       "0  [Action, Adventure, Fantasy, Science Fiction]   \n",
       "1                   [Adventure, Fantasy, Action]   \n",
       "2                     [Action, Adventure, Crime]   \n",
       "\n",
       "                                            keywords  \\\n",
       "0  [culture clash, future, space war, space colon...   \n",
       "1  [ocean, drug abuse, exotic island, east india ...   \n",
       "2  [spy, based on novel, secret agent, sequel, mi...   \n",
       "\n",
       "                                               cast              crew  \n",
       "0  [Sam Worthington, Zoe Saldana, Sigourney Weaver]   [James Cameron]  \n",
       "1     [Johnny Depp, Orlando Bloom, Keira Knightley]  [Gore Verbinski]  \n",
       "2      [Daniel Craig, Christoph Waltz, Léa Seydoux]      [Sam Mendes]  "
      ]
     },
     "execution_count": 36,
     "metadata": {},
     "output_type": "execute_result"
    }
   ],
   "source": [
    "movies.head(3)"
   ]
  },
  {
   "cell_type": "markdown",
   "id": "8f0635ec-7ad3-497e-b9c4-51a56f6deb5e",
   "metadata": {},
   "source": [
    "#### Overview"
   ]
  },
  {
   "cell_type": "code",
   "execution_count": 37,
   "id": "00ecdc75-5b31-4fa2-b514-c8c2851d5839",
   "metadata": {},
   "outputs": [
    {
     "data": {
      "text/plain": [
       "'In the 22nd century, a paraplegic Marine is dispatched to the moon Pandora on a unique mission, but becomes torn between following orders and protecting an alien civilization.'"
      ]
     },
     "execution_count": 37,
     "metadata": {},
     "output_type": "execute_result"
    }
   ],
   "source": [
    "movies['overview'][0]"
   ]
  },
  {
   "cell_type": "code",
   "execution_count": 38,
   "id": "08299f00-1fdb-436e-927b-352f917650be",
   "metadata": {},
   "outputs": [],
   "source": [
    "movies['overview'] = movies['overview'].apply(lambda x:x.split())"
   ]
  },
  {
   "cell_type": "code",
   "execution_count": 39,
   "id": "bae1f39e-b7c2-4d08-a516-eff248018121",
   "metadata": {},
   "outputs": [
    {
     "data": {
      "text/html": [
       "<div>\n",
       "<style scoped>\n",
       "    .dataframe tbody tr th:only-of-type {\n",
       "        vertical-align: middle;\n",
       "    }\n",
       "\n",
       "    .dataframe tbody tr th {\n",
       "        vertical-align: top;\n",
       "    }\n",
       "\n",
       "    .dataframe thead th {\n",
       "        text-align: right;\n",
       "    }\n",
       "</style>\n",
       "<table border=\"1\" class=\"dataframe\">\n",
       "  <thead>\n",
       "    <tr style=\"text-align: right;\">\n",
       "      <th></th>\n",
       "      <th>movie_id</th>\n",
       "      <th>title</th>\n",
       "      <th>overview</th>\n",
       "      <th>genres</th>\n",
       "      <th>keywords</th>\n",
       "      <th>cast</th>\n",
       "      <th>crew</th>\n",
       "    </tr>\n",
       "  </thead>\n",
       "  <tbody>\n",
       "    <tr>\n",
       "      <th>0</th>\n",
       "      <td>19995</td>\n",
       "      <td>Avatar</td>\n",
       "      <td>[In, the, 22nd, century,, a, paraplegic, Marin...</td>\n",
       "      <td>[Action, Adventure, Fantasy, Science Fiction]</td>\n",
       "      <td>[culture clash, future, space war, space colon...</td>\n",
       "      <td>[Sam Worthington, Zoe Saldana, Sigourney Weaver]</td>\n",
       "      <td>[James Cameron]</td>\n",
       "    </tr>\n",
       "    <tr>\n",
       "      <th>1</th>\n",
       "      <td>285</td>\n",
       "      <td>Pirates of the Caribbean: At World's End</td>\n",
       "      <td>[Captain, Barbossa,, long, believed, to, be, d...</td>\n",
       "      <td>[Adventure, Fantasy, Action]</td>\n",
       "      <td>[ocean, drug abuse, exotic island, east india ...</td>\n",
       "      <td>[Johnny Depp, Orlando Bloom, Keira Knightley]</td>\n",
       "      <td>[Gore Verbinski]</td>\n",
       "    </tr>\n",
       "    <tr>\n",
       "      <th>2</th>\n",
       "      <td>206647</td>\n",
       "      <td>Spectre</td>\n",
       "      <td>[A, cryptic, message, from, Bond’s, past, send...</td>\n",
       "      <td>[Action, Adventure, Crime]</td>\n",
       "      <td>[spy, based on novel, secret agent, sequel, mi...</td>\n",
       "      <td>[Daniel Craig, Christoph Waltz, Léa Seydoux]</td>\n",
       "      <td>[Sam Mendes]</td>\n",
       "    </tr>\n",
       "  </tbody>\n",
       "</table>\n",
       "</div>"
      ],
      "text/plain": [
       "   movie_id                                     title  \\\n",
       "0     19995                                    Avatar   \n",
       "1       285  Pirates of the Caribbean: At World's End   \n",
       "2    206647                                   Spectre   \n",
       "\n",
       "                                            overview  \\\n",
       "0  [In, the, 22nd, century,, a, paraplegic, Marin...   \n",
       "1  [Captain, Barbossa,, long, believed, to, be, d...   \n",
       "2  [A, cryptic, message, from, Bond’s, past, send...   \n",
       "\n",
       "                                          genres  \\\n",
       "0  [Action, Adventure, Fantasy, Science Fiction]   \n",
       "1                   [Adventure, Fantasy, Action]   \n",
       "2                     [Action, Adventure, Crime]   \n",
       "\n",
       "                                            keywords  \\\n",
       "0  [culture clash, future, space war, space colon...   \n",
       "1  [ocean, drug abuse, exotic island, east india ...   \n",
       "2  [spy, based on novel, secret agent, sequel, mi...   \n",
       "\n",
       "                                               cast              crew  \n",
       "0  [Sam Worthington, Zoe Saldana, Sigourney Weaver]   [James Cameron]  \n",
       "1     [Johnny Depp, Orlando Bloom, Keira Knightley]  [Gore Verbinski]  \n",
       "2      [Daniel Craig, Christoph Waltz, Léa Seydoux]      [Sam Mendes]  "
      ]
     },
     "execution_count": 39,
     "metadata": {},
     "output_type": "execute_result"
    }
   ],
   "source": [
    "movies.head(3)"
   ]
  },
  {
   "cell_type": "markdown",
   "id": "6435526f-d644-48e5-a888-a8592c4a6573",
   "metadata": {},
   "source": [
    "### Indian Movie Column Processing"
   ]
  },
  {
   "cell_type": "markdown",
   "id": "b0ab4648-8baf-4c6b-a9e0-f633ec360dd3",
   "metadata": {},
   "source": [
    "#### Processing Indian Movies"
   ]
  },
  {
   "cell_type": "code",
   "execution_count": 40,
   "id": "4668b537-6719-475b-bf3f-492bedea99ed",
   "metadata": {},
   "outputs": [
    {
     "data": {
      "text/html": [
       "<div>\n",
       "<style scoped>\n",
       "    .dataframe tbody tr th:only-of-type {\n",
       "        vertical-align: middle;\n",
       "    }\n",
       "\n",
       "    .dataframe tbody tr th {\n",
       "        vertical-align: top;\n",
       "    }\n",
       "\n",
       "    .dataframe thead th {\n",
       "        text-align: right;\n",
       "    }\n",
       "</style>\n",
       "<table border=\"1\" class=\"dataframe\">\n",
       "  <thead>\n",
       "    <tr style=\"text-align: right;\">\n",
       "      <th></th>\n",
       "      <th>movie_id</th>\n",
       "      <th>title</th>\n",
       "      <th>overview</th>\n",
       "      <th>genres</th>\n",
       "      <th>cast</th>\n",
       "      <th>crew</th>\n",
       "    </tr>\n",
       "  </thead>\n",
       "  <tbody>\n",
       "    <tr>\n",
       "      <th>0</th>\n",
       "      <td>tt5286444</td>\n",
       "      <td>Neerja</td>\n",
       "      <td>Neerja is the story of the courageous Neerja B...</td>\n",
       "      <td>[ \"Biography\", \"Drama\", \"Thriller\" ]</td>\n",
       "      <td>[ \"Sonam Kapoor\", \"Shabana Azmi\", \"Yogendra Ti...</td>\n",
       "      <td>[ \"Ram Madhvani\" ]</td>\n",
       "    </tr>\n",
       "    <tr>\n",
       "      <th>1</th>\n",
       "      <td>tt4434004</td>\n",
       "      <td>Udta Punjab</td>\n",
       "      <td>A story that revolves around drug abuse in the...</td>\n",
       "      <td>[ \"Crime\", \"Drama\", \"Thriller\" ]</td>\n",
       "      <td>[ \"Alia Bhatt\", \"Shahid Kapoor\", \"Diljit Dosan...</td>\n",
       "      <td>[ \"Abhishek Chaubey\" ]</td>\n",
       "    </tr>\n",
       "    <tr>\n",
       "      <th>2</th>\n",
       "      <td>tt0248126</td>\n",
       "      <td>Kabhi Khushi Kabhie Gham...</td>\n",
       "      <td>Yashvardhan Raichand lives a very wealthy life...</td>\n",
       "      <td>[ \"Drama\", \"Musical\", \"Romance\" ]</td>\n",
       "      <td>[ \"Amitabh Bachchan\", \"Jaya Bhaduri\", \"Shah Ru...</td>\n",
       "      <td>[ \"Karan Johar\" ]</td>\n",
       "    </tr>\n",
       "    <tr>\n",
       "      <th>3</th>\n",
       "      <td>tt0347304</td>\n",
       "      <td>Kal Ho Naa Ho</td>\n",
       "      <td>Naina, an introverted, perpetually depressed g...</td>\n",
       "      <td>[ \"Comedy\", \"Drama\", \"Romance\" ]</td>\n",
       "      <td>[ \"Shah Rukh Khan\", \"Preity Zinta\", \"Saif Ali ...</td>\n",
       "      <td>[ \"Nikkhil Advani\" ]</td>\n",
       "    </tr>\n",
       "    <tr>\n",
       "      <th>4</th>\n",
       "      <td>tt3043252</td>\n",
       "      <td>Parched</td>\n",
       "      <td>'Parched' is a story about women set in the he...</td>\n",
       "      <td>[ \"Drama\" ]</td>\n",
       "      <td>[ \"Tannishtha Chatterjee\", \"Radhika Apte\", \"Le...</td>\n",
       "      <td>[ \"Leena Yadav\" ]</td>\n",
       "    </tr>\n",
       "  </tbody>\n",
       "</table>\n",
       "</div>"
      ],
      "text/plain": [
       "    movie_id                        title  \\\n",
       "0  tt5286444                       Neerja   \n",
       "1  tt4434004                  Udta Punjab   \n",
       "2  tt0248126  Kabhi Khushi Kabhie Gham...   \n",
       "3  tt0347304                Kal Ho Naa Ho   \n",
       "4  tt3043252                      Parched   \n",
       "\n",
       "                                            overview  \\\n",
       "0  Neerja is the story of the courageous Neerja B...   \n",
       "1  A story that revolves around drug abuse in the...   \n",
       "2  Yashvardhan Raichand lives a very wealthy life...   \n",
       "3  Naina, an introverted, perpetually depressed g...   \n",
       "4  'Parched' is a story about women set in the he...   \n",
       "\n",
       "                                 genres  \\\n",
       "0  [ \"Biography\", \"Drama\", \"Thriller\" ]   \n",
       "1      [ \"Crime\", \"Drama\", \"Thriller\" ]   \n",
       "2     [ \"Drama\", \"Musical\", \"Romance\" ]   \n",
       "3      [ \"Comedy\", \"Drama\", \"Romance\" ]   \n",
       "4                           [ \"Drama\" ]   \n",
       "\n",
       "                                                cast                    crew  \n",
       "0  [ \"Sonam Kapoor\", \"Shabana Azmi\", \"Yogendra Ti...      [ \"Ram Madhvani\" ]  \n",
       "1  [ \"Alia Bhatt\", \"Shahid Kapoor\", \"Diljit Dosan...  [ \"Abhishek Chaubey\" ]  \n",
       "2  [ \"Amitabh Bachchan\", \"Jaya Bhaduri\", \"Shah Ru...       [ \"Karan Johar\" ]  \n",
       "3  [ \"Shah Rukh Khan\", \"Preity Zinta\", \"Saif Ali ...    [ \"Nikkhil Advani\" ]  \n",
       "4  [ \"Tannishtha Chatterjee\", \"Radhika Apte\", \"Le...       [ \"Leena Yadav\" ]  "
      ]
     },
     "metadata": {},
     "output_type": "display_data"
    }
   ],
   "source": [
    "display(in_movies.head())"
   ]
  },
  {
   "cell_type": "code",
   "execution_count": 41,
   "id": "f74936d6-28d8-4a1e-9c69-32652a9b5d73",
   "metadata": {},
   "outputs": [
    {
     "data": {
      "text/plain": [
       "dtype('O')"
      ]
     },
     "execution_count": 41,
     "metadata": {},
     "output_type": "execute_result"
    }
   ],
   "source": [
    "in_movies['cast'].dtype"
   ]
  },
  {
   "cell_type": "code",
   "execution_count": 42,
   "id": "668bd7e0-66bc-4689-8361-110711852165",
   "metadata": {},
   "outputs": [],
   "source": [
    "import ast\n",
    "def extract_list_in(str):\n",
    "    L = []\n",
    "    for i in ast.literal_eval(str):\n",
    "        L.append(i)\n",
    "    return L"
   ]
  },
  {
   "cell_type": "code",
   "execution_count": 43,
   "id": "ef1ff062-d108-4ef0-8bcf-7df09dac766c",
   "metadata": {},
   "outputs": [],
   "source": [
    "in_movies['genres'] = in_movies['genres'].apply(extract_list_in)\n",
    "in_movies['crew'] = in_movies['crew'].apply(extract_list_in)"
   ]
  },
  {
   "cell_type": "code",
   "execution_count": 44,
   "id": "b2979da6-bc02-4a77-b31e-02ecf468b51c",
   "metadata": {},
   "outputs": [],
   "source": [
    "def extract_top3_in(str):\n",
    "    L = []\n",
    "    counter = 0\n",
    "    for i in ast.literal_eval(str):\n",
    "        if counter != 3:\n",
    "            L.append(i)\n",
    "            counter+=1\n",
    "        else:\n",
    "            break\n",
    "    return L"
   ]
  },
  {
   "cell_type": "code",
   "execution_count": 45,
   "id": "e99372c2-1402-4269-bc15-849343b78929",
   "metadata": {},
   "outputs": [],
   "source": [
    "in_movies['cast'] = in_movies['cast'].apply(extract_top3_in)"
   ]
  },
  {
   "cell_type": "code",
   "execution_count": 46,
   "id": "d958aefd-2472-4a20-b1e8-fc7c94a7ae58",
   "metadata": {},
   "outputs": [],
   "source": [
    "in_movies['overview'] = in_movies['overview'].str.split(' ')"
   ]
  },
  {
   "cell_type": "code",
   "execution_count": 47,
   "id": "cdfa644b-1d18-493b-bc38-a9f7a21eb5c4",
   "metadata": {},
   "outputs": [
    {
     "data": {
      "text/html": [
       "<div>\n",
       "<style scoped>\n",
       "    .dataframe tbody tr th:only-of-type {\n",
       "        vertical-align: middle;\n",
       "    }\n",
       "\n",
       "    .dataframe tbody tr th {\n",
       "        vertical-align: top;\n",
       "    }\n",
       "\n",
       "    .dataframe thead th {\n",
       "        text-align: right;\n",
       "    }\n",
       "</style>\n",
       "<table border=\"1\" class=\"dataframe\">\n",
       "  <thead>\n",
       "    <tr style=\"text-align: right;\">\n",
       "      <th></th>\n",
       "      <th>movie_id</th>\n",
       "      <th>title</th>\n",
       "      <th>overview</th>\n",
       "      <th>genres</th>\n",
       "      <th>cast</th>\n",
       "      <th>crew</th>\n",
       "    </tr>\n",
       "  </thead>\n",
       "  <tbody>\n",
       "    <tr>\n",
       "      <th>0</th>\n",
       "      <td>tt5286444</td>\n",
       "      <td>Neerja</td>\n",
       "      <td>[Neerja, is, the, story, of, the, courageous, ...</td>\n",
       "      <td>[Biography, Drama, Thriller]</td>\n",
       "      <td>[Sonam Kapoor, Shabana Azmi, Yogendra Tikku]</td>\n",
       "      <td>[Ram Madhvani]</td>\n",
       "    </tr>\n",
       "    <tr>\n",
       "      <th>1</th>\n",
       "      <td>tt4434004</td>\n",
       "      <td>Udta Punjab</td>\n",
       "      <td>[A, story, that, revolves, around, drug, abuse...</td>\n",
       "      <td>[Crime, Drama, Thriller]</td>\n",
       "      <td>[Alia Bhatt, Shahid Kapoor, Diljit Dosanjh]</td>\n",
       "      <td>[Abhishek Chaubey]</td>\n",
       "    </tr>\n",
       "    <tr>\n",
       "      <th>2</th>\n",
       "      <td>tt0248126</td>\n",
       "      <td>Kabhi Khushi Kabhie Gham...</td>\n",
       "      <td>[Yashvardhan, Raichand, lives, a, very, wealth...</td>\n",
       "      <td>[Drama, Musical, Romance]</td>\n",
       "      <td>[Amitabh Bachchan, Jaya Bhaduri, Shah Rukh Khan]</td>\n",
       "      <td>[Karan Johar]</td>\n",
       "    </tr>\n",
       "    <tr>\n",
       "      <th>3</th>\n",
       "      <td>tt0347304</td>\n",
       "      <td>Kal Ho Naa Ho</td>\n",
       "      <td>[Naina,, an, introverted,, perpetually, depres...</td>\n",
       "      <td>[Comedy, Drama, Romance]</td>\n",
       "      <td>[Shah Rukh Khan, Preity Zinta, Saif Ali Khan]</td>\n",
       "      <td>[Nikkhil Advani]</td>\n",
       "    </tr>\n",
       "    <tr>\n",
       "      <th>4</th>\n",
       "      <td>tt3043252</td>\n",
       "      <td>Parched</td>\n",
       "      <td>['Parched', is, a, story, about, women, set, i...</td>\n",
       "      <td>[Drama]</td>\n",
       "      <td>[Tannishtha Chatterjee, Radhika Apte, Lehar Khan]</td>\n",
       "      <td>[Leena Yadav]</td>\n",
       "    </tr>\n",
       "    <tr>\n",
       "      <th>...</th>\n",
       "      <td>...</td>\n",
       "      <td>...</td>\n",
       "      <td>...</td>\n",
       "      <td>...</td>\n",
       "      <td>...</td>\n",
       "      <td>...</td>\n",
       "    </tr>\n",
       "    <tr>\n",
       "      <th>2845</th>\n",
       "      <td>tt0308793</td>\n",
       "      <td>Ranadheera</td>\n",
       "      <td>NaN</td>\n",
       "      <td>[Crime]</td>\n",
       "      <td>[V. Ravichandran, Kushboo, Anant Nag]</td>\n",
       "      <td>[V. Ravichandran]</td>\n",
       "    </tr>\n",
       "    <tr>\n",
       "      <th>2846</th>\n",
       "      <td>tt3006508</td>\n",
       "      <td>Myna</td>\n",
       "      <td>NaN</td>\n",
       "      <td>[Romance]</td>\n",
       "      <td>[Chethan Kumar, Nithya Menon, Sarath Kumar]</td>\n",
       "      <td>[Nagashekar]</td>\n",
       "    </tr>\n",
       "    <tr>\n",
       "      <th>2847</th>\n",
       "      <td>tt5348692</td>\n",
       "      <td>Chaddi Dosth</td>\n",
       "      <td>[The, plot, is, simple., Ranganna, (Rangayana,...</td>\n",
       "      <td>[Comedy, Drama]</td>\n",
       "      <td>[Rangayana Raghu, Sadhu Kokila, Avinash]</td>\n",
       "      <td>[Pc Shekhar]</td>\n",
       "    </tr>\n",
       "    <tr>\n",
       "      <th>2848</th>\n",
       "      <td>tt3171754</td>\n",
       "      <td>Shravani Subramanya</td>\n",
       "      <td>NaN</td>\n",
       "      <td>[Comedy, Romance]</td>\n",
       "      <td>[Ganesh, Amulya, Anant Nag]</td>\n",
       "      <td>[Manju Swaraj]</td>\n",
       "    </tr>\n",
       "    <tr>\n",
       "      <th>2849</th>\n",
       "      <td>tt0231455</td>\n",
       "      <td>Dharmasere</td>\n",
       "      <td>NaN</td>\n",
       "      <td>[]</td>\n",
       "      <td>[]</td>\n",
       "      <td>[S.R. Puttana Kanagal]</td>\n",
       "    </tr>\n",
       "  </tbody>\n",
       "</table>\n",
       "<p>2850 rows × 6 columns</p>\n",
       "</div>"
      ],
      "text/plain": [
       "       movie_id                        title  \\\n",
       "0     tt5286444                       Neerja   \n",
       "1     tt4434004                  Udta Punjab   \n",
       "2     tt0248126  Kabhi Khushi Kabhie Gham...   \n",
       "3     tt0347304                Kal Ho Naa Ho   \n",
       "4     tt3043252                      Parched   \n",
       "...         ...                          ...   \n",
       "2845  tt0308793                   Ranadheera   \n",
       "2846  tt3006508                         Myna   \n",
       "2847  tt5348692                 Chaddi Dosth   \n",
       "2848  tt3171754          Shravani Subramanya   \n",
       "2849  tt0231455                   Dharmasere   \n",
       "\n",
       "                                               overview  \\\n",
       "0     [Neerja, is, the, story, of, the, courageous, ...   \n",
       "1     [A, story, that, revolves, around, drug, abuse...   \n",
       "2     [Yashvardhan, Raichand, lives, a, very, wealth...   \n",
       "3     [Naina,, an, introverted,, perpetually, depres...   \n",
       "4     ['Parched', is, a, story, about, women, set, i...   \n",
       "...                                                 ...   \n",
       "2845                                                NaN   \n",
       "2846                                                NaN   \n",
       "2847  [The, plot, is, simple., Ranganna, (Rangayana,...   \n",
       "2848                                                NaN   \n",
       "2849                                                NaN   \n",
       "\n",
       "                            genres  \\\n",
       "0     [Biography, Drama, Thriller]   \n",
       "1         [Crime, Drama, Thriller]   \n",
       "2        [Drama, Musical, Romance]   \n",
       "3         [Comedy, Drama, Romance]   \n",
       "4                          [Drama]   \n",
       "...                            ...   \n",
       "2845                       [Crime]   \n",
       "2846                     [Romance]   \n",
       "2847               [Comedy, Drama]   \n",
       "2848             [Comedy, Romance]   \n",
       "2849                            []   \n",
       "\n",
       "                                                   cast  \\\n",
       "0          [Sonam Kapoor, Shabana Azmi, Yogendra Tikku]   \n",
       "1           [Alia Bhatt, Shahid Kapoor, Diljit Dosanjh]   \n",
       "2      [Amitabh Bachchan, Jaya Bhaduri, Shah Rukh Khan]   \n",
       "3         [Shah Rukh Khan, Preity Zinta, Saif Ali Khan]   \n",
       "4     [Tannishtha Chatterjee, Radhika Apte, Lehar Khan]   \n",
       "...                                                 ...   \n",
       "2845              [V. Ravichandran, Kushboo, Anant Nag]   \n",
       "2846        [Chethan Kumar, Nithya Menon, Sarath Kumar]   \n",
       "2847           [Rangayana Raghu, Sadhu Kokila, Avinash]   \n",
       "2848                        [Ganesh, Amulya, Anant Nag]   \n",
       "2849                                                 []   \n",
       "\n",
       "                        crew  \n",
       "0             [Ram Madhvani]  \n",
       "1         [Abhishek Chaubey]  \n",
       "2              [Karan Johar]  \n",
       "3           [Nikkhil Advani]  \n",
       "4              [Leena Yadav]  \n",
       "...                      ...  \n",
       "2845       [V. Ravichandran]  \n",
       "2846            [Nagashekar]  \n",
       "2847            [Pc Shekhar]  \n",
       "2848          [Manju Swaraj]  \n",
       "2849  [S.R. Puttana Kanagal]  \n",
       "\n",
       "[2850 rows x 6 columns]"
      ]
     },
     "execution_count": 47,
     "metadata": {},
     "output_type": "execute_result"
    }
   ],
   "source": [
    "in_movies"
   ]
  },
  {
   "cell_type": "markdown",
   "id": "1b6b8791-2a91-4346-9f77-7f8a4b0c1f0e",
   "metadata": {},
   "source": [
    "#### Merge Indian datasets with Rest"
   ]
  },
  {
   "cell_type": "code",
   "execution_count": 48,
   "id": "327ed77b-325c-42a2-8955-414ca1615802",
   "metadata": {},
   "outputs": [
    {
     "data": {
      "text/html": [
       "<div>\n",
       "<style scoped>\n",
       "    .dataframe tbody tr th:only-of-type {\n",
       "        vertical-align: middle;\n",
       "    }\n",
       "\n",
       "    .dataframe tbody tr th {\n",
       "        vertical-align: top;\n",
       "    }\n",
       "\n",
       "    .dataframe thead th {\n",
       "        text-align: right;\n",
       "    }\n",
       "</style>\n",
       "<table border=\"1\" class=\"dataframe\">\n",
       "  <thead>\n",
       "    <tr style=\"text-align: right;\">\n",
       "      <th></th>\n",
       "      <th>movie_id</th>\n",
       "      <th>title</th>\n",
       "      <th>overview</th>\n",
       "      <th>genres</th>\n",
       "      <th>cast</th>\n",
       "      <th>crew</th>\n",
       "    </tr>\n",
       "  </thead>\n",
       "  <tbody>\n",
       "    <tr>\n",
       "      <th>0</th>\n",
       "      <td>tt5286444</td>\n",
       "      <td>Neerja</td>\n",
       "      <td>[Neerja, is, the, story, of, the, courageous, ...</td>\n",
       "      <td>[Biography, Drama, Thriller]</td>\n",
       "      <td>[Sonam Kapoor, Shabana Azmi, Yogendra Tikku]</td>\n",
       "      <td>[Ram Madhvani]</td>\n",
       "    </tr>\n",
       "  </tbody>\n",
       "</table>\n",
       "</div>"
      ],
      "text/plain": [
       "    movie_id   title                                           overview  \\\n",
       "0  tt5286444  Neerja  [Neerja, is, the, story, of, the, courageous, ...   \n",
       "\n",
       "                         genres                                          cast  \\\n",
       "0  [Biography, Drama, Thriller]  [Sonam Kapoor, Shabana Azmi, Yogendra Tikku]   \n",
       "\n",
       "             crew  \n",
       "0  [Ram Madhvani]  "
      ]
     },
     "execution_count": 48,
     "metadata": {},
     "output_type": "execute_result"
    }
   ],
   "source": [
    "in_movies.head(1)"
   ]
  },
  {
   "cell_type": "code",
   "execution_count": 49,
   "id": "a83e10c0-aa71-4c81-9ad8-18db62781349",
   "metadata": {},
   "outputs": [
    {
     "data": {
      "text/html": [
       "<div>\n",
       "<style scoped>\n",
       "    .dataframe tbody tr th:only-of-type {\n",
       "        vertical-align: middle;\n",
       "    }\n",
       "\n",
       "    .dataframe tbody tr th {\n",
       "        vertical-align: top;\n",
       "    }\n",
       "\n",
       "    .dataframe thead th {\n",
       "        text-align: right;\n",
       "    }\n",
       "</style>\n",
       "<table border=\"1\" class=\"dataframe\">\n",
       "  <thead>\n",
       "    <tr style=\"text-align: right;\">\n",
       "      <th></th>\n",
       "      <th>movie_id</th>\n",
       "      <th>title</th>\n",
       "      <th>overview</th>\n",
       "      <th>genres</th>\n",
       "      <th>keywords</th>\n",
       "      <th>cast</th>\n",
       "      <th>crew</th>\n",
       "    </tr>\n",
       "  </thead>\n",
       "  <tbody>\n",
       "    <tr>\n",
       "      <th>0</th>\n",
       "      <td>19995</td>\n",
       "      <td>Avatar</td>\n",
       "      <td>[In, the, 22nd, century,, a, paraplegic, Marin...</td>\n",
       "      <td>[Action, Adventure, Fantasy, Science Fiction]</td>\n",
       "      <td>[culture clash, future, space war, space colon...</td>\n",
       "      <td>[Sam Worthington, Zoe Saldana, Sigourney Weaver]</td>\n",
       "      <td>[James Cameron]</td>\n",
       "    </tr>\n",
       "    <tr>\n",
       "      <th>1</th>\n",
       "      <td>285</td>\n",
       "      <td>Pirates of the Caribbean: At World's End</td>\n",
       "      <td>[Captain, Barbossa,, long, believed, to, be, d...</td>\n",
       "      <td>[Adventure, Fantasy, Action]</td>\n",
       "      <td>[ocean, drug abuse, exotic island, east india ...</td>\n",
       "      <td>[Johnny Depp, Orlando Bloom, Keira Knightley]</td>\n",
       "      <td>[Gore Verbinski]</td>\n",
       "    </tr>\n",
       "    <tr>\n",
       "      <th>2</th>\n",
       "      <td>206647</td>\n",
       "      <td>Spectre</td>\n",
       "      <td>[A, cryptic, message, from, Bond’s, past, send...</td>\n",
       "      <td>[Action, Adventure, Crime]</td>\n",
       "      <td>[spy, based on novel, secret agent, sequel, mi...</td>\n",
       "      <td>[Daniel Craig, Christoph Waltz, Léa Seydoux]</td>\n",
       "      <td>[Sam Mendes]</td>\n",
       "    </tr>\n",
       "    <tr>\n",
       "      <th>3</th>\n",
       "      <td>49026</td>\n",
       "      <td>The Dark Knight Rises</td>\n",
       "      <td>[Following, the, death, of, District, Attorney...</td>\n",
       "      <td>[Action, Crime, Drama, Thriller]</td>\n",
       "      <td>[dc comics, crime fighter, terrorist, secret i...</td>\n",
       "      <td>[Christian Bale, Michael Caine, Gary Oldman]</td>\n",
       "      <td>[Christopher Nolan]</td>\n",
       "    </tr>\n",
       "    <tr>\n",
       "      <th>4</th>\n",
       "      <td>49529</td>\n",
       "      <td>John Carter</td>\n",
       "      <td>[John, Carter, is, a, war-weary,, former, mili...</td>\n",
       "      <td>[Action, Adventure, Science Fiction]</td>\n",
       "      <td>[based on novel, mars, medallion, space travel...</td>\n",
       "      <td>[Taylor Kitsch, Lynn Collins, Samantha Morton]</td>\n",
       "      <td>[Andrew Stanton]</td>\n",
       "    </tr>\n",
       "    <tr>\n",
       "      <th>...</th>\n",
       "      <td>...</td>\n",
       "      <td>...</td>\n",
       "      <td>...</td>\n",
       "      <td>...</td>\n",
       "      <td>...</td>\n",
       "      <td>...</td>\n",
       "      <td>...</td>\n",
       "    </tr>\n",
       "    <tr>\n",
       "      <th>7651</th>\n",
       "      <td>tt0308793</td>\n",
       "      <td>Ranadheera</td>\n",
       "      <td>NaN</td>\n",
       "      <td>[Crime]</td>\n",
       "      <td>NaN</td>\n",
       "      <td>[V. Ravichandran, Kushboo, Anant Nag]</td>\n",
       "      <td>[V. Ravichandran]</td>\n",
       "    </tr>\n",
       "    <tr>\n",
       "      <th>7652</th>\n",
       "      <td>tt3006508</td>\n",
       "      <td>Myna</td>\n",
       "      <td>NaN</td>\n",
       "      <td>[Romance]</td>\n",
       "      <td>NaN</td>\n",
       "      <td>[Chethan Kumar, Nithya Menon, Sarath Kumar]</td>\n",
       "      <td>[Nagashekar]</td>\n",
       "    </tr>\n",
       "    <tr>\n",
       "      <th>7653</th>\n",
       "      <td>tt5348692</td>\n",
       "      <td>Chaddi Dosth</td>\n",
       "      <td>[The, plot, is, simple., Ranganna, (Rangayana,...</td>\n",
       "      <td>[Comedy, Drama]</td>\n",
       "      <td>NaN</td>\n",
       "      <td>[Rangayana Raghu, Sadhu Kokila, Avinash]</td>\n",
       "      <td>[Pc Shekhar]</td>\n",
       "    </tr>\n",
       "    <tr>\n",
       "      <th>7654</th>\n",
       "      <td>tt3171754</td>\n",
       "      <td>Shravani Subramanya</td>\n",
       "      <td>NaN</td>\n",
       "      <td>[Comedy, Romance]</td>\n",
       "      <td>NaN</td>\n",
       "      <td>[Ganesh, Amulya, Anant Nag]</td>\n",
       "      <td>[Manju Swaraj]</td>\n",
       "    </tr>\n",
       "    <tr>\n",
       "      <th>7655</th>\n",
       "      <td>tt0231455</td>\n",
       "      <td>Dharmasere</td>\n",
       "      <td>NaN</td>\n",
       "      <td>[]</td>\n",
       "      <td>NaN</td>\n",
       "      <td>[]</td>\n",
       "      <td>[S.R. Puttana Kanagal]</td>\n",
       "    </tr>\n",
       "  </tbody>\n",
       "</table>\n",
       "<p>7656 rows × 7 columns</p>\n",
       "</div>"
      ],
      "text/plain": [
       "       movie_id                                     title  \\\n",
       "0         19995                                    Avatar   \n",
       "1           285  Pirates of the Caribbean: At World's End   \n",
       "2        206647                                   Spectre   \n",
       "3         49026                     The Dark Knight Rises   \n",
       "4         49529                               John Carter   \n",
       "...         ...                                       ...   \n",
       "7651  tt0308793                                Ranadheera   \n",
       "7652  tt3006508                                      Myna   \n",
       "7653  tt5348692                              Chaddi Dosth   \n",
       "7654  tt3171754                       Shravani Subramanya   \n",
       "7655  tt0231455                                Dharmasere   \n",
       "\n",
       "                                               overview  \\\n",
       "0     [In, the, 22nd, century,, a, paraplegic, Marin...   \n",
       "1     [Captain, Barbossa,, long, believed, to, be, d...   \n",
       "2     [A, cryptic, message, from, Bond’s, past, send...   \n",
       "3     [Following, the, death, of, District, Attorney...   \n",
       "4     [John, Carter, is, a, war-weary,, former, mili...   \n",
       "...                                                 ...   \n",
       "7651                                                NaN   \n",
       "7652                                                NaN   \n",
       "7653  [The, plot, is, simple., Ranganna, (Rangayana,...   \n",
       "7654                                                NaN   \n",
       "7655                                                NaN   \n",
       "\n",
       "                                             genres  \\\n",
       "0     [Action, Adventure, Fantasy, Science Fiction]   \n",
       "1                      [Adventure, Fantasy, Action]   \n",
       "2                        [Action, Adventure, Crime]   \n",
       "3                  [Action, Crime, Drama, Thriller]   \n",
       "4              [Action, Adventure, Science Fiction]   \n",
       "...                                             ...   \n",
       "7651                                        [Crime]   \n",
       "7652                                      [Romance]   \n",
       "7653                                [Comedy, Drama]   \n",
       "7654                              [Comedy, Romance]   \n",
       "7655                                             []   \n",
       "\n",
       "                                               keywords  \\\n",
       "0     [culture clash, future, space war, space colon...   \n",
       "1     [ocean, drug abuse, exotic island, east india ...   \n",
       "2     [spy, based on novel, secret agent, sequel, mi...   \n",
       "3     [dc comics, crime fighter, terrorist, secret i...   \n",
       "4     [based on novel, mars, medallion, space travel...   \n",
       "...                                                 ...   \n",
       "7651                                                NaN   \n",
       "7652                                                NaN   \n",
       "7653                                                NaN   \n",
       "7654                                                NaN   \n",
       "7655                                                NaN   \n",
       "\n",
       "                                                  cast                    crew  \n",
       "0     [Sam Worthington, Zoe Saldana, Sigourney Weaver]         [James Cameron]  \n",
       "1        [Johnny Depp, Orlando Bloom, Keira Knightley]        [Gore Verbinski]  \n",
       "2         [Daniel Craig, Christoph Waltz, Léa Seydoux]            [Sam Mendes]  \n",
       "3         [Christian Bale, Michael Caine, Gary Oldman]     [Christopher Nolan]  \n",
       "4       [Taylor Kitsch, Lynn Collins, Samantha Morton]        [Andrew Stanton]  \n",
       "...                                                ...                     ...  \n",
       "7651             [V. Ravichandran, Kushboo, Anant Nag]       [V. Ravichandran]  \n",
       "7652       [Chethan Kumar, Nithya Menon, Sarath Kumar]            [Nagashekar]  \n",
       "7653          [Rangayana Raghu, Sadhu Kokila, Avinash]            [Pc Shekhar]  \n",
       "7654                       [Ganesh, Amulya, Anant Nag]          [Manju Swaraj]  \n",
       "7655                                                []  [S.R. Puttana Kanagal]  \n",
       "\n",
       "[7656 rows x 7 columns]"
      ]
     },
     "execution_count": 49,
     "metadata": {},
     "output_type": "execute_result"
    }
   ],
   "source": [
    "movies = pd.concat([movies, in_movies], ignore_index=True)\n",
    "movies"
   ]
  },
  {
   "cell_type": "markdown",
   "id": "5d03e66d-c90f-410e-9021-f2dcafd3a0bb",
   "metadata": {},
   "source": [
    "**Filling Nan values with blank string for creation of tags**"
   ]
  },
  {
   "cell_type": "code",
   "execution_count": 68,
   "id": "9298822c-bc98-4572-8a3a-c2aeb5c65311",
   "metadata": {},
   "outputs": [
    {
     "data": {
      "text/plain": [
       "movie_id       0\n",
       "title          0\n",
       "overview    1098\n",
       "genres         0\n",
       "keywords    2850\n",
       "cast           0\n",
       "crew           0\n",
       "dtype: int64"
      ]
     },
     "execution_count": 68,
     "metadata": {},
     "output_type": "execute_result"
    }
   ],
   "source": [
    "movies.isna().sum()"
   ]
  },
  {
   "cell_type": "code",
   "execution_count": 69,
   "id": "c8be78fe-14db-43fd-bc42-2cc804108479",
   "metadata": {},
   "outputs": [],
   "source": [
    "movies.fillna('', inplace=True)"
   ]
  },
  {
   "cell_type": "code",
   "execution_count": 70,
   "id": "91347575-6d6e-412a-8243-df2b647a4e3e",
   "metadata": {},
   "outputs": [
    {
     "data": {
      "text/plain": [
       "movie_id    0\n",
       "title       0\n",
       "overview    0\n",
       "genres      0\n",
       "keywords    0\n",
       "cast        0\n",
       "crew        0\n",
       "dtype: int64"
      ]
     },
     "execution_count": 70,
     "metadata": {},
     "output_type": "execute_result"
    }
   ],
   "source": [
    "movies.isna().sum()"
   ]
  },
  {
   "cell_type": "markdown",
   "id": "12ada730-a473-4b93-be94-2f19f215aa90",
   "metadata": {},
   "source": [
    "## Tags Creation"
   ]
  },
  {
   "cell_type": "markdown",
   "id": "ad36ba79-dcb6-4cb8-8fbf-d75852618565",
   "metadata": {},
   "source": [
    "### Space Removal\n",
    "**Remove space between words to identity them as a single entity to create tag.**<br/>\n",
    "For e.g,<br/>\n",
    "Souma Dey = 2 tags<br>\n",
    "Souma Das = 2 tags<br>\n",
    "so, which Souma to pick?"
   ]
  },
  {
   "cell_type": "code",
   "execution_count": 71,
   "id": "0a5cfd01-befe-4ea1-9135-1a58891d702e",
   "metadata": {},
   "outputs": [],
   "source": [
    "movies['genres'] = movies['genres'].apply(lambda x:[i.replace(\" \",\"\") for i in x])\n",
    "movies['keywords'] = movies['keywords'].apply(lambda x:[i.replace(\" \",\"\") for i in x])\n",
    "movies['cast'] = movies['cast'].apply(lambda x:[i.replace(\" \",\"\") for i in x])\n",
    "movies['crew'] = movies['crew'].apply(lambda x:[i.replace(\" \",\"\") for i in x])\n",
    "movies['overview'] = movies['overview'].apply(lambda x:[i.replace(\" \",\"\") for i in x])"
   ]
  },
  {
   "cell_type": "code",
   "execution_count": 72,
   "id": "131041fa-583b-488f-82c0-34453fecd24d",
   "metadata": {},
   "outputs": [
    {
     "data": {
      "text/html": [
       "<div>\n",
       "<style scoped>\n",
       "    .dataframe tbody tr th:only-of-type {\n",
       "        vertical-align: middle;\n",
       "    }\n",
       "\n",
       "    .dataframe tbody tr th {\n",
       "        vertical-align: top;\n",
       "    }\n",
       "\n",
       "    .dataframe thead th {\n",
       "        text-align: right;\n",
       "    }\n",
       "</style>\n",
       "<table border=\"1\" class=\"dataframe\">\n",
       "  <thead>\n",
       "    <tr style=\"text-align: right;\">\n",
       "      <th></th>\n",
       "      <th>movie_id</th>\n",
       "      <th>title</th>\n",
       "      <th>overview</th>\n",
       "      <th>genres</th>\n",
       "      <th>keywords</th>\n",
       "      <th>cast</th>\n",
       "      <th>crew</th>\n",
       "    </tr>\n",
       "  </thead>\n",
       "  <tbody>\n",
       "    <tr>\n",
       "      <th>0</th>\n",
       "      <td>19995</td>\n",
       "      <td>Avatar</td>\n",
       "      <td>[In, the, 22nd, century,, a, paraplegic, Marin...</td>\n",
       "      <td>[Action, Adventure, Fantasy, ScienceFiction]</td>\n",
       "      <td>[cultureclash, future, spacewar, spacecolony, ...</td>\n",
       "      <td>[SamWorthington, ZoeSaldana, SigourneyWeaver]</td>\n",
       "      <td>[JamesCameron]</td>\n",
       "    </tr>\n",
       "    <tr>\n",
       "      <th>1</th>\n",
       "      <td>285</td>\n",
       "      <td>Pirates of the Caribbean: At World's End</td>\n",
       "      <td>[Captain, Barbossa,, long, believed, to, be, d...</td>\n",
       "      <td>[Adventure, Fantasy, Action]</td>\n",
       "      <td>[ocean, drugabuse, exoticisland, eastindiatrad...</td>\n",
       "      <td>[JohnnyDepp, OrlandoBloom, KeiraKnightley]</td>\n",
       "      <td>[GoreVerbinski]</td>\n",
       "    </tr>\n",
       "    <tr>\n",
       "      <th>2</th>\n",
       "      <td>206647</td>\n",
       "      <td>Spectre</td>\n",
       "      <td>[A, cryptic, message, from, Bond’s, past, send...</td>\n",
       "      <td>[Action, Adventure, Crime]</td>\n",
       "      <td>[spy, basedonnovel, secretagent, sequel, mi6, ...</td>\n",
       "      <td>[DanielCraig, ChristophWaltz, LéaSeydoux]</td>\n",
       "      <td>[SamMendes]</td>\n",
       "    </tr>\n",
       "    <tr>\n",
       "      <th>3</th>\n",
       "      <td>49026</td>\n",
       "      <td>The Dark Knight Rises</td>\n",
       "      <td>[Following, the, death, of, District, Attorney...</td>\n",
       "      <td>[Action, Crime, Drama, Thriller]</td>\n",
       "      <td>[dccomics, crimefighter, terrorist, secretiden...</td>\n",
       "      <td>[ChristianBale, MichaelCaine, GaryOldman]</td>\n",
       "      <td>[ChristopherNolan]</td>\n",
       "    </tr>\n",
       "    <tr>\n",
       "      <th>4</th>\n",
       "      <td>49529</td>\n",
       "      <td>John Carter</td>\n",
       "      <td>[John, Carter, is, a, war-weary,, former, mili...</td>\n",
       "      <td>[Action, Adventure, ScienceFiction]</td>\n",
       "      <td>[basedonnovel, mars, medallion, spacetravel, p...</td>\n",
       "      <td>[TaylorKitsch, LynnCollins, SamanthaMorton]</td>\n",
       "      <td>[AndrewStanton]</td>\n",
       "    </tr>\n",
       "    <tr>\n",
       "      <th>...</th>\n",
       "      <td>...</td>\n",
       "      <td>...</td>\n",
       "      <td>...</td>\n",
       "      <td>...</td>\n",
       "      <td>...</td>\n",
       "      <td>...</td>\n",
       "      <td>...</td>\n",
       "    </tr>\n",
       "    <tr>\n",
       "      <th>7651</th>\n",
       "      <td>tt0308793</td>\n",
       "      <td>Ranadheera</td>\n",
       "      <td>[]</td>\n",
       "      <td>[Crime]</td>\n",
       "      <td>[]</td>\n",
       "      <td>[V.Ravichandran, Kushboo, AnantNag]</td>\n",
       "      <td>[V.Ravichandran]</td>\n",
       "    </tr>\n",
       "    <tr>\n",
       "      <th>7652</th>\n",
       "      <td>tt3006508</td>\n",
       "      <td>Myna</td>\n",
       "      <td>[]</td>\n",
       "      <td>[Romance]</td>\n",
       "      <td>[]</td>\n",
       "      <td>[ChethanKumar, NithyaMenon, SarathKumar]</td>\n",
       "      <td>[Nagashekar]</td>\n",
       "    </tr>\n",
       "    <tr>\n",
       "      <th>7653</th>\n",
       "      <td>tt5348692</td>\n",
       "      <td>Chaddi Dosth</td>\n",
       "      <td>[The, plot, is, simple., Ranganna, (Rangayana,...</td>\n",
       "      <td>[Comedy, Drama]</td>\n",
       "      <td>[]</td>\n",
       "      <td>[RangayanaRaghu, SadhuKokila, Avinash]</td>\n",
       "      <td>[PcShekhar]</td>\n",
       "    </tr>\n",
       "    <tr>\n",
       "      <th>7654</th>\n",
       "      <td>tt3171754</td>\n",
       "      <td>Shravani Subramanya</td>\n",
       "      <td>[]</td>\n",
       "      <td>[Comedy, Romance]</td>\n",
       "      <td>[]</td>\n",
       "      <td>[Ganesh, Amulya, AnantNag]</td>\n",
       "      <td>[ManjuSwaraj]</td>\n",
       "    </tr>\n",
       "    <tr>\n",
       "      <th>7655</th>\n",
       "      <td>tt0231455</td>\n",
       "      <td>Dharmasere</td>\n",
       "      <td>[]</td>\n",
       "      <td>[]</td>\n",
       "      <td>[]</td>\n",
       "      <td>[]</td>\n",
       "      <td>[S.R.PuttanaKanagal]</td>\n",
       "    </tr>\n",
       "  </tbody>\n",
       "</table>\n",
       "<p>7656 rows × 7 columns</p>\n",
       "</div>"
      ],
      "text/plain": [
       "       movie_id                                     title  \\\n",
       "0         19995                                    Avatar   \n",
       "1           285  Pirates of the Caribbean: At World's End   \n",
       "2        206647                                   Spectre   \n",
       "3         49026                     The Dark Knight Rises   \n",
       "4         49529                               John Carter   \n",
       "...         ...                                       ...   \n",
       "7651  tt0308793                                Ranadheera   \n",
       "7652  tt3006508                                      Myna   \n",
       "7653  tt5348692                              Chaddi Dosth   \n",
       "7654  tt3171754                       Shravani Subramanya   \n",
       "7655  tt0231455                                Dharmasere   \n",
       "\n",
       "                                               overview  \\\n",
       "0     [In, the, 22nd, century,, a, paraplegic, Marin...   \n",
       "1     [Captain, Barbossa,, long, believed, to, be, d...   \n",
       "2     [A, cryptic, message, from, Bond’s, past, send...   \n",
       "3     [Following, the, death, of, District, Attorney...   \n",
       "4     [John, Carter, is, a, war-weary,, former, mili...   \n",
       "...                                                 ...   \n",
       "7651                                                 []   \n",
       "7652                                                 []   \n",
       "7653  [The, plot, is, simple., Ranganna, (Rangayana,...   \n",
       "7654                                                 []   \n",
       "7655                                                 []   \n",
       "\n",
       "                                            genres  \\\n",
       "0     [Action, Adventure, Fantasy, ScienceFiction]   \n",
       "1                     [Adventure, Fantasy, Action]   \n",
       "2                       [Action, Adventure, Crime]   \n",
       "3                 [Action, Crime, Drama, Thriller]   \n",
       "4              [Action, Adventure, ScienceFiction]   \n",
       "...                                            ...   \n",
       "7651                                       [Crime]   \n",
       "7652                                     [Romance]   \n",
       "7653                               [Comedy, Drama]   \n",
       "7654                             [Comedy, Romance]   \n",
       "7655                                            []   \n",
       "\n",
       "                                               keywords  \\\n",
       "0     [cultureclash, future, spacewar, spacecolony, ...   \n",
       "1     [ocean, drugabuse, exoticisland, eastindiatrad...   \n",
       "2     [spy, basedonnovel, secretagent, sequel, mi6, ...   \n",
       "3     [dccomics, crimefighter, terrorist, secretiden...   \n",
       "4     [basedonnovel, mars, medallion, spacetravel, p...   \n",
       "...                                                 ...   \n",
       "7651                                                 []   \n",
       "7652                                                 []   \n",
       "7653                                                 []   \n",
       "7654                                                 []   \n",
       "7655                                                 []   \n",
       "\n",
       "                                               cast                  crew  \n",
       "0     [SamWorthington, ZoeSaldana, SigourneyWeaver]        [JamesCameron]  \n",
       "1        [JohnnyDepp, OrlandoBloom, KeiraKnightley]       [GoreVerbinski]  \n",
       "2         [DanielCraig, ChristophWaltz, LéaSeydoux]           [SamMendes]  \n",
       "3         [ChristianBale, MichaelCaine, GaryOldman]    [ChristopherNolan]  \n",
       "4       [TaylorKitsch, LynnCollins, SamanthaMorton]       [AndrewStanton]  \n",
       "...                                             ...                   ...  \n",
       "7651            [V.Ravichandran, Kushboo, AnantNag]      [V.Ravichandran]  \n",
       "7652       [ChethanKumar, NithyaMenon, SarathKumar]          [Nagashekar]  \n",
       "7653         [RangayanaRaghu, SadhuKokila, Avinash]           [PcShekhar]  \n",
       "7654                     [Ganesh, Amulya, AnantNag]         [ManjuSwaraj]  \n",
       "7655                                             []  [S.R.PuttanaKanagal]  \n",
       "\n",
       "[7656 rows x 7 columns]"
      ]
     },
     "execution_count": 72,
     "metadata": {},
     "output_type": "execute_result"
    }
   ],
   "source": [
    "movies"
   ]
  },
  {
   "cell_type": "markdown",
   "id": "b33570a1-4049-41f6-a34b-826e23bdbc38",
   "metadata": {},
   "source": [
    "### Tags Column"
   ]
  },
  {
   "cell_type": "code",
   "execution_count": 73,
   "id": "e913cde2-962f-457b-880c-b69d3028c507",
   "metadata": {},
   "outputs": [],
   "source": [
    "movies['tags'] = movies['overview'] + movies['genres'] + movies['keywords'] + movies['cast'] + movies['crew']"
   ]
  },
  {
   "cell_type": "code",
   "execution_count": 74,
   "id": "b34cae42-ed41-419a-83eb-c8fddec711e6",
   "metadata": {},
   "outputs": [
    {
     "data": {
      "text/html": [
       "<div>\n",
       "<style scoped>\n",
       "    .dataframe tbody tr th:only-of-type {\n",
       "        vertical-align: middle;\n",
       "    }\n",
       "\n",
       "    .dataframe tbody tr th {\n",
       "        vertical-align: top;\n",
       "    }\n",
       "\n",
       "    .dataframe thead th {\n",
       "        text-align: right;\n",
       "    }\n",
       "</style>\n",
       "<table border=\"1\" class=\"dataframe\">\n",
       "  <thead>\n",
       "    <tr style=\"text-align: right;\">\n",
       "      <th></th>\n",
       "      <th>movie_id</th>\n",
       "      <th>title</th>\n",
       "      <th>overview</th>\n",
       "      <th>genres</th>\n",
       "      <th>keywords</th>\n",
       "      <th>cast</th>\n",
       "      <th>crew</th>\n",
       "      <th>tags</th>\n",
       "    </tr>\n",
       "  </thead>\n",
       "  <tbody>\n",
       "    <tr>\n",
       "      <th>0</th>\n",
       "      <td>19995</td>\n",
       "      <td>Avatar</td>\n",
       "      <td>[In, the, 22nd, century,, a, paraplegic, Marin...</td>\n",
       "      <td>[Action, Adventure, Fantasy, ScienceFiction]</td>\n",
       "      <td>[cultureclash, future, spacewar, spacecolony, ...</td>\n",
       "      <td>[SamWorthington, ZoeSaldana, SigourneyWeaver]</td>\n",
       "      <td>[JamesCameron]</td>\n",
       "      <td>[In, the, 22nd, century,, a, paraplegic, Marin...</td>\n",
       "    </tr>\n",
       "    <tr>\n",
       "      <th>1</th>\n",
       "      <td>285</td>\n",
       "      <td>Pirates of the Caribbean: At World's End</td>\n",
       "      <td>[Captain, Barbossa,, long, believed, to, be, d...</td>\n",
       "      <td>[Adventure, Fantasy, Action]</td>\n",
       "      <td>[ocean, drugabuse, exoticisland, eastindiatrad...</td>\n",
       "      <td>[JohnnyDepp, OrlandoBloom, KeiraKnightley]</td>\n",
       "      <td>[GoreVerbinski]</td>\n",
       "      <td>[Captain, Barbossa,, long, believed, to, be, d...</td>\n",
       "    </tr>\n",
       "    <tr>\n",
       "      <th>2</th>\n",
       "      <td>206647</td>\n",
       "      <td>Spectre</td>\n",
       "      <td>[A, cryptic, message, from, Bond’s, past, send...</td>\n",
       "      <td>[Action, Adventure, Crime]</td>\n",
       "      <td>[spy, basedonnovel, secretagent, sequel, mi6, ...</td>\n",
       "      <td>[DanielCraig, ChristophWaltz, LéaSeydoux]</td>\n",
       "      <td>[SamMendes]</td>\n",
       "      <td>[A, cryptic, message, from, Bond’s, past, send...</td>\n",
       "    </tr>\n",
       "  </tbody>\n",
       "</table>\n",
       "</div>"
      ],
      "text/plain": [
       "  movie_id                                     title  \\\n",
       "0    19995                                    Avatar   \n",
       "1      285  Pirates of the Caribbean: At World's End   \n",
       "2   206647                                   Spectre   \n",
       "\n",
       "                                            overview  \\\n",
       "0  [In, the, 22nd, century,, a, paraplegic, Marin...   \n",
       "1  [Captain, Barbossa,, long, believed, to, be, d...   \n",
       "2  [A, cryptic, message, from, Bond’s, past, send...   \n",
       "\n",
       "                                         genres  \\\n",
       "0  [Action, Adventure, Fantasy, ScienceFiction]   \n",
       "1                  [Adventure, Fantasy, Action]   \n",
       "2                    [Action, Adventure, Crime]   \n",
       "\n",
       "                                            keywords  \\\n",
       "0  [cultureclash, future, spacewar, spacecolony, ...   \n",
       "1  [ocean, drugabuse, exoticisland, eastindiatrad...   \n",
       "2  [spy, basedonnovel, secretagent, sequel, mi6, ...   \n",
       "\n",
       "                                            cast             crew  \\\n",
       "0  [SamWorthington, ZoeSaldana, SigourneyWeaver]   [JamesCameron]   \n",
       "1     [JohnnyDepp, OrlandoBloom, KeiraKnightley]  [GoreVerbinski]   \n",
       "2      [DanielCraig, ChristophWaltz, LéaSeydoux]      [SamMendes]   \n",
       "\n",
       "                                                tags  \n",
       "0  [In, the, 22nd, century,, a, paraplegic, Marin...  \n",
       "1  [Captain, Barbossa,, long, believed, to, be, d...  \n",
       "2  [A, cryptic, message, from, Bond’s, past, send...  "
      ]
     },
     "execution_count": 74,
     "metadata": {},
     "output_type": "execute_result"
    }
   ],
   "source": [
    "movies.head(3)"
   ]
  },
  {
   "cell_type": "markdown",
   "id": "5ad01d24-fadf-45f6-966d-f7e96da0e1aa",
   "metadata": {},
   "source": [
    "## Reforming Dataframe\n",
    "**Columns**\n",
    "\n",
    "1. movie_id <br>\n",
    "2. title <br>\n",
    "3. Tags (genre + overview + cast[Top 3], + crew[Director]) <br>"
   ]
  },
  {
   "cell_type": "code",
   "execution_count": 75,
   "id": "7af4c845-d162-4c2f-ba17-2bfeb24c35ba",
   "metadata": {},
   "outputs": [],
   "source": [
    "new_movies = movies[['movie_id','title','tags']]"
   ]
  },
  {
   "cell_type": "code",
   "execution_count": 76,
   "id": "70b4ebd5-a044-4523-8ea0-549262d92a79",
   "metadata": {},
   "outputs": [
    {
     "data": {
      "text/html": [
       "<div>\n",
       "<style scoped>\n",
       "    .dataframe tbody tr th:only-of-type {\n",
       "        vertical-align: middle;\n",
       "    }\n",
       "\n",
       "    .dataframe tbody tr th {\n",
       "        vertical-align: top;\n",
       "    }\n",
       "\n",
       "    .dataframe thead th {\n",
       "        text-align: right;\n",
       "    }\n",
       "</style>\n",
       "<table border=\"1\" class=\"dataframe\">\n",
       "  <thead>\n",
       "    <tr style=\"text-align: right;\">\n",
       "      <th></th>\n",
       "      <th>movie_id</th>\n",
       "      <th>title</th>\n",
       "      <th>tags</th>\n",
       "    </tr>\n",
       "  </thead>\n",
       "  <tbody>\n",
       "    <tr>\n",
       "      <th>0</th>\n",
       "      <td>19995</td>\n",
       "      <td>Avatar</td>\n",
       "      <td>[In, the, 22nd, century,, a, paraplegic, Marin...</td>\n",
       "    </tr>\n",
       "    <tr>\n",
       "      <th>1</th>\n",
       "      <td>285</td>\n",
       "      <td>Pirates of the Caribbean: At World's End</td>\n",
       "      <td>[Captain, Barbossa,, long, believed, to, be, d...</td>\n",
       "    </tr>\n",
       "    <tr>\n",
       "      <th>2</th>\n",
       "      <td>206647</td>\n",
       "      <td>Spectre</td>\n",
       "      <td>[A, cryptic, message, from, Bond’s, past, send...</td>\n",
       "    </tr>\n",
       "    <tr>\n",
       "      <th>3</th>\n",
       "      <td>49026</td>\n",
       "      <td>The Dark Knight Rises</td>\n",
       "      <td>[Following, the, death, of, District, Attorney...</td>\n",
       "    </tr>\n",
       "    <tr>\n",
       "      <th>4</th>\n",
       "      <td>49529</td>\n",
       "      <td>John Carter</td>\n",
       "      <td>[John, Carter, is, a, war-weary,, former, mili...</td>\n",
       "    </tr>\n",
       "  </tbody>\n",
       "</table>\n",
       "</div>"
      ],
      "text/plain": [
       "  movie_id                                     title  \\\n",
       "0    19995                                    Avatar   \n",
       "1      285  Pirates of the Caribbean: At World's End   \n",
       "2   206647                                   Spectre   \n",
       "3    49026                     The Dark Knight Rises   \n",
       "4    49529                               John Carter   \n",
       "\n",
       "                                                tags  \n",
       "0  [In, the, 22nd, century,, a, paraplegic, Marin...  \n",
       "1  [Captain, Barbossa,, long, believed, to, be, d...  \n",
       "2  [A, cryptic, message, from, Bond’s, past, send...  \n",
       "3  [Following, the, death, of, District, Attorney...  \n",
       "4  [John, Carter, is, a, war-weary,, former, mili...  "
      ]
     },
     "execution_count": 76,
     "metadata": {},
     "output_type": "execute_result"
    }
   ],
   "source": [
    "new_movies.head()"
   ]
  },
  {
   "cell_type": "markdown",
   "id": "d015d6c0-6efe-495a-b15d-48d981b876f2",
   "metadata": {},
   "source": [
    "### Tags List -> String"
   ]
  },
  {
   "cell_type": "code",
   "execution_count": 77,
   "id": "c768dd98-03e9-49b2-83de-65f4ae3962c8",
   "metadata": {},
   "outputs": [],
   "source": [
    "new_movies['tags'] = movies['tags'].apply(lambda x:\" \".join(x))"
   ]
  },
  {
   "cell_type": "code",
   "execution_count": 78,
   "id": "ba112afd-f9e4-4256-869a-d416606c128e",
   "metadata": {},
   "outputs": [
    {
     "data": {
      "text/plain": [
       "0       In the 22nd century, a paraplegic Marine is di...\n",
       "1       Captain Barbossa, long believed to be dead, ha...\n",
       "2       A cryptic message from Bond’s past sends him o...\n",
       "3       Following the death of District Attorney Harve...\n",
       "4       John Carter is a war-weary, former military ca...\n",
       "                              ...                        \n",
       "7651    Crime V.Ravichandran Kushboo AnantNag V.Ravich...\n",
       "7652    Romance ChethanKumar NithyaMenon SarathKumar N...\n",
       "7653    The plot is simple. Ranganna (Rangayana Raghu)...\n",
       "7654    Comedy Romance Ganesh Amulya AnantNag ManjuSwaraj\n",
       "7655                                   S.R.PuttanaKanagal\n",
       "Name: tags, Length: 7656, dtype: object"
      ]
     },
     "execution_count": 78,
     "metadata": {},
     "output_type": "execute_result"
    }
   ],
   "source": [
    "new_movies['tags']"
   ]
  },
  {
   "cell_type": "markdown",
   "id": "3076ab3d-dce3-4d4f-bac8-d22c4165dc15",
   "metadata": {},
   "source": [
    "**Lowercase**"
   ]
  },
  {
   "cell_type": "code",
   "execution_count": 79,
   "id": "1f4bee7f-6ef9-48fb-8c44-bc5d57df40e3",
   "metadata": {},
   "outputs": [],
   "source": [
    "new_movies['tags'] = new_movies['tags'].apply(lambda x:x.lower())"
   ]
  },
  {
   "cell_type": "code",
   "execution_count": 80,
   "id": "822f47ad-3631-4c03-83c1-a2de75e66f4a",
   "metadata": {},
   "outputs": [
    {
     "data": {
      "text/html": [
       "<div>\n",
       "<style scoped>\n",
       "    .dataframe tbody tr th:only-of-type {\n",
       "        vertical-align: middle;\n",
       "    }\n",
       "\n",
       "    .dataframe tbody tr th {\n",
       "        vertical-align: top;\n",
       "    }\n",
       "\n",
       "    .dataframe thead th {\n",
       "        text-align: right;\n",
       "    }\n",
       "</style>\n",
       "<table border=\"1\" class=\"dataframe\">\n",
       "  <thead>\n",
       "    <tr style=\"text-align: right;\">\n",
       "      <th></th>\n",
       "      <th>movie_id</th>\n",
       "      <th>title</th>\n",
       "      <th>tags</th>\n",
       "    </tr>\n",
       "  </thead>\n",
       "  <tbody>\n",
       "    <tr>\n",
       "      <th>0</th>\n",
       "      <td>19995</td>\n",
       "      <td>Avatar</td>\n",
       "      <td>in the 22nd century, a paraplegic marine is di...</td>\n",
       "    </tr>\n",
       "    <tr>\n",
       "      <th>1</th>\n",
       "      <td>285</td>\n",
       "      <td>Pirates of the Caribbean: At World's End</td>\n",
       "      <td>captain barbossa, long believed to be dead, ha...</td>\n",
       "    </tr>\n",
       "    <tr>\n",
       "      <th>2</th>\n",
       "      <td>206647</td>\n",
       "      <td>Spectre</td>\n",
       "      <td>a cryptic message from bond’s past sends him o...</td>\n",
       "    </tr>\n",
       "    <tr>\n",
       "      <th>3</th>\n",
       "      <td>49026</td>\n",
       "      <td>The Dark Knight Rises</td>\n",
       "      <td>following the death of district attorney harve...</td>\n",
       "    </tr>\n",
       "    <tr>\n",
       "      <th>4</th>\n",
       "      <td>49529</td>\n",
       "      <td>John Carter</td>\n",
       "      <td>john carter is a war-weary, former military ca...</td>\n",
       "    </tr>\n",
       "    <tr>\n",
       "      <th>...</th>\n",
       "      <td>...</td>\n",
       "      <td>...</td>\n",
       "      <td>...</td>\n",
       "    </tr>\n",
       "    <tr>\n",
       "      <th>7651</th>\n",
       "      <td>tt0308793</td>\n",
       "      <td>Ranadheera</td>\n",
       "      <td>crime v.ravichandran kushboo anantnag v.ravich...</td>\n",
       "    </tr>\n",
       "    <tr>\n",
       "      <th>7652</th>\n",
       "      <td>tt3006508</td>\n",
       "      <td>Myna</td>\n",
       "      <td>romance chethankumar nithyamenon sarathkumar n...</td>\n",
       "    </tr>\n",
       "    <tr>\n",
       "      <th>7653</th>\n",
       "      <td>tt5348692</td>\n",
       "      <td>Chaddi Dosth</td>\n",
       "      <td>the plot is simple. ranganna (rangayana raghu)...</td>\n",
       "    </tr>\n",
       "    <tr>\n",
       "      <th>7654</th>\n",
       "      <td>tt3171754</td>\n",
       "      <td>Shravani Subramanya</td>\n",
       "      <td>comedy romance ganesh amulya anantnag manjuswaraj</td>\n",
       "    </tr>\n",
       "    <tr>\n",
       "      <th>7655</th>\n",
       "      <td>tt0231455</td>\n",
       "      <td>Dharmasere</td>\n",
       "      <td>s.r.puttanakanagal</td>\n",
       "    </tr>\n",
       "  </tbody>\n",
       "</table>\n",
       "<p>7656 rows × 3 columns</p>\n",
       "</div>"
      ],
      "text/plain": [
       "       movie_id                                     title  \\\n",
       "0         19995                                    Avatar   \n",
       "1           285  Pirates of the Caribbean: At World's End   \n",
       "2        206647                                   Spectre   \n",
       "3         49026                     The Dark Knight Rises   \n",
       "4         49529                               John Carter   \n",
       "...         ...                                       ...   \n",
       "7651  tt0308793                                Ranadheera   \n",
       "7652  tt3006508                                      Myna   \n",
       "7653  tt5348692                              Chaddi Dosth   \n",
       "7654  tt3171754                       Shravani Subramanya   \n",
       "7655  tt0231455                                Dharmasere   \n",
       "\n",
       "                                                   tags  \n",
       "0     in the 22nd century, a paraplegic marine is di...  \n",
       "1     captain barbossa, long believed to be dead, ha...  \n",
       "2     a cryptic message from bond’s past sends him o...  \n",
       "3     following the death of district attorney harve...  \n",
       "4     john carter is a war-weary, former military ca...  \n",
       "...                                                 ...  \n",
       "7651  crime v.ravichandran kushboo anantnag v.ravich...  \n",
       "7652  romance chethankumar nithyamenon sarathkumar n...  \n",
       "7653  the plot is simple. ranganna (rangayana raghu)...  \n",
       "7654  comedy romance ganesh amulya anantnag manjuswaraj  \n",
       "7655                                 s.r.puttanakanagal  \n",
       "\n",
       "[7656 rows x 3 columns]"
      ]
     },
     "execution_count": 80,
     "metadata": {},
     "output_type": "execute_result"
    }
   ],
   "source": [
    "new_movies"
   ]
  },
  {
   "cell_type": "markdown",
   "id": "ff5a09d1-36f6-4141-8f3d-a028e08f04ba",
   "metadata": {},
   "source": [
    "### Stemming words with NLTK\n",
    "**Stemming** is the process of producing morphological variants of a root/base word.<br>\n",
    "For e.g,<br>\n",
    "1. \"likes\"\n",
    "2. \"liked\"\n",
    "3. \"likely\"\n",
    "4. \"liking\"<br>\n",
    "\n",
    "Root Word: 'like'"
   ]
  },
  {
   "cell_type": "markdown",
   "id": "8b6199cc-75c7-4d45-848e-53778d011957",
   "metadata": {},
   "source": [
    "#### Library (NLTK)\n",
    "#### Function stem(string)\n",
    "**Output:** String of stemmed words"
   ]
  },
  {
   "cell_type": "markdown",
   "id": "b0ecc4b8-e651-4068-8e3d-a375e50783d3",
   "metadata": {},
   "source": [
    "#### Porter Stemmer"
   ]
  },
  {
   "cell_type": "code",
   "execution_count": 81,
   "id": "f28d575a-4dcb-40d6-ad33-437f978e0cb8",
   "metadata": {},
   "outputs": [],
   "source": [
    "# from nltk.stem.porter import PorterStemmer\n",
    "# ps = PorterStemmer()"
   ]
  },
  {
   "cell_type": "code",
   "execution_count": 82,
   "id": "7a8e1aae-fa4a-4be4-861e-dcdb3248287c",
   "metadata": {},
   "outputs": [],
   "source": [
    "# def stemPS(text):\n",
    "#     L = []\n",
    "#     for i in text.split():\n",
    "#         L.append(ps.stem(i))\n",
    "#     string = \" \".join(L)\n",
    "#     return string"
   ]
  },
  {
   "cell_type": "markdown",
   "id": "b23a27f7-5c51-45cb-80ef-35bf1474bc76",
   "metadata": {},
   "source": [
    "#### Snowball Stemmer"
   ]
  },
  {
   "cell_type": "code",
   "execution_count": 83,
   "id": "126a92c7-ed75-4401-a6e8-ed4ef105815d",
   "metadata": {},
   "outputs": [],
   "source": [
    "from nltk.stem.snowball import SnowballStemmer\n",
    "sb = SnowballStemmer(language='english')"
   ]
  },
  {
   "cell_type": "code",
   "execution_count": 84,
   "id": "ff61681a-ff74-4f56-a9dd-34de5d5d0d84",
   "metadata": {},
   "outputs": [],
   "source": [
    "def stem(text):\n",
    "    L = []\n",
    "    for i in text.split():\n",
    "        L.append(sb.stem(i))\n",
    "    string = \" \".join(L)\n",
    "    return string"
   ]
  },
  {
   "cell_type": "code",
   "execution_count": 85,
   "id": "f925d2aa-fe76-4aa0-aa8a-cff1ef8676b8",
   "metadata": {},
   "outputs": [],
   "source": [
    "# with pd.option_context('display.max_colwidth', None):\n",
    "#     display(new_movies['tags'].apply(stemPS))\n",
    "# new_movies['tags'].apply(stemPS)"
   ]
  },
  {
   "cell_type": "code",
   "execution_count": 86,
   "id": "135b016b-e726-46bf-8967-40b8f48e3a10",
   "metadata": {},
   "outputs": [],
   "source": [
    "# with pd.option_context('display.max_colwidth', None):\n",
    "#     display(new_movies['tags'].apply(stem))\n",
    "# new_movies['tags'].apply(stem)"
   ]
  },
  {
   "cell_type": "code",
   "execution_count": 87,
   "id": "192ea847-83a6-483b-a709-3361ae3f5377",
   "metadata": {},
   "outputs": [],
   "source": [
    "new_movies['tags'] = new_movies['tags'].apply(stem)"
   ]
  },
  {
   "cell_type": "code",
   "execution_count": 88,
   "id": "a736d1de-e14f-43a1-8a2e-b6d9d94fa68a",
   "metadata": {},
   "outputs": [
    {
     "data": {
      "text/html": [
       "<div>\n",
       "<style scoped>\n",
       "    .dataframe tbody tr th:only-of-type {\n",
       "        vertical-align: middle;\n",
       "    }\n",
       "\n",
       "    .dataframe tbody tr th {\n",
       "        vertical-align: top;\n",
       "    }\n",
       "\n",
       "    .dataframe thead th {\n",
       "        text-align: right;\n",
       "    }\n",
       "</style>\n",
       "<table border=\"1\" class=\"dataframe\">\n",
       "  <thead>\n",
       "    <tr style=\"text-align: right;\">\n",
       "      <th></th>\n",
       "      <th>movie_id</th>\n",
       "      <th>title</th>\n",
       "      <th>tags</th>\n",
       "    </tr>\n",
       "  </thead>\n",
       "  <tbody>\n",
       "    <tr>\n",
       "      <th>0</th>\n",
       "      <td>19995</td>\n",
       "      <td>Avatar</td>\n",
       "      <td>in the 22nd century, a parapleg marin is dispa...</td>\n",
       "    </tr>\n",
       "    <tr>\n",
       "      <th>1</th>\n",
       "      <td>285</td>\n",
       "      <td>Pirates of the Caribbean: At World's End</td>\n",
       "      <td>captain barbossa, long believ to be dead, has ...</td>\n",
       "    </tr>\n",
       "    <tr>\n",
       "      <th>2</th>\n",
       "      <td>206647</td>\n",
       "      <td>Spectre</td>\n",
       "      <td>a cryptic messag from bond past send him on a ...</td>\n",
       "    </tr>\n",
       "    <tr>\n",
       "      <th>3</th>\n",
       "      <td>49026</td>\n",
       "      <td>The Dark Knight Rises</td>\n",
       "      <td>follow the death of district attorney harvey d...</td>\n",
       "    </tr>\n",
       "    <tr>\n",
       "      <th>4</th>\n",
       "      <td>49529</td>\n",
       "      <td>John Carter</td>\n",
       "      <td>john carter is a war-weary, former militari ca...</td>\n",
       "    </tr>\n",
       "  </tbody>\n",
       "</table>\n",
       "</div>"
      ],
      "text/plain": [
       "  movie_id                                     title  \\\n",
       "0    19995                                    Avatar   \n",
       "1      285  Pirates of the Caribbean: At World's End   \n",
       "2   206647                                   Spectre   \n",
       "3    49026                     The Dark Knight Rises   \n",
       "4    49529                               John Carter   \n",
       "\n",
       "                                                tags  \n",
       "0  in the 22nd century, a parapleg marin is dispa...  \n",
       "1  captain barbossa, long believ to be dead, has ...  \n",
       "2  a cryptic messag from bond past send him on a ...  \n",
       "3  follow the death of district attorney harvey d...  \n",
       "4  john carter is a war-weary, former militari ca...  "
      ]
     },
     "execution_count": 88,
     "metadata": {},
     "output_type": "execute_result"
    }
   ],
   "source": [
    "new_movies.head()"
   ]
  },
  {
   "cell_type": "markdown",
   "id": "33005522-c557-453f-a426-532633a1171e",
   "metadata": {},
   "source": [
    "# Model Building"
   ]
  },
  {
   "cell_type": "markdown",
   "id": "632c9ea2-afe7-47b4-a37b-a833c04d6d27",
   "metadata": {},
   "source": [
    "## Text Vectorization"
   ]
  },
  {
   "cell_type": "markdown",
   "id": "27664782-9044-4df9-8cab-1b9cd8063f32",
   "metadata": {},
   "source": [
    "**Technique: Bag Of Words**<br>\n",
    "1. Bag all words (All tags of 1 movie as one group)\n",
    "2. Calculate the most commonly used words from the bag (Numerically)\n",
    "3. Then Convert and plot as a Vector\n",
    "4. Check distance from the choosen vector and suggest nearest vector"
   ]
  },
  {
   "cell_type": "markdown",
   "id": "eecb7516-f547-4dcd-b3cd-e653a0b73b55",
   "metadata": {},
   "source": [
    "**sklearn.feature_extraction.text.CountVectorizer**  Class that converts a collection of text documents to a matrix of token counts."
   ]
  },
  {
   "cell_type": "markdown",
   "id": "73b285b5-f44d-476f-8941-3dc3200dae30",
   "metadata": {},
   "source": [
    "### Library (sklearn, Count Verctorizer)"
   ]
  },
  {
   "cell_type": "code",
   "execution_count": 89,
   "id": "9a568279-3b21-41c4-a372-71badb314616",
   "metadata": {},
   "outputs": [],
   "source": [
    "from sklearn.feature_extraction.text import CountVectorizer\n",
    "cv = CountVectorizer(max_features=30000, stop_words='english')\n",
    "vector_matrix = cv.fit_transform(new_movies['tags'])"
   ]
  },
  {
   "cell_type": "code",
   "execution_count": 90,
   "id": "6bdf7c49-772c-49fe-bec4-178459ac9b65",
   "metadata": {},
   "outputs": [
    {
     "data": {
      "text/plain": [
       "(7656, 30000)"
      ]
     },
     "execution_count": 90,
     "metadata": {},
     "output_type": "execute_result"
    }
   ],
   "source": [
    "vector_matrix.shape"
   ]
  },
  {
   "cell_type": "code",
   "execution_count": 91,
   "id": "180df988-d24f-4467-bcf8-0defd9189de7",
   "metadata": {
    "scrolled": true
   },
   "outputs": [],
   "source": [
    "# np.set_printoptions(threshold=np.inf)\n",
    "# print(cv.get_feature_names_out())\n",
    "# cv.get_feature_names_out()"
   ]
  },
  {
   "cell_type": "markdown",
   "id": "97bb02d7-21b2-4615-924b-4991aea7183d",
   "metadata": {},
   "source": [
    "### Library (sklearn, TF-IDF)\n",
    "**TF-IDF (Term Frequency - Inverse Document Frequency)**"
   ]
  },
  {
   "cell_type": "markdown",
   "id": "8d77773b-01ee-47c4-a813-bb61bb9bd825",
   "metadata": {},
   "source": [
    "When to Choose:\n",
    "- **CountVectorizer** if the absolute frequency of words is important and you want a simple representation of word counts.\n",
    "\n",
    "- **TfidfVectorizer** if you want to consider the importance of words in the entire corpus and want to downweight common words that appear in many documents."
   ]
  },
  {
   "cell_type": "code",
   "execution_count": 92,
   "id": "c3cb07d1-7a48-4354-b968-59cceaeaa005",
   "metadata": {},
   "outputs": [],
   "source": [
    "# from sklearn.feature_extraction.text import TfidfVectorizer\n",
    "# tf = TfidfVectorizer(stop_words = 'english', dtype=np.float32)\n",
    "# vector_matrix = tf.fit_transform(new_movies['tags'])"
   ]
  },
  {
   "cell_type": "code",
   "execution_count": 93,
   "id": "83b418f4-4ea2-4d7e-b1e8-bf3a09635c2a",
   "metadata": {},
   "outputs": [],
   "source": [
    "# vector_matrix"
   ]
  },
  {
   "cell_type": "code",
   "execution_count": 94,
   "id": "220a12d6-4876-4f8c-9ccd-81760ced2258",
   "metadata": {},
   "outputs": [],
   "source": [
    "# vector_matrix.shape"
   ]
  },
  {
   "cell_type": "code",
   "execution_count": 95,
   "id": "a0fdf41b-8e97-41cf-aeea-e29e0daf35f6",
   "metadata": {},
   "outputs": [],
   "source": [
    "# tf.get_feature_names_out()"
   ]
  },
  {
   "cell_type": "markdown",
   "id": "c09a1d7b-d5ed-4177-8df2-5d5297b28384",
   "metadata": {},
   "source": [
    "**Why Count Vectorizer is choosen over TDIDF**\n",
    "- **Sparsity of TF-IDF matrices:** TF-IDF matrices are typically sparse, especially in scenarios with large vocabularies and short documents. This sparsity can lead to challenges in capturing meaningful relationships between movies, especially when the dataset is relatively small.\n",
    "- **TF-IDF may lose local context:** TF-IDF, by focusing on the importance of individual terms, might lose some of this local context compared to Count Vectorization.\n",
    "- **Challenges in small datasets:** In scenarios with small datasets, TF-IDF might not have enough information to effectively capture term importance and might be more prone to overfitting or underfitting compared to simpler methods like Count Vectorization.\n",
    "- **TF-IDF treats terms independently:** While TF-IDF considers the importance of terms, it treats them independently of each other. In movie recommendations, understanding the relationships and co-occurrences of terms might be important, and Count Vectorization can capture this information."
   ]
  },
  {
   "cell_type": "markdown",
   "id": "a8eb9350-8b13-4028-a849-01d734c5bb07",
   "metadata": {},
   "source": [
    "## Similarity Measure"
   ]
  },
  {
   "cell_type": "markdown",
   "id": "fedd0fe4-f1af-49a8-9890-289cd8891274",
   "metadata": {},
   "source": [
    "**Cosine similarity** is the cosine of the angle between the vectors.<br>\n",
    "Distance inversely proportional to similarity.<br>\n",
    "Values: 0 to 1 (1 : most similar, 0 : not so similar)"
   ]
  },
  {
   "cell_type": "markdown",
   "id": "ebfc56d1-214d-417c-879b-3102524cb55e",
   "metadata": {},
   "source": [
    "### Library (Cosine_similarity)"
   ]
  },
  {
   "cell_type": "code",
   "execution_count": 96,
   "id": "cc5b1401-9be9-4b8a-a81b-9425d206ecf0",
   "metadata": {},
   "outputs": [],
   "source": [
    "from sklearn.metrics.pairwise import cosine_similarity"
   ]
  },
  {
   "cell_type": "markdown",
   "id": "a006222c-e57b-47f7-85f3-ecdfda529cdb",
   "metadata": {},
   "source": [
    "Distance of a movie from all other movies."
   ]
  },
  {
   "cell_type": "code",
   "execution_count": 97,
   "id": "437996fd-0810-4c3b-8e6c-ba23727d577e",
   "metadata": {},
   "outputs": [],
   "source": [
    "similarity = cosine_similarity(vector_matrix)"
   ]
  },
  {
   "cell_type": "code",
   "execution_count": 98,
   "id": "d96112d8-bcae-45ee-b338-11c9fd7274d2",
   "metadata": {},
   "outputs": [
    {
     "data": {
      "text/plain": [
       "(7656, 7656)"
      ]
     },
     "execution_count": 98,
     "metadata": {},
     "output_type": "execute_result"
    }
   ],
   "source": [
    "# Sparse matrix\n",
    "similarity.shape"
   ]
  },
  {
   "cell_type": "code",
   "execution_count": 99,
   "id": "7dc629b8-ea2c-421f-b6c3-6b0062ca7cd1",
   "metadata": {},
   "outputs": [
    {
     "data": {
      "text/plain": [
       "array([1.        , 0.06952347, 0.06952347, ..., 0.        , 0.06388766,\n",
       "       0.        ])"
      ]
     },
     "execution_count": 99,
     "metadata": {},
     "output_type": "execute_result"
    }
   ],
   "source": [
    "similarity[0]"
   ]
  },
  {
   "cell_type": "code",
   "execution_count": 100,
   "id": "05ccb04e-623b-40ef-ba63-afaecb5e68a1",
   "metadata": {},
   "outputs": [
    {
     "data": {
      "text/plain": [
       "array([0.06952347, 1.        , 0.05263158, ..., 0.03244428, 0.        ,\n",
       "       0.        ])"
      ]
     },
     "execution_count": 100,
     "metadata": {},
     "output_type": "execute_result"
    }
   ],
   "source": [
    "similarity[1]"
   ]
  },
  {
   "cell_type": "code",
   "execution_count": 101,
   "id": "403ad8b1-98f0-4fc1-afda-f754263d9dad",
   "metadata": {},
   "outputs": [
    {
     "data": {
      "text/plain": [
       "array([[1.        , 0.06952347, 0.06952347, ..., 0.        , 0.06388766,\n",
       "        0.        ],\n",
       "       [0.06952347, 1.        , 0.05263158, ..., 0.03244428, 0.        ,\n",
       "        0.        ],\n",
       "       [0.06952347, 0.05263158, 1.        , ..., 0.        , 0.        ,\n",
       "        0.        ],\n",
       "       ...,\n",
       "       [0.        , 0.03244428, 0.        , ..., 1.        , 0.08944272,\n",
       "        0.        ],\n",
       "       [0.06388766, 0.        , 0.        , ..., 0.08944272, 1.        ,\n",
       "        0.        ],\n",
       "       [0.        , 0.        , 0.        , ..., 0.        , 0.        ,\n",
       "        1.        ]])"
      ]
     },
     "execution_count": 101,
     "metadata": {},
     "output_type": "execute_result"
    }
   ],
   "source": [
    "similarity"
   ]
  },
  {
   "cell_type": "markdown",
   "id": "0dc6147f-1b15-48c8-8545-e8c4e2af4aaa",
   "metadata": {},
   "source": [
    "# Recommend Function"
   ]
  },
  {
   "cell_type": "code",
   "execution_count": 102,
   "id": "f81e0c46-e000-4ebe-9439-0e5d39b18078",
   "metadata": {},
   "outputs": [],
   "source": [
    "def recommend(movie):\n",
    "    movie_index = new_movies[new_movies['title'] == movie].index[0]\n",
    "    distances = similarity[movie_index]\n",
    "    movies_list = sorted(list(enumerate(distances)),reverse=True,key=lambda x:x[1])[1:6]\n",
    "    for i in movies_list:\n",
    "        print(new_movies.iloc[i[0]].title)"
   ]
  },
  {
   "cell_type": "code",
   "execution_count": 103,
   "id": "150be70f-c8a0-4d3f-9a7d-54e839cb8a86",
   "metadata": {},
   "outputs": [
    {
     "name": "stdout",
     "output_type": "stream",
     "text": [
      "Superman II\n",
      "Superman Returns\n",
      "Superman IV: The Quest for Peace\n",
      "Superman III\n",
      "Man of Steel\n"
     ]
    }
   ],
   "source": [
    "recommend('Superman')"
   ]
  },
  {
   "cell_type": "code",
   "execution_count": 104,
   "id": "3114eed7-cb8a-4c15-b2a5-a0ca14267e5e",
   "metadata": {},
   "outputs": [
    {
     "name": "stdout",
     "output_type": "stream",
     "text": [
      "Harry Potter and the Order of the Phoenix\n",
      "Harry Potter and the Goblet of Fire\n",
      "Harry Potter and the Prisoner of Azkaban\n",
      "Harry Potter and the Chamber of Secrets\n",
      "Harry Potter and the Philosopher's Stone\n"
     ]
    }
   ],
   "source": [
    "recommend('Harry Potter and the Half-Blood Prince')"
   ]
  },
  {
   "cell_type": "code",
   "execution_count": 105,
   "id": "9f6b3e99-7652-469d-a689-190d6d89d388",
   "metadata": {},
   "outputs": [
    {
     "name": "stdout",
     "output_type": "stream",
     "text": [
      "Toy Story 2\n",
      "Toy Story 3\n",
      "The 40 Year Old Virgin\n",
      "How to Lose a Guy in 10 Days\n",
      "Stuart Little 2\n"
     ]
    }
   ],
   "source": [
    "recommend('Toy Story')"
   ]
  },
  {
   "cell_type": "code",
   "execution_count": 106,
   "id": "6e444161-247f-4af4-9daa-682e0d5dc8f8",
   "metadata": {},
   "outputs": [
    {
     "name": "stdout",
     "output_type": "stream",
     "text": [
      "Kanha\n",
      "Amidst the Devil's Wings\n",
      "India's Daughter\n",
      "Laal Rang\n",
      "Sanakeithel\n"
     ]
    }
   ],
   "source": [
    "recommend('Gangs of Wasseypur')"
   ]
  },
  {
   "cell_type": "markdown",
   "id": "1f647d72-a52c-4365-92b1-ead5125aa4ac",
   "metadata": {},
   "source": [
    "# Model dump"
   ]
  },
  {
   "cell_type": "markdown",
   "id": "17d7efae-c103-450d-947f-59354e1d35a9",
   "metadata": {},
   "source": [
    "**Why zstandard?**\n",
    "- It offers a good balance between compression speed and ratio.\n",
    "- It supports wide range of compression levels (0-22).\n",
    "- LZ4 is faster than Zstandard, but achieving higher compression ratios without sacrificing too much speed is important."
   ]
  },
  {
   "cell_type": "code",
   "execution_count": 112,
   "id": "a242a0da-a343-423f-9043-d1fed97df4fd",
   "metadata": {},
   "outputs": [],
   "source": [
    "import zstandard as zstd\n",
    "import pickle\n",
    "import os\n",
    "\n",
    "def compress__zstd(title, model, compression_level=17):\n",
    "    # Serialize the model using pickle\n",
    "    serialized_model = pickle.dumps(model, protocol=pickle.HIGHEST_PROTOCOL)\n",
    "\n",
    "    # Compress the serialized model using zstd\n",
    "    cctx = zstd.ZstdCompressor(level=compression_level)\n",
    "    compressed_data = cctx.compress(serialized_model)\n",
    "\n",
    "    # Save the compressed data to a file\n",
    "    file_path = os.path.join('data/pkl_data', title + '.zstd')\n",
    "    with open(file_path, 'wb') as f:\n",
    "        f.write(compressed_data)"
   ]
  },
  {
   "cell_type": "code",
   "execution_count": 113,
   "id": "43384669-50a1-4548-ac87-3f17f1cecbe6",
   "metadata": {},
   "outputs": [],
   "source": [
    "compress__zstd('movies_df', new_movies)"
   ]
  },
  {
   "cell_type": "code",
   "execution_count": 114,
   "id": "cbe61b53-66cd-4ab9-b9e4-15fd0c6710d4",
   "metadata": {},
   "outputs": [],
   "source": [
    "compress__zstd('similarity', similarity)"
   ]
  },
  {
   "cell_type": "code",
   "execution_count": 107,
   "id": "4cbdd8cb-8e29-407d-b538-2fc5ba10d38c",
   "metadata": {},
   "outputs": [],
   "source": [
    "# import pickle\n",
    "# import bz2file as bz2\n",
    "# import os"
   ]
  },
  {
   "cell_type": "code",
   "execution_count": 108,
   "id": "d049816b-0933-400a-a55b-9df2183069ae",
   "metadata": {},
   "outputs": [],
   "source": [
    "# def compressed_pickle(title, data):\n",
    "#     # Create the full path by joining the notebook directory and the file title\n",
    "#     file_path = os.path.join('data/pkl_data', title + '.zlib')\n",
    "    \n",
    "#     with bz2.BZ2File(file_path, 'w', compresslevel=9) as f:\n",
    "#         pickle.dump(data, f)"
   ]
  },
  {
   "cell_type": "code",
   "execution_count": 109,
   "id": "6b921e69-5d24-410d-8ea4-c2fb5b7c503a",
   "metadata": {},
   "outputs": [],
   "source": [
    "# compressed_pickle('movies_df', new_movies)"
   ]
  },
  {
   "cell_type": "code",
   "execution_count": 110,
   "id": "a375b41d-4666-404a-801e-70d8b1ea66b9",
   "metadata": {},
   "outputs": [],
   "source": [
    "# compressed_pickle('similarity', similarity)"
   ]
  },
  {
   "cell_type": "code",
   "execution_count": 111,
   "id": "c3f34b91-f7b7-4699-9972-209d5d2ce0df",
   "metadata": {},
   "outputs": [],
   "source": [
    "# import lz4.frame\n",
    "# import pickle\n",
    "\n",
    "# def compress(title, model):\n",
    "#     # Compress the model data using lz4\n",
    "#     compressed_data = lz4.frame.compress((pickle.dumps(model)), compression_level=16)\n",
    "\n",
    "#     # Write the compressed data to a file\n",
    "#     file_path = os.path.join('data/pkl_data', title + '.lz4')\n",
    "#     with open(file_path, 'wb') as f:\n",
    "#         f.write(compressed_data)\n"
   ]
  }
 ],
 "metadata": {
  "kernelspec": {
   "display_name": "movie",
   "language": "python",
   "name": "movie"
  },
  "language_info": {
   "codemirror_mode": {
    "name": "ipython",
    "version": 3
   },
   "file_extension": ".py",
   "mimetype": "text/x-python",
   "name": "python",
   "nbconvert_exporter": "python",
   "pygments_lexer": "ipython3",
   "version": "3.10.12"
  }
 },
 "nbformat": 4,
 "nbformat_minor": 5
}
